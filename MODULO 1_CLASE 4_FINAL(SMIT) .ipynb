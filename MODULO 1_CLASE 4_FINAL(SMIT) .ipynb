{
 "cells": [
  {
   "cell_type": "markdown",
   "metadata": {},
   "source": [
    "# TEMAS:\n",
    "## TEMA 7. Tratamiento del Balanceo de datos\n",
    "## TEMA 8. Discretización de datos"
   ]
  },
  {
   "cell_type": "code",
   "execution_count": 1,
   "metadata": {},
   "outputs": [],
   "source": [
    "from IPython.display import Image\n",
    "%matplotlib inline"
   ]
  },
  {
   "cell_type": "markdown",
   "metadata": {},
   "source": [
    "Información o «dataset» con múltiples clases es entendida como desbalanceada cuando las clases minoritarias están sub-representadas en oposición a la clase mayoritaria.\n",
    "\n",
    "link: https://imbalanced-learn.readthedocs.io/en/stable/"
   ]
  },
  {
   "cell_type": "markdown",
   "metadata": {},
   "source": [
    "## TEMA 7. Tratamiento del Balanceo de datos"
   ]
  },
  {
   "cell_type": "markdown",
   "metadata": {},
   "source": [
    "**Problemática:**\n",
    "- Los algoritmos de clasificación funcionan pobremente en la clase minoritaria.\n",
    "- El costo de mala clasificación en dicha clase suele ser mucho mayor que el resto.\n",
    "- En muchos dominios del mundo real existe una clase dentro de la variable de estudio o target la cual acumula la gran mayoría de elementos."
   ]
  },
  {
   "cell_type": "markdown",
   "metadata": {},
   "source": [
    "**Estrategias de balanceo:**\n",
    "\n",
    "Existen en la literatura muchas maneras o metodologías para balancear o equilibrar las clases, cada una dependiendo de la proporción de elementos en cada una de las clases y del tipo de problema que uno está abordando. Entre las más usadas y estudiadas tenemos:"
   ]
  },
  {
   "cell_type": "markdown",
   "metadata": {},
   "source": [
    "- UnderSampling\n",
    "- OverSamplig\n",
    "- SMOTE\n",
    "- Resampling"
   ]
  },
  {
   "cell_type": "code",
   "execution_count": 2,
   "metadata": {},
   "outputs": [],
   "source": [
    "import os\n",
    "import pandas as pd\n",
    "import matplotlib.pyplot as plt\n",
    "import seaborn as sns"
   ]
  },
  {
   "cell_type": "code",
   "execution_count": 3,
   "metadata": {},
   "outputs": [
    {
     "name": "stdout",
     "output_type": "stream",
     "text": [
      "Requirement already satisfied: imblearn in c:\\programdata\\anaconda3\\lib\\site-packages (0.0)\n",
      "Requirement already satisfied: imbalanced-learn in c:\\programdata\\anaconda3\\lib\\site-packages (from imblearn) (0.7.0)\n",
      "Requirement already satisfied: joblib>=0.11 in c:\\programdata\\anaconda3\\lib\\site-packages (from imbalanced-learn->imblearn) (0.17.0)\n",
      "Requirement already satisfied: scipy>=0.19.1 in c:\\programdata\\anaconda3\\lib\\site-packages (from imbalanced-learn->imblearn) (1.5.2)\n",
      "Requirement already satisfied: numpy>=1.13.3 in c:\\programdata\\anaconda3\\lib\\site-packages (from imbalanced-learn->imblearn) (1.19.2)\n",
      "Requirement already satisfied: scikit-learn>=0.23 in c:\\programdata\\anaconda3\\lib\\site-packages (from imbalanced-learn->imblearn) (0.23.2)\n",
      "Requirement already satisfied: threadpoolctl>=2.0.0 in c:\\programdata\\anaconda3\\lib\\site-packages (from scikit-learn>=0.23->imbalanced-learn->imblearn) (2.1.0)\n",
      "Note: you may need to restart the kernel to use updated packages.\n"
     ]
    }
   ],
   "source": [
    "pip install imblearn"
   ]
  },
  {
   "cell_type": "code",
   "execution_count": 4,
   "metadata": {},
   "outputs": [],
   "source": [
    "# imbalanced-learn requiere los siguientes paquetes:\n",
    "import numpy as np\n",
    "import scipy\n",
    "import sklearn\n",
    "import imblearn\n",
    "#import tensorflow #(opcional)\n",
    "#import keras #requiere instalar tensorflow (opcional)"
   ]
  },
  {
   "cell_type": "code",
   "execution_count": 5,
   "metadata": {},
   "outputs": [],
   "source": [
    "from imblearn.under_sampling import NearMiss\n",
    "from imblearn.over_sampling import RandomOverSampler\n",
    "from imblearn.combine import SMOTETomek\n",
    "from imblearn.ensemble import BalancedBaggingClassifier\n",
    "from sklearn.model_selection import train_test_split  #Para particionar los datos en training y testing"
   ]
  },
  {
   "cell_type": "code",
   "execution_count": 6,
   "metadata": {},
   "outputs": [
    {
     "data": {
      "text/plain": [
       "'C:\\\\Users\\\\user'"
      ]
     },
     "execution_count": 6,
     "metadata": {},
     "output_type": "execute_result"
    }
   ],
   "source": [
    "os.getcwd() #esto te permite conocer el directorio actual"
   ]
  },
  {
   "cell_type": "code",
   "execution_count": 7,
   "metadata": {},
   "outputs": [],
   "source": [
    "os.chdir(r\"E:\\PYTHOM\\MODULO 1\\CLASE 4\") # la ruta absoluta\n",
    "#una vez ubicado en el directorio adecuado puedes ejecutar el comando "
   ]
  },
  {
   "cell_type": "code",
   "execution_count": 8,
   "metadata": {},
   "outputs": [
    {
     "name": "stderr",
     "output_type": "stream",
     "text": [
      "C:\\ProgramData\\Anaconda3\\lib\\site-packages\\IPython\\core\\interactiveshell.py:3146: DtypeWarning: Columns (6) have mixed types.Specify dtype option on import or set low_memory=False.\n",
      "  has_raised = await self.run_ast_nodes(code_ast.body, cell_name,\n"
     ]
    },
    {
     "data": {
      "text/html": [
       "<div>\n",
       "<style scoped>\n",
       "    .dataframe tbody tr th:only-of-type {\n",
       "        vertical-align: middle;\n",
       "    }\n",
       "\n",
       "    .dataframe tbody tr th {\n",
       "        vertical-align: top;\n",
       "    }\n",
       "\n",
       "    .dataframe thead th {\n",
       "        text-align: right;\n",
       "    }\n",
       "</style>\n",
       "<table border=\"1\" class=\"dataframe\">\n",
       "  <thead>\n",
       "    <tr style=\"text-align: right;\">\n",
       "      <th></th>\n",
       "      <th>Description</th>\n",
       "      <th>Col_Name</th>\n",
       "      <th>Row_Name</th>\n",
       "      <th>rsrp</th>\n",
       "      <th>incidentes</th>\n",
       "      <th>redireccion</th>\n",
       "      <th>best_server</th>\n",
       "      <th>cqi</th>\n",
       "    </tr>\n",
       "  </thead>\n",
       "  <tbody>\n",
       "    <tr>\n",
       "      <th>0</th>\n",
       "      <td>A1</td>\n",
       "      <td>A</td>\n",
       "      <td>1</td>\n",
       "      <td>0.0</td>\n",
       "      <td>0</td>\n",
       "      <td>0.0</td>\n",
       "      <td>NaN</td>\n",
       "      <td>0.0</td>\n",
       "    </tr>\n",
       "    <tr>\n",
       "      <th>1</th>\n",
       "      <td>A2</td>\n",
       "      <td>A</td>\n",
       "      <td>2</td>\n",
       "      <td>0.0</td>\n",
       "      <td>0</td>\n",
       "      <td>0.0</td>\n",
       "      <td>NaN</td>\n",
       "      <td>0.0</td>\n",
       "    </tr>\n",
       "    <tr>\n",
       "      <th>2</th>\n",
       "      <td>A3</td>\n",
       "      <td>A</td>\n",
       "      <td>3</td>\n",
       "      <td>0.0</td>\n",
       "      <td>0</td>\n",
       "      <td>0.0</td>\n",
       "      <td>NaN</td>\n",
       "      <td>0.0</td>\n",
       "    </tr>\n",
       "    <tr>\n",
       "      <th>3</th>\n",
       "      <td>A4</td>\n",
       "      <td>A</td>\n",
       "      <td>4</td>\n",
       "      <td>0.0</td>\n",
       "      <td>0</td>\n",
       "      <td>0.0</td>\n",
       "      <td>NaN</td>\n",
       "      <td>0.0</td>\n",
       "    </tr>\n",
       "    <tr>\n",
       "      <th>4</th>\n",
       "      <td>A5</td>\n",
       "      <td>A</td>\n",
       "      <td>5</td>\n",
       "      <td>0.0</td>\n",
       "      <td>0</td>\n",
       "      <td>0.0</td>\n",
       "      <td>NaN</td>\n",
       "      <td>0.0</td>\n",
       "    </tr>\n",
       "  </tbody>\n",
       "</table>\n",
       "</div>"
      ],
      "text/plain": [
       "  Description Col_Name  Row_Name  rsrp  incidentes  redireccion best_server  \\\n",
       "0          A1        A         1   0.0           0          0.0         NaN   \n",
       "1          A2        A         2   0.0           0          0.0         NaN   \n",
       "2          A3        A         3   0.0           0          0.0         NaN   \n",
       "3          A4        A         4   0.0           0          0.0         NaN   \n",
       "4          A5        A         5   0.0           0          0.0         NaN   \n",
       "\n",
       "   cqi  \n",
       "0  0.0  \n",
       "1  0.0  \n",
       "2  0.0  \n",
       "3  0.0  \n",
       "4  0.0  "
      ]
     },
     "execution_count": 8,
     "metadata": {},
     "output_type": "execute_result"
    }
   ],
   "source": [
    "fileCSV=\"Grid v1.csv\"\n",
    "entel=pd.read_csv(fileCSV,sep=\",\")\n",
    "entel.head()"
   ]
  },
  {
   "cell_type": "code",
   "execution_count": 9,
   "metadata": {},
   "outputs": [
    {
     "name": "stdout",
     "output_type": "stream",
     "text": [
      "(197640, 8)\n"
     ]
    }
   ],
   "source": [
    "#Veamos la dimensión de mi Data Frame\n",
    "print(entel.shape)"
   ]
  },
  {
   "cell_type": "code",
   "execution_count": 10,
   "metadata": {},
   "outputs": [
    {
     "name": "stdout",
     "output_type": "stream",
     "text": [
      "(23103, 8)\n"
     ]
    }
   ],
   "source": [
    "#Sólo consideramos los valores menores a cero de la variable rsrp\n",
    "entel=entel.loc[entel['rsrp']<0]\n",
    "print(entel.shape)"
   ]
  },
  {
   "cell_type": "code",
   "execution_count": 11,
   "metadata": {},
   "outputs": [
    {
     "data": {
      "text/plain": [
       "0    21601\n",
       "1     1279\n",
       "2      167\n",
       "3       41\n",
       "4       11\n",
       "6        2\n",
       "7        1\n",
       "5        1\n",
       "Name: incidentes, dtype: int64"
      ]
     },
     "execution_count": 11,
     "metadata": {},
     "output_type": "execute_result"
    }
   ],
   "source": [
    "#Frecuencia por Número de Incidentes antes de recodificación\n",
    "pd.value_counts(entel.incidentes,sort=True)"
   ]
  },
  {
   "cell_type": "code",
   "execution_count": 12,
   "metadata": {},
   "outputs": [],
   "source": [
    "#Recodificando la target\n",
    "entel['incidentes']=entel['incidentes'].replace([2,3,4,5,6,7],1)"
   ]
  },
  {
   "cell_type": "code",
   "execution_count": 13,
   "metadata": {},
   "outputs": [
    {
     "data": {
      "text/plain": [
       "0    21601\n",
       "1     1502\n",
       "Name: incidentes, dtype: int64"
      ]
     },
     "execution_count": 13,
     "metadata": {},
     "output_type": "execute_result"
    }
   ],
   "source": [
    "#Frecuencia por Número de Incidentes después de recodificación\n",
    "incidentes_freq=pd.value_counts(entel.incidentes,sort=True)\n",
    "incidentes_freq"
   ]
  },
  {
   "cell_type": "code",
   "execution_count": 14,
   "metadata": {},
   "outputs": [
    {
     "data": {
      "text/plain": [
       "0    93.49868\n",
       "1     6.50132\n",
       "Name: incidentes, dtype: float64"
      ]
     },
     "execution_count": 14,
     "metadata": {},
     "output_type": "execute_result"
    }
   ],
   "source": [
    "#Cifras Referenciales\n",
    "incidentes_freq*100/sum(incidentes_freq)"
   ]
  },
  {
   "cell_type": "code",
   "execution_count": 15,
   "metadata": {},
   "outputs": [
    {
     "data": {
      "image/png": "[encoded data removed]",
      "text/plain": [
       "<Figure size 432x288 with 1 Axes>"
      ]
     },
     "metadata": {
      "needs_background": "light"
     },
     "output_type": "display_data"
    }
   ],
   "source": [
    "#Graficando la proporción en la variable Target\n",
    "pd.value_counts(entel.incidentes).plot(kind='bar')\n",
    "plt.title(\"Frecuencia del Número de Observaciones\")\n",
    "plt.xlabel(\"Ocurrencia de Incidentes\")\n",
    "plt.ylabel(\"Número de observaciones\")\n",
    "plt.show()"
   ]
  },
  {
   "cell_type": "code",
   "execution_count": 16,
   "metadata": {},
   "outputs": [
    {
     "data": {
      "text/html": [
       "<div>\n",
       "<style scoped>\n",
       "    .dataframe tbody tr th:only-of-type {\n",
       "        vertical-align: middle;\n",
       "    }\n",
       "\n",
       "    .dataframe tbody tr th {\n",
       "        vertical-align: top;\n",
       "    }\n",
       "\n",
       "    .dataframe thead th {\n",
       "        text-align: right;\n",
       "    }\n",
       "</style>\n",
       "<table border=\"1\" class=\"dataframe\">\n",
       "  <thead>\n",
       "    <tr style=\"text-align: right;\">\n",
       "      <th></th>\n",
       "      <th>rsrp</th>\n",
       "      <th>redireccion</th>\n",
       "      <th>cqi</th>\n",
       "      <th>incidentes</th>\n",
       "    </tr>\n",
       "  </thead>\n",
       "  <tbody>\n",
       "    <tr>\n",
       "      <th>14400</th>\n",
       "      <td>-115.7500</td>\n",
       "      <td>884.696988</td>\n",
       "      <td>10.856694</td>\n",
       "      <td>0</td>\n",
       "    </tr>\n",
       "    <tr>\n",
       "      <th>14949</th>\n",
       "      <td>-112.7500</td>\n",
       "      <td>381.359613</td>\n",
       "      <td>11.205094</td>\n",
       "      <td>0</td>\n",
       "    </tr>\n",
       "    <tr>\n",
       "      <th>15498</th>\n",
       "      <td>-118.3750</td>\n",
       "      <td>713.387431</td>\n",
       "      <td>8.729160</td>\n",
       "      <td>0</td>\n",
       "    </tr>\n",
       "    <tr>\n",
       "      <th>16046</th>\n",
       "      <td>-115.3750</td>\n",
       "      <td>307.311721</td>\n",
       "      <td>9.607077</td>\n",
       "      <td>0</td>\n",
       "    </tr>\n",
       "    <tr>\n",
       "      <th>16596</th>\n",
       "      <td>-118.1875</td>\n",
       "      <td>1728.576707</td>\n",
       "      <td>9.835512</td>\n",
       "      <td>0</td>\n",
       "    </tr>\n",
       "  </tbody>\n",
       "</table>\n",
       "</div>"
      ],
      "text/plain": [
       "           rsrp  redireccion        cqi  incidentes\n",
       "14400 -115.7500   884.696988  10.856694           0\n",
       "14949 -112.7500   381.359613  11.205094           0\n",
       "15498 -118.3750   713.387431   8.729160           0\n",
       "16046 -115.3750   307.311721   9.607077           0\n",
       "16596 -118.1875  1728.576707   9.835512           0"
      ]
     },
     "execution_count": 16,
     "metadata": {},
     "output_type": "execute_result"
    }
   ],
   "source": [
    "#Extrayendo sólo variables de interés\n",
    "entel=entel[[\"rsrp\",\"redireccion\",\"cqi\",\"incidentes\"]]\n",
    "entel.head()"
   ]
  },
  {
   "cell_type": "code",
   "execution_count": 17,
   "metadata": {},
   "outputs": [
    {
     "data": {
      "text/html": [
       "<div>\n",
       "<style scoped>\n",
       "    .dataframe tbody tr th:only-of-type {\n",
       "        vertical-align: middle;\n",
       "    }\n",
       "\n",
       "    .dataframe tbody tr th {\n",
       "        vertical-align: top;\n",
       "    }\n",
       "\n",
       "    .dataframe thead th {\n",
       "        text-align: right;\n",
       "    }\n",
       "</style>\n",
       "<table border=\"1\" class=\"dataframe\">\n",
       "  <thead>\n",
       "    <tr style=\"text-align: right;\">\n",
       "      <th></th>\n",
       "      <th>rsrp</th>\n",
       "      <th>redireccion</th>\n",
       "      <th>cqi</th>\n",
       "      <th>incidentes</th>\n",
       "    </tr>\n",
       "  </thead>\n",
       "  <tbody>\n",
       "    <tr>\n",
       "      <th>0</th>\n",
       "      <td>-115.7500</td>\n",
       "      <td>884.696988</td>\n",
       "      <td>10.856694</td>\n",
       "      <td>0</td>\n",
       "    </tr>\n",
       "    <tr>\n",
       "      <th>1</th>\n",
       "      <td>-112.7500</td>\n",
       "      <td>381.359613</td>\n",
       "      <td>11.205094</td>\n",
       "      <td>0</td>\n",
       "    </tr>\n",
       "    <tr>\n",
       "      <th>2</th>\n",
       "      <td>-118.3750</td>\n",
       "      <td>713.387431</td>\n",
       "      <td>8.729160</td>\n",
       "      <td>0</td>\n",
       "    </tr>\n",
       "    <tr>\n",
       "      <th>3</th>\n",
       "      <td>-115.3750</td>\n",
       "      <td>307.311721</td>\n",
       "      <td>9.607077</td>\n",
       "      <td>0</td>\n",
       "    </tr>\n",
       "    <tr>\n",
       "      <th>4</th>\n",
       "      <td>-118.1875</td>\n",
       "      <td>1728.576707</td>\n",
       "      <td>9.835512</td>\n",
       "      <td>0</td>\n",
       "    </tr>\n",
       "  </tbody>\n",
       "</table>\n",
       "</div>"
      ],
      "text/plain": [
       "       rsrp  redireccion        cqi  incidentes\n",
       "0 -115.7500   884.696988  10.856694           0\n",
       "1 -112.7500   381.359613  11.205094           0\n",
       "2 -118.3750   713.387431   8.729160           0\n",
       "3 -115.3750   307.311721   9.607077           0\n",
       "4 -118.1875  1728.576707   9.835512           0"
      ]
     },
     "execution_count": 17,
     "metadata": {},
     "output_type": "execute_result"
    }
   ],
   "source": [
    "entel.reset_index(drop=True,inplace=True)\n",
    "entel.head()"
   ]
  },
  {
   "cell_type": "code",
   "execution_count": 78,
   "metadata": {},
   "outputs": [
    {
     "name": "stdout",
     "output_type": "stream",
     "text": [
      "<class 'pandas.core.frame.DataFrame'>\n",
      "RangeIndex: 23103 entries, 0 to 23102\n",
      "Data columns (total 4 columns):\n",
      " #   Column       Non-Null Count  Dtype  \n",
      "---  ------       --------------  -----  \n",
      " 0   rsrp         23103 non-null  float64\n",
      " 1   redireccion  23103 non-null  float64\n",
      " 2   cqi          23103 non-null  float64\n",
      " 3   incidentes   23103 non-null  int64  \n",
      "dtypes: float64(3), int64(1)\n",
      "memory usage: 722.1 KB\n"
     ]
    }
   ],
   "source": [
    "entel.info()"
   ]
  },
  {
   "cell_type": "code",
   "execution_count": 18,
   "metadata": {},
   "outputs": [],
   "source": [
    "from sklearn.model_selection import train_test_split"
   ]
  },
  {
   "cell_type": "code",
   "execution_count": 19,
   "metadata": {},
   "outputs": [],
   "source": [
    "#Necesitamos identificar la matriz de datos x y la variable target y.\n",
    "x = entel.iloc[:, 0:3].values\n",
    "y = entel.iloc[:, 3].values\n",
    "\n",
    "#Dividimos un conjunto de prueba y de testeo en 70%,30%\n",
    "xtrain, xtest, ytrain, ytest =\\\n",
    "    train_test_split(x, #valores de los predictores\n",
    "                     y, #los valores del target\n",
    "                     test_size=0.3, #proporción para datos de testeo\n",
    "                     random_state=0, #semilla\n",
    "                     stratify=y) #la variable de estratificación"
   ]
  },
  {
   "cell_type": "code",
   "execution_count": 20,
   "metadata": {},
   "outputs": [
    {
     "data": {
      "text/plain": [
       "(numpy.ndarray, numpy.ndarray)"
      ]
     },
     "execution_count": 20,
     "metadata": {},
     "output_type": "execute_result"
    }
   ],
   "source": [
    "type(x), type(y)"
   ]
  },
  {
   "cell_type": "code",
   "execution_count": 21,
   "metadata": {},
   "outputs": [
    {
     "data": {
      "text/html": [
       "<div>\n",
       "<style scoped>\n",
       "    .dataframe tbody tr th:only-of-type {\n",
       "        vertical-align: middle;\n",
       "    }\n",
       "\n",
       "    .dataframe tbody tr th {\n",
       "        vertical-align: top;\n",
       "    }\n",
       "\n",
       "    .dataframe thead th {\n",
       "        text-align: right;\n",
       "    }\n",
       "</style>\n",
       "<table border=\"1\" class=\"dataframe\">\n",
       "  <thead>\n",
       "    <tr style=\"text-align: right;\">\n",
       "      <th></th>\n",
       "      <th>rsrp</th>\n",
       "      <th>redireccion</th>\n",
       "      <th>cqi</th>\n",
       "      <th>incidentes</th>\n",
       "    </tr>\n",
       "  </thead>\n",
       "  <tbody>\n",
       "    <tr>\n",
       "      <th>0</th>\n",
       "      <td>-118.7500</td>\n",
       "      <td>11229.222100</td>\n",
       "      <td>7.420288</td>\n",
       "      <td>0</td>\n",
       "    </tr>\n",
       "    <tr>\n",
       "      <th>1</th>\n",
       "      <td>-109.3750</td>\n",
       "      <td>4810.049775</td>\n",
       "      <td>8.735570</td>\n",
       "      <td>0</td>\n",
       "    </tr>\n",
       "    <tr>\n",
       "      <th>2</th>\n",
       "      <td>-118.5625</td>\n",
       "      <td>14817.830880</td>\n",
       "      <td>7.855299</td>\n",
       "      <td>0</td>\n",
       "    </tr>\n",
       "    <tr>\n",
       "      <th>3</th>\n",
       "      <td>-111.4375</td>\n",
       "      <td>374.690909</td>\n",
       "      <td>8.024744</td>\n",
       "      <td>0</td>\n",
       "    </tr>\n",
       "    <tr>\n",
       "      <th>4</th>\n",
       "      <td>-105.0625</td>\n",
       "      <td>771.971040</td>\n",
       "      <td>11.067591</td>\n",
       "      <td>0</td>\n",
       "    </tr>\n",
       "  </tbody>\n",
       "</table>\n",
       "</div>"
      ],
      "text/plain": [
       "       rsrp   redireccion        cqi  incidentes\n",
       "0 -118.7500  11229.222100   7.420288           0\n",
       "1 -109.3750   4810.049775   8.735570           0\n",
       "2 -118.5625  14817.830880   7.855299           0\n",
       "3 -111.4375    374.690909   8.024744           0\n",
       "4 -105.0625    771.971040  11.067591           0"
      ]
     },
     "execution_count": 21,
     "metadata": {},
     "output_type": "execute_result"
    }
   ],
   "source": [
    "#Datos de entrenamiento\n",
    "xtrain= pd.DataFrame(xtrain, columns=[\"rsrp\", \"redireccion\", \"cqi\"])\n",
    "ytrain= pd.DataFrame(ytrain, columns=[\"incidentes\"])\n",
    "\n",
    "entel_entrenamiento = pd.concat([xtrain, ytrain], axis=1)\n",
    "entel_entrenamiento.head()"
   ]
  },
  {
   "cell_type": "code",
   "execution_count": 22,
   "metadata": {},
   "outputs": [
    {
     "data": {
      "text/plain": [
       "0    15121\n",
       "1     1051\n",
       "Name: incidentes, dtype: int64"
      ]
     },
     "execution_count": 22,
     "metadata": {},
     "output_type": "execute_result"
    }
   ],
   "source": [
    "count_classes = pd.value_counts(entel_entrenamiento['incidentes'], sort = True)\n",
    "count_classes"
   ]
  },
  {
   "cell_type": "code",
   "execution_count": 23,
   "metadata": {},
   "outputs": [
    {
     "data": {
      "image/png": "[encoded data removed]",
      "text/plain": [
       "<Figure size 432x288 with 1 Axes>"
      ]
     },
     "metadata": {
      "needs_background": "light"
     },
     "output_type": "display_data"
    }
   ],
   "source": [
    "count_classes.plot(kind = 'bar', #bar: gráfico de barras.\n",
    "                   rot=0)#0 = no rotación de las etiquetas del eje x.\n",
    "plt.title(\"Frecuencia de número de observaciones\")\n",
    "plt.xlabel(\"ocurrencia de incidentes\")\n",
    "plt.ylabel(\"número de observaciones\")\n",
    "plt.show()"
   ]
  },
  {
   "cell_type": "code",
   "execution_count": 24,
   "metadata": {},
   "outputs": [
    {
     "name": "stdout",
     "output_type": "stream",
     "text": [
      "<class 'pandas.core.frame.DataFrame'>\n",
      "RangeIndex: 16172 entries, 0 to 16171\n",
      "Data columns (total 4 columns):\n",
      " #   Column       Non-Null Count  Dtype  \n",
      "---  ------       --------------  -----  \n",
      " 0   rsrp         16172 non-null  float64\n",
      " 1   redireccion  16172 non-null  float64\n",
      " 2   cqi          16172 non-null  float64\n",
      " 3   incidentes   16172 non-null  int64  \n",
      "dtypes: float64(3), int64(1)\n",
      "memory usage: 505.5 KB\n"
     ]
    }
   ],
   "source": [
    "entel_entrenamiento.info()"
   ]
  },
  {
   "cell_type": "markdown",
   "metadata": {},
   "source": [
    "## UnderSampling"
   ]
  },
  {
   "cell_type": "markdown",
   "metadata": {},
   "source": [
    "Registros de la clase mayoritaria en el conjunto de entrenamiento se eliminan al azar hasta que la relación o proporción entre la clase minoritaria y mayoritaria se encuentre en el nivel deseado."
   ]
  },
  {
   "cell_type": "markdown",
   "metadata": {},
   "source": [
    "**Desventaja:** podrían eliminarse ejemplos potencialmente importantes para el proceso de modelado o aprendizaje ."
   ]
  },
  {
   "cell_type": "code",
   "execution_count": 25,
   "metadata": {},
   "outputs": [
    {
     "data": {
      "image/png": "[encoded data removed]",
      "text/plain": [
       "<IPython.core.display.Image object>"
      ]
     },
     "execution_count": 25,
     "metadata": {
      "image/png": {
       "width": 400
      }
     },
     "output_type": "execute_result"
    }
   ],
   "source": [
    "Image(filename='E:\\PYTHOM\\MODULO 1\\CLASE 5/Captura de pantalla 2021-02-26 131531.png', width=400) "
   ]
  },
  {
   "cell_type": "code",
   "execution_count": 26,
   "metadata": {},
   "outputs": [],
   "source": [
    "#PRIMERO CREAMOS UNA INSTANCIA DE LA CLASE NearMiss\n",
    "under = NearMiss(sampling_strategy=0.8, \n",
    "                n_neighbors=11, \n",
    "                version=2) "
   ]
  },
  {
   "cell_type": "code",
   "execution_count": 27,
   "metadata": {},
   "outputs": [
    {
     "data": {
      "text/plain": [
       "imblearn.under_sampling._prototype_selection._nearmiss.NearMiss"
      ]
     },
     "execution_count": 27,
     "metadata": {},
     "output_type": "execute_result"
    }
   ],
   "source": [
    "type(under)"
   ]
  },
  {
   "cell_type": "code",
   "execution_count": 28,
   "metadata": {},
   "outputs": [],
   "source": [
    "xtrain_under,ytrain_under=under.fit_resample(xtrain,ytrain)"
   ]
  },
  {
   "cell_type": "code",
   "execution_count": 29,
   "metadata": {},
   "outputs": [
    {
     "data": {
      "text/html": [
       "<div>\n",
       "<style scoped>\n",
       "    .dataframe tbody tr th:only-of-type {\n",
       "        vertical-align: middle;\n",
       "    }\n",
       "\n",
       "    .dataframe tbody tr th {\n",
       "        vertical-align: top;\n",
       "    }\n",
       "\n",
       "    .dataframe thead th {\n",
       "        text-align: right;\n",
       "    }\n",
       "</style>\n",
       "<table border=\"1\" class=\"dataframe\">\n",
       "  <thead>\n",
       "    <tr style=\"text-align: right;\">\n",
       "      <th></th>\n",
       "      <th>rsrp</th>\n",
       "      <th>redireccion</th>\n",
       "      <th>cqi</th>\n",
       "      <th>incidentes</th>\n",
       "    </tr>\n",
       "  </thead>\n",
       "  <tbody>\n",
       "    <tr>\n",
       "      <th>0</th>\n",
       "      <td>-117.6250</td>\n",
       "      <td>72933.99877</td>\n",
       "      <td>8.991336</td>\n",
       "      <td>0</td>\n",
       "    </tr>\n",
       "    <tr>\n",
       "      <th>1</th>\n",
       "      <td>-112.1875</td>\n",
       "      <td>72922.84746</td>\n",
       "      <td>8.859823</td>\n",
       "      <td>0</td>\n",
       "    </tr>\n",
       "    <tr>\n",
       "      <th>2</th>\n",
       "      <td>-115.3750</td>\n",
       "      <td>73340.52754</td>\n",
       "      <td>9.920042</td>\n",
       "      <td>0</td>\n",
       "    </tr>\n",
       "    <tr>\n",
       "      <th>3</th>\n",
       "      <td>-112.9375</td>\n",
       "      <td>72782.29383</td>\n",
       "      <td>7.530053</td>\n",
       "      <td>0</td>\n",
       "    </tr>\n",
       "    <tr>\n",
       "      <th>4</th>\n",
       "      <td>-113.3125</td>\n",
       "      <td>72578.28974</td>\n",
       "      <td>8.988408</td>\n",
       "      <td>0</td>\n",
       "    </tr>\n",
       "  </tbody>\n",
       "</table>\n",
       "</div>"
      ],
      "text/plain": [
       "       rsrp  redireccion       cqi  incidentes\n",
       "0 -117.6250  72933.99877  8.991336           0\n",
       "1 -112.1875  72922.84746  8.859823           0\n",
       "2 -115.3750  73340.52754  9.920042           0\n",
       "3 -112.9375  72782.29383  7.530053           0\n",
       "4 -113.3125  72578.28974  8.988408           0"
      ]
     },
     "execution_count": 29,
     "metadata": {},
     "output_type": "execute_result"
    }
   ],
   "source": [
    "entel_entrenamiento_under=pd.concat([xtrain_under,ytrain_under],axis=1)\n",
    "entel_entrenamiento_under.head()"
   ]
  },
  {
   "cell_type": "code",
   "execution_count": 30,
   "metadata": {},
   "outputs": [
    {
     "data": {
      "text/plain": [
       "0    1313\n",
       "1    1051\n",
       "Name: incidentes, dtype: int64"
      ]
     },
     "execution_count": 30,
     "metadata": {},
     "output_type": "execute_result"
    }
   ],
   "source": [
    "count_classes_under = pd.value_counts(entel_entrenamiento_under['incidentes'], sort = True)\n",
    "count_classes_under"
   ]
  },
  {
   "cell_type": "code",
   "execution_count": 31,
   "metadata": {},
   "outputs": [
    {
     "data": {
      "text/plain": [
       "80.0"
      ]
     },
     "execution_count": 31,
     "metadata": {},
     "output_type": "execute_result"
    }
   ],
   "source": [
    "prop=round(count_classes_under[1]*100/count_classes_under[0],1)\n",
    "prop"
   ]
  },
  {
   "cell_type": "code",
   "execution_count": 32,
   "metadata": {},
   "outputs": [
    {
     "data": {
      "image/png": "[encoded data removed]",
      "text/plain": [
       "<Figure size 432x288 with 1 Axes>"
      ]
     },
     "metadata": {
      "needs_background": "light"
     },
     "output_type": "display_data"
    }
   ],
   "source": [
    "count_classes_under.plot(kind='bar',rot=0)\n",
    "plt.title(\"Frecuencias - UNDERSAMPLING\")\n",
    "plt.xlabel(\"Ocurrencia de Incidentes\")\n",
    "plt.ylabel(\"Número de Observaciones\")\n",
    "plt.show()"
   ]
  },
  {
   "cell_type": "markdown",
   "metadata": {},
   "source": [
    "## OverSampling"
   ]
  },
  {
   "cell_type": "markdown",
   "metadata": {},
   "source": [
    "Registros de la clase minoritaria en el conjunto de entrenamiento se replican o clonan al azar hasta que la relación o proporción entre la clase minoritaria y mayoritaria se encuentre en el nivel deseado."
   ]
  },
  {
   "cell_type": "markdown",
   "metadata": {},
   "source": [
    "**desventaja:** podría generarse sobre-estimación o sub-estimación dependiendo de la aleatoriedad y es muy costoso computacionalmente."
   ]
  },
  {
   "cell_type": "code",
   "execution_count": 33,
   "metadata": {},
   "outputs": [
    {
     "data": {
      "image/png": "[encoded data removed]",
      "text/plain": [
       "<IPython.core.display.Image object>"
      ]
     },
     "execution_count": 33,
     "metadata": {
      "image/png": {
       "width": 400
      }
     },
     "output_type": "execute_result"
    }
   ],
   "source": [
    "Image(filename='E:\\PYTHOM\\MODULO 1\\CLASE 5/Captura de pantalla 2021-02-26 131608.png', width=400)"
   ]
  },
  {
   "cell_type": "code",
   "execution_count": 34,
   "metadata": {},
   "outputs": [],
   "source": [
    "#Primero creamos una instancia de la clase RandomOverSampler\n",
    "over=RandomOverSampler(sampling_strategy=0.8,\n",
    "                       random_state=2020)"
   ]
  },
  {
   "cell_type": "code",
   "execution_count": 35,
   "metadata": {},
   "outputs": [
    {
     "data": {
      "text/plain": [
       "imblearn.over_sampling._random_over_sampler.RandomOverSampler"
      ]
     },
     "execution_count": 35,
     "metadata": {},
     "output_type": "execute_result"
    }
   ],
   "source": [
    "type(over)"
   ]
  },
  {
   "cell_type": "code",
   "execution_count": 36,
   "metadata": {},
   "outputs": [],
   "source": [
    "xtrain_over,ytrain_over=over.fit_resample(xtrain,ytrain)"
   ]
  },
  {
   "cell_type": "code",
   "execution_count": 37,
   "metadata": {},
   "outputs": [
    {
     "data": {
      "text/html": [
       "<div>\n",
       "<style scoped>\n",
       "    .dataframe tbody tr th:only-of-type {\n",
       "        vertical-align: middle;\n",
       "    }\n",
       "\n",
       "    .dataframe tbody tr th {\n",
       "        vertical-align: top;\n",
       "    }\n",
       "\n",
       "    .dataframe thead th {\n",
       "        text-align: right;\n",
       "    }\n",
       "</style>\n",
       "<table border=\"1\" class=\"dataframe\">\n",
       "  <thead>\n",
       "    <tr style=\"text-align: right;\">\n",
       "      <th></th>\n",
       "      <th>rsrp</th>\n",
       "      <th>redireccion</th>\n",
       "      <th>cqi</th>\n",
       "      <th>incidentes</th>\n",
       "    </tr>\n",
       "  </thead>\n",
       "  <tbody>\n",
       "    <tr>\n",
       "      <th>0</th>\n",
       "      <td>-118.7500</td>\n",
       "      <td>11229.222100</td>\n",
       "      <td>7.420288</td>\n",
       "      <td>0</td>\n",
       "    </tr>\n",
       "    <tr>\n",
       "      <th>1</th>\n",
       "      <td>-109.3750</td>\n",
       "      <td>4810.049775</td>\n",
       "      <td>8.735570</td>\n",
       "      <td>0</td>\n",
       "    </tr>\n",
       "    <tr>\n",
       "      <th>2</th>\n",
       "      <td>-118.5625</td>\n",
       "      <td>14817.830880</td>\n",
       "      <td>7.855299</td>\n",
       "      <td>0</td>\n",
       "    </tr>\n",
       "    <tr>\n",
       "      <th>3</th>\n",
       "      <td>-111.4375</td>\n",
       "      <td>374.690909</td>\n",
       "      <td>8.024744</td>\n",
       "      <td>0</td>\n",
       "    </tr>\n",
       "    <tr>\n",
       "      <th>4</th>\n",
       "      <td>-105.0625</td>\n",
       "      <td>771.971040</td>\n",
       "      <td>11.067591</td>\n",
       "      <td>0</td>\n",
       "    </tr>\n",
       "  </tbody>\n",
       "</table>\n",
       "</div>"
      ],
      "text/plain": [
       "       rsrp   redireccion        cqi  incidentes\n",
       "0 -118.7500  11229.222100   7.420288           0\n",
       "1 -109.3750   4810.049775   8.735570           0\n",
       "2 -118.5625  14817.830880   7.855299           0\n",
       "3 -111.4375    374.690909   8.024744           0\n",
       "4 -105.0625    771.971040  11.067591           0"
      ]
     },
     "execution_count": 37,
     "metadata": {},
     "output_type": "execute_result"
    }
   ],
   "source": [
    "entel_entrenamiento_over=pd.concat([xtrain_over,ytrain_over],axis=1)\n",
    "entel_entrenamiento_over.head()"
   ]
  },
  {
   "cell_type": "code",
   "execution_count": 38,
   "metadata": {},
   "outputs": [
    {
     "data": {
      "text/plain": [
       "0    15121\n",
       "1    12096\n",
       "Name: incidentes, dtype: int64"
      ]
     },
     "execution_count": 38,
     "metadata": {},
     "output_type": "execute_result"
    }
   ],
   "source": [
    "count_classes_over = pd.value_counts(entel_entrenamiento_over['incidentes'], sort = True)\n",
    "count_classes_over"
   ]
  },
  {
   "cell_type": "code",
   "execution_count": 39,
   "metadata": {},
   "outputs": [
    {
     "data": {
      "text/plain": [
       "80.0"
      ]
     },
     "execution_count": 39,
     "metadata": {},
     "output_type": "execute_result"
    }
   ],
   "source": [
    "prop=round(count_classes_over[1]*100/count_classes_over[0],1)\n",
    "prop"
   ]
  },
  {
   "cell_type": "code",
   "execution_count": 40,
   "metadata": {},
   "outputs": [
    {
     "data": {
      "image/png": "[encoded data removed]",
      "text/plain": [
       "<Figure size 432x288 with 1 Axes>"
      ]
     },
     "metadata": {
      "needs_background": "light"
     },
     "output_type": "display_data"
    }
   ],
   "source": [
    "count_classes_over.plot(kind='bar',rot=0)\n",
    "plt.title(\"Frecuencias - OVERSAMPLING\")\n",
    "plt.xlabel(\"Ocurrencia de Incidentes\")\n",
    "plt.ylabel(\"Número de Observaciones\")\n",
    "plt.show()"
   ]
  },
  {
   "cell_type": "markdown",
   "metadata": {},
   "source": [
    "## SMOTE-Tomek"
   ]
  },
  {
   "cell_type": "markdown",
   "metadata": {},
   "source": [
    "técnica muy usada que consiste en aplicar en simultáneo un algoritmo de **UnderSampling** y otro de **OverSampling** a la vez al dataset. Se utilizará **SMOTE** **(Syntetic Minority Oversamplig\n",
    "Technique)** para oversampling: busca puntos vecinos cercanos y agrega puntos «en linea recta» entre ellos. Y usaremos **Tomek** para undersampling que quita los de distinta clase que sean vecinos más cercanos y deja ver mejor la decisión boundary (la zona limítrofe de nuestras clases)."
   ]
  },
  {
   "cell_type": "code",
   "execution_count": 41,
   "metadata": {},
   "outputs": [
    {
     "data": {
      "image/png": "[encoded data removed]",
      "text/plain": [
       "<IPython.core.display.Image object>"
      ]
     },
     "execution_count": 41,
     "metadata": {
      "image/png": {
       "width": 400
      }
     },
     "output_type": "execute_result"
    }
   ],
   "source": [
    "Image(filename='E:\\PYTHOM\\MODULO 1\\CLASE 5/Captura de pantalla 2021-02-26 131629.png', width=400)"
   ]
  },
  {
   "cell_type": "code",
   "execution_count": 42,
   "metadata": {},
   "outputs": [],
   "source": [
    "#Primero creamos una instancia de la clase SMOTETomek\n",
    "st=SMOTETomek(sampling_strategy=0.8,\n",
    "              random_state=2020)"
   ]
  },
  {
   "cell_type": "code",
   "execution_count": 43,
   "metadata": {},
   "outputs": [
    {
     "data": {
      "text/plain": [
       "imblearn.combine._smote_tomek.SMOTETomek"
      ]
     },
     "execution_count": 43,
     "metadata": {},
     "output_type": "execute_result"
    }
   ],
   "source": [
    "type(st)"
   ]
  },
  {
   "cell_type": "code",
   "execution_count": 44,
   "metadata": {},
   "outputs": [],
   "source": [
    "xtrain_st,ytrain_st=st.fit_resample(xtrain,ytrain)"
   ]
  },
  {
   "cell_type": "code",
   "execution_count": 45,
   "metadata": {},
   "outputs": [
    {
     "data": {
      "text/html": [
       "<div>\n",
       "<style scoped>\n",
       "    .dataframe tbody tr th:only-of-type {\n",
       "        vertical-align: middle;\n",
       "    }\n",
       "\n",
       "    .dataframe tbody tr th {\n",
       "        vertical-align: top;\n",
       "    }\n",
       "\n",
       "    .dataframe thead th {\n",
       "        text-align: right;\n",
       "    }\n",
       "</style>\n",
       "<table border=\"1\" class=\"dataframe\">\n",
       "  <thead>\n",
       "    <tr style=\"text-align: right;\">\n",
       "      <th></th>\n",
       "      <th>rsrp</th>\n",
       "      <th>redireccion</th>\n",
       "      <th>cqi</th>\n",
       "      <th>incidentes</th>\n",
       "    </tr>\n",
       "  </thead>\n",
       "  <tbody>\n",
       "    <tr>\n",
       "      <th>0</th>\n",
       "      <td>-118.7500</td>\n",
       "      <td>11229.222100</td>\n",
       "      <td>7.420288</td>\n",
       "      <td>0</td>\n",
       "    </tr>\n",
       "    <tr>\n",
       "      <th>1</th>\n",
       "      <td>-109.3750</td>\n",
       "      <td>4810.049775</td>\n",
       "      <td>8.735570</td>\n",
       "      <td>0</td>\n",
       "    </tr>\n",
       "    <tr>\n",
       "      <th>2</th>\n",
       "      <td>-118.5625</td>\n",
       "      <td>14817.830880</td>\n",
       "      <td>7.855299</td>\n",
       "      <td>0</td>\n",
       "    </tr>\n",
       "    <tr>\n",
       "      <th>3</th>\n",
       "      <td>-111.4375</td>\n",
       "      <td>374.690909</td>\n",
       "      <td>8.024744</td>\n",
       "      <td>0</td>\n",
       "    </tr>\n",
       "    <tr>\n",
       "      <th>4</th>\n",
       "      <td>-105.0625</td>\n",
       "      <td>771.971040</td>\n",
       "      <td>11.067591</td>\n",
       "      <td>0</td>\n",
       "    </tr>\n",
       "  </tbody>\n",
       "</table>\n",
       "</div>"
      ],
      "text/plain": [
       "       rsrp   redireccion        cqi  incidentes\n",
       "0 -118.7500  11229.222100   7.420288           0\n",
       "1 -109.3750   4810.049775   8.735570           0\n",
       "2 -118.5625  14817.830880   7.855299           0\n",
       "3 -111.4375    374.690909   8.024744           0\n",
       "4 -105.0625    771.971040  11.067591           0"
      ]
     },
     "execution_count": 45,
     "metadata": {},
     "output_type": "execute_result"
    }
   ],
   "source": [
    "entel_entrenamiento_st=pd.concat([xtrain_st,ytrain_st],axis=1)\n",
    "entel_entrenamiento_st.head()"
   ]
  },
  {
   "cell_type": "code",
   "execution_count": 46,
   "metadata": {},
   "outputs": [
    {
     "data": {
      "text/plain": [
       "0    13403\n",
       "1    10378\n",
       "Name: incidentes, dtype: int64"
      ]
     },
     "execution_count": 46,
     "metadata": {},
     "output_type": "execute_result"
    }
   ],
   "source": [
    "count_classes_st = pd.value_counts(entel_entrenamiento_st['incidentes'], sort = True)\n",
    "count_classes_st"
   ]
  },
  {
   "cell_type": "code",
   "execution_count": 47,
   "metadata": {},
   "outputs": [
    {
     "data": {
      "text/plain": [
       "77.4"
      ]
     },
     "execution_count": 47,
     "metadata": {},
     "output_type": "execute_result"
    }
   ],
   "source": [
    "prop=round(count_classes_st[1]*100/count_classes_st[0],1)\n",
    "prop"
   ]
  },
  {
   "cell_type": "code",
   "execution_count": 48,
   "metadata": {},
   "outputs": [
    {
     "data": {
      "image/png": "[encoded data removed]",
      "text/plain": [
       "<Figure size 432x288 with 1 Axes>"
      ]
     },
     "metadata": {
      "needs_background": "light"
     },
     "output_type": "display_data"
    }
   ],
   "source": [
    "count_classes_st.plot(kind='bar',rot=0)\n",
    "plt.title(\"Frecuencias - SMOTETomek\")\n",
    "plt.xlabel(\"Ocurrencia de Incidentes\")\n",
    "plt.ylabel(\"Número de Observaciones\")\n",
    "plt.show()"
   ]
  },
  {
   "cell_type": "markdown",
   "metadata": {},
   "source": [
    "## TEMA 8: DESCRETIZACIÓN DE DATOS"
   ]
  },
  {
   "cell_type": "code",
   "execution_count": 49,
   "metadata": {},
   "outputs": [],
   "source": [
    "#Importando librerías necesarias\n",
    "import pandas as pd\n",
    "import numpy as np\n",
    "import matplotlib.pyplot as plt\n",
    "import os\n",
    "import math\n",
    "from sklearn.preprocessing import KBinsDiscretizer"
   ]
  },
  {
   "cell_type": "markdown",
   "metadata": {},
   "source": [
    "### Descretización por intervalos de igual amplitud"
   ]
  },
  {
   "cell_type": "code",
   "execution_count": 50,
   "metadata": {},
   "outputs": [],
   "source": [
    "os.chdir(\"E:\\PYTHOM\\MODULO 1\\CLASE 5\")"
   ]
  },
  {
   "cell_type": "code",
   "execution_count": 51,
   "metadata": {},
   "outputs": [
    {
     "data": {
      "text/html": [
       "<div>\n",
       "<style scoped>\n",
       "    .dataframe tbody tr th:only-of-type {\n",
       "        vertical-align: middle;\n",
       "    }\n",
       "\n",
       "    .dataframe tbody tr th {\n",
       "        vertical-align: top;\n",
       "    }\n",
       "\n",
       "    .dataframe thead th {\n",
       "        text-align: right;\n",
       "    }\n",
       "</style>\n",
       "<table border=\"1\" class=\"dataframe\">\n",
       "  <thead>\n",
       "    <tr style=\"text-align: right;\">\n",
       "      <th></th>\n",
       "      <th>genero</th>\n",
       "      <th>est_civil</th>\n",
       "      <th>tpers</th>\n",
       "      <th>cal</th>\n",
       "      <th>edad</th>\n",
       "      <th>clase</th>\n",
       "    </tr>\n",
       "  </thead>\n",
       "  <tbody>\n",
       "    <tr>\n",
       "      <th>0</th>\n",
       "      <td>1</td>\n",
       "      <td>3</td>\n",
       "      <td>0</td>\n",
       "      <td>0</td>\n",
       "      <td>40</td>\n",
       "      <td>1</td>\n",
       "    </tr>\n",
       "    <tr>\n",
       "      <th>1</th>\n",
       "      <td>1</td>\n",
       "      <td>3</td>\n",
       "      <td>0</td>\n",
       "      <td>3</td>\n",
       "      <td>35</td>\n",
       "      <td>1</td>\n",
       "    </tr>\n",
       "    <tr>\n",
       "      <th>2</th>\n",
       "      <td>1</td>\n",
       "      <td>0</td>\n",
       "      <td>0</td>\n",
       "      <td>3</td>\n",
       "      <td>58</td>\n",
       "      <td>1</td>\n",
       "    </tr>\n",
       "    <tr>\n",
       "      <th>3</th>\n",
       "      <td>1</td>\n",
       "      <td>3</td>\n",
       "      <td>0</td>\n",
       "      <td>1</td>\n",
       "      <td>44</td>\n",
       "      <td>0</td>\n",
       "    </tr>\n",
       "    <tr>\n",
       "      <th>4</th>\n",
       "      <td>1</td>\n",
       "      <td>3</td>\n",
       "      <td>0</td>\n",
       "      <td>0</td>\n",
       "      <td>65</td>\n",
       "      <td>1</td>\n",
       "    </tr>\n",
       "  </tbody>\n",
       "</table>\n",
       "</div>"
      ],
      "text/plain": [
       "   genero  est_civil  tpers  cal  edad  clase\n",
       "0       1          3      0    0    40      1\n",
       "1       1          3      0    3    35      1\n",
       "2       1          0      0    3    58      1\n",
       "3       1          3      0    1    44      0\n",
       "4       1          3      0    0    65      1"
      ]
     },
     "execution_count": 51,
     "metadata": {},
     "output_type": "execute_result"
    }
   ],
   "source": [
    "#importamos el archivo csv\n",
    "fichero_csv=\"data.csv\"#Creamos el objeto para llamar a mi archivo csv\n",
    "data=pd.read_csv(fichero_csv,#lo ponemos en tablas(DataFrame)\n",
    "              sep=\",\",\n",
    "              encoding=\"ISO-8859-1\")\n",
    "data.head()"
   ]
  },
  {
   "cell_type": "code",
   "execution_count": 52,
   "metadata": {},
   "outputs": [
    {
     "data": {
      "text/plain": [
       "15.0"
      ]
     },
     "execution_count": 52,
     "metadata": {},
     "output_type": "execute_result"
    }
   ],
   "source": [
    "n=len(data)\n",
    "k=1+math.log2(n)\n",
    "k=round(k,0)\n",
    "k"
   ]
  },
  {
   "cell_type": "code",
   "execution_count": 53,
   "metadata": {},
   "outputs": [],
   "source": [
    "amplitud=KBinsDiscretizer(n_bins=15,\n",
    "                         encode=\"ordinal\",\n",
    "                         strategy=\"uniform\")"
   ]
  },
  {
   "cell_type": "code",
   "execution_count": 54,
   "metadata": {},
   "outputs": [],
   "source": [
    "nuevo=amplitud.fit_transform(data[['edad']])"
   ]
  },
  {
   "cell_type": "code",
   "execution_count": 55,
   "metadata": {},
   "outputs": [
    {
     "name": "stdout",
     "output_type": "stream",
     "text": [
      "<class 'pandas.core.frame.DataFrame'>\n",
      "RangeIndex: 19375 entries, 0 to 19374\n",
      "Data columns (total 7 columns):\n",
      " #   Column         Non-Null Count  Dtype\n",
      "---  ------         --------------  -----\n",
      " 0   genero         19375 non-null  int64\n",
      " 1   est_civil      19375 non-null  int64\n",
      " 2   tpers          19375 non-null  int64\n",
      " 3   cal            19375 non-null  int64\n",
      " 4   edad           19375 non-null  int64\n",
      " 5   clase          19375 non-null  int64\n",
      " 6   edad_amplitud  19375 non-null  int64\n",
      "dtypes: int64(7)\n",
      "memory usage: 1.0 MB\n"
     ]
    }
   ],
   "source": [
    "data[\"edad_amplitud\"]=nuevo\n",
    "data[\"edad_amplitud\"]=data[\"edad_amplitud\"].astype(np.int64)\n",
    "data.info()"
   ]
  },
  {
   "cell_type": "code",
   "execution_count": 56,
   "metadata": {},
   "outputs": [
    {
     "data": {
      "text/plain": [
       "edad_amplitud\n",
       "0      272\n",
       "1      357\n",
       "2      259\n",
       "3      316\n",
       "4     1914\n",
       "5     2933\n",
       "6     3499\n",
       "7     3226\n",
       "8     2532\n",
       "9     2013\n",
       "10    1102\n",
       "11     727\n",
       "12     162\n",
       "13      50\n",
       "14      13\n",
       "dtype: int64"
      ]
     },
     "execution_count": 56,
     "metadata": {},
     "output_type": "execute_result"
    }
   ],
   "source": [
    "data.groupby(data.edad_amplitud).size()"
   ]
  },
  {
   "cell_type": "code",
   "execution_count": 57,
   "metadata": {},
   "outputs": [
    {
     "data": {
      "image/png": "[encoded data removed]",
      "text/plain": [
       "<Figure size 432x288 with 1 Axes>"
      ]
     },
     "metadata": {
      "needs_background": "light"
     },
     "output_type": "display_data"
    }
   ],
   "source": [
    "data.groupby(data.edad_amplitud).size().plot(kind=\"bar\", rot=0)\n",
    "plt.title(\"Distribución de la Edad por igualdad de Amplitud\")\n",
    "plt.show()"
   ]
  },
  {
   "cell_type": "markdown",
   "metadata": {},
   "source": [
    "### Discretización por Cuantiles"
   ]
  },
  {
   "cell_type": "code",
   "execution_count": 58,
   "metadata": {},
   "outputs": [],
   "source": [
    "amplitud=KBinsDiscretizer(n_bins=4,\n",
    "                         encode=\"ordinal\",#codificamos como entero\n",
    "                         strategy=\"quantile\")#quantile por ser intervalos por cuantiles"
   ]
  },
  {
   "cell_type": "code",
   "execution_count": 59,
   "metadata": {},
   "outputs": [],
   "source": [
    "nuevo_cuantil=amplitud.fit_transform(data[['edad']])"
   ]
  },
  {
   "cell_type": "code",
   "execution_count": 60,
   "metadata": {},
   "outputs": [
    {
     "name": "stdout",
     "output_type": "stream",
     "text": [
      "<class 'pandas.core.frame.DataFrame'>\n",
      "RangeIndex: 19375 entries, 0 to 19374\n",
      "Data columns (total 8 columns):\n",
      " #   Column         Non-Null Count  Dtype\n",
      "---  ------         --------------  -----\n",
      " 0   genero         19375 non-null  int64\n",
      " 1   est_civil      19375 non-null  int64\n",
      " 2   tpers          19375 non-null  int64\n",
      " 3   cal            19375 non-null  int64\n",
      " 4   edad           19375 non-null  int64\n",
      " 5   clase          19375 non-null  int64\n",
      " 6   edad_amplitud  19375 non-null  int64\n",
      " 7   edad_cuantil   19375 non-null  int64\n",
      "dtypes: int64(8)\n",
      "memory usage: 1.2 MB\n"
     ]
    }
   ],
   "source": [
    "data[\"edad_cuantil\"]=nuevo_cuantil\n",
    "data[\"edad_cuantil\"]=data[\"edad_cuantil\"].astype(np.int64)\n",
    "data.info()"
   ]
  },
  {
   "cell_type": "code",
   "execution_count": 61,
   "metadata": {},
   "outputs": [
    {
     "data": {
      "image/png": "[encoded data removed]",
      "text/plain": [
       "<Figure size 432x288 with 1 Axes>"
      ]
     },
     "metadata": {
      "needs_background": "light"
     },
     "output_type": "display_data"
    }
   ],
   "source": [
    "data.groupby(data.edad_cuantil).size().plot(kind=\"bar\", rot=0)\n",
    "plt.title(\"Distribución de la Edad por Cuantiles\")\n",
    "plt.show()"
   ]
  },
  {
   "cell_type": "markdown",
   "metadata": {},
   "source": [
    "### Discretización por KMeans"
   ]
  },
  {
   "cell_type": "code",
   "execution_count": 62,
   "metadata": {},
   "outputs": [],
   "source": [
    "amplitud=KBinsDiscretizer(n_bins=4,#Pra efecto practico se considera 4 clases\n",
    "                         encode=\"ordinal\",#codificamos como entero\n",
    "                         strategy=\"kmeans\")#quantile por ser intervalos por cuantiles"
   ]
  },
  {
   "cell_type": "code",
   "execution_count": 63,
   "metadata": {},
   "outputs": [],
   "source": [
    "nuevo_kmeans=amplitud.fit_transform(data[['edad']])"
   ]
  },
  {
   "cell_type": "code",
   "execution_count": 64,
   "metadata": {},
   "outputs": [
    {
     "name": "stdout",
     "output_type": "stream",
     "text": [
      "<class 'pandas.core.frame.DataFrame'>\n",
      "RangeIndex: 19375 entries, 0 to 19374\n",
      "Data columns (total 9 columns):\n",
      " #   Column         Non-Null Count  Dtype\n",
      "---  ------         --------------  -----\n",
      " 0   genero         19375 non-null  int64\n",
      " 1   est_civil      19375 non-null  int64\n",
      " 2   tpers          19375 non-null  int64\n",
      " 3   cal            19375 non-null  int64\n",
      " 4   edad           19375 non-null  int64\n",
      " 5   clase          19375 non-null  int64\n",
      " 6   edad_amplitud  19375 non-null  int64\n",
      " 7   edad_cuantil   19375 non-null  int64\n",
      " 8   edad_kmeans    19375 non-null  int64\n",
      "dtypes: int64(9)\n",
      "memory usage: 1.3 MB\n"
     ]
    }
   ],
   "source": [
    "data[\"edad_kmeans\"]=nuevo_kmeans\n",
    "data[\"edad_kmeans\"]=data[\"edad_kmeans\"].astype(np.int64)\n",
    "data.info()"
   ]
  },
  {
   "cell_type": "code",
   "execution_count": 65,
   "metadata": {},
   "outputs": [
    {
     "data": {
      "text/plain": [
       "edad_kmeans\n",
       "0     942\n",
       "1    7410\n",
       "2    7341\n",
       "3    3682\n",
       "dtype: int64"
      ]
     },
     "execution_count": 65,
     "metadata": {},
     "output_type": "execute_result"
    }
   ],
   "source": [
    "data.groupby(data.edad_kmeans).size()"
   ]
  },
  {
   "cell_type": "code",
   "execution_count": 66,
   "metadata": {},
   "outputs": [
    {
     "data": {
      "image/png": "[encoded data removed]",
      "text/plain": [
       "<Figure size 432x288 with 1 Axes>"
      ]
     },
     "metadata": {
      "needs_background": "light"
     },
     "output_type": "display_data"
    }
   ],
   "source": [
    "data.groupby(data.edad_kmeans).size().plot(kind=\"bar\", rot=0)\n",
    "plt.title(\"Distribución de la Edad por KMeans\")\n",
    "plt.show()"
   ]
  },
  {
   "cell_type": "markdown",
   "metadata": {},
   "source": [
    "### Discretización por Entropia"
   ]
  },
  {
   "cell_type": "code",
   "execution_count": 67,
   "metadata": {},
   "outputs": [],
   "source": [
    "#Conocida por Discretización por arboles o Discretización Tree"
   ]
  },
  {
   "cell_type": "code",
   "execution_count": 68,
   "metadata": {},
   "outputs": [],
   "source": [
    "from MDLP import MDLP_Discretizer"
   ]
  },
  {
   "cell_type": "code",
   "execution_count": 69,
   "metadata": {},
   "outputs": [
    {
     "data": {
      "text/plain": [
       "Index(['genero', 'est_civil', 'tpers', 'cal', 'edad', 'clase', 'edad_amplitud',\n",
       "       'edad_cuantil', 'edad_kmeans'],\n",
       "      dtype='object')"
      ]
     },
     "execution_count": 69,
     "metadata": {},
     "output_type": "execute_result"
    }
   ],
   "source": [
    "data.columns"
   ]
  },
  {
   "cell_type": "code",
   "execution_count": 70,
   "metadata": {},
   "outputs": [],
   "source": [
    "x=data.iloc[:,0:5].values\n",
    "y=data.iloc[:,data.columns=='clase'].values"
   ]
  },
  {
   "cell_type": "code",
   "execution_count": 71,
   "metadata": {},
   "outputs": [
    {
     "data": {
      "text/plain": [
       "array([4])"
      ]
     },
     "execution_count": 71,
     "metadata": {},
     "output_type": "execute_result"
    }
   ],
   "source": [
    "var=[4]\n",
    "n_predictores=np.array(var)\n",
    "n_predictores"
   ]
  },
  {
   "cell_type": "code",
   "execution_count": 72,
   "metadata": {},
   "outputs": [],
   "source": [
    "#Creamos una instancia de clase MDLP_Discretizer\n",
    "discretizer=MDLP_Discretizer(features=n_predictores)"
   ]
  },
  {
   "cell_type": "code",
   "execution_count": 73,
   "metadata": {},
   "outputs": [
    {
     "data": {
      "text/plain": [
       "<MDLP.MDLP_Discretizer at 0x21b803b67c0>"
      ]
     },
     "execution_count": 73,
     "metadata": {},
     "output_type": "execute_result"
    }
   ],
   "source": [
    "#Entrenamos los datos\n",
    "discretizer.fit(x,y)"
   ]
  },
  {
   "cell_type": "code",
   "execution_count": 74,
   "metadata": {},
   "outputs": [
    {
     "data": {
      "text/plain": [
       "array([[1, 3, 0, 0, 5],\n",
       "       [1, 3, 0, 3, 5],\n",
       "       [1, 0, 0, 3, 8],\n",
       "       ...,\n",
       "       [2, 2, 1, 4, 5],\n",
       "       [1, 0, 0, 1, 5],\n",
       "       [1, 0, 0, 1, 5]], dtype=int64)"
      ]
     },
     "execution_count": 74,
     "metadata": {},
     "output_type": "execute_result"
    }
   ],
   "source": [
    "#Transformo los datos(Discretización)\n",
    "x_discretizados=discretizer.transform(x)\n",
    "x_discretizados"
   ]
  },
  {
   "cell_type": "code",
   "execution_count": 75,
   "metadata": {
    "scrolled": true
   },
   "outputs": [
    {
     "data": {
      "text/html": [
       "<div>\n",
       "<style scoped>\n",
       "    .dataframe tbody tr th:only-of-type {\n",
       "        vertical-align: middle;\n",
       "    }\n",
       "\n",
       "    .dataframe tbody tr th {\n",
       "        vertical-align: top;\n",
       "    }\n",
       "\n",
       "    .dataframe thead th {\n",
       "        text-align: right;\n",
       "    }\n",
       "</style>\n",
       "<table border=\"1\" class=\"dataframe\">\n",
       "  <thead>\n",
       "    <tr style=\"text-align: right;\">\n",
       "      <th></th>\n",
       "      <th>genero</th>\n",
       "      <th>est_civil</th>\n",
       "      <th>tpers</th>\n",
       "      <th>cal</th>\n",
       "      <th>edad</th>\n",
       "      <th>clase</th>\n",
       "      <th>edad_amplitud</th>\n",
       "      <th>edad_cuantil</th>\n",
       "      <th>edad_kmeans</th>\n",
       "      <th>edad_entropia</th>\n",
       "    </tr>\n",
       "  </thead>\n",
       "  <tbody>\n",
       "    <tr>\n",
       "      <th>0</th>\n",
       "      <td>1</td>\n",
       "      <td>3</td>\n",
       "      <td>0</td>\n",
       "      <td>0</td>\n",
       "      <td>40</td>\n",
       "      <td>1</td>\n",
       "      <td>6</td>\n",
       "      <td>1</td>\n",
       "      <td>2</td>\n",
       "      <td>5</td>\n",
       "    </tr>\n",
       "    <tr>\n",
       "      <th>1</th>\n",
       "      <td>1</td>\n",
       "      <td>3</td>\n",
       "      <td>0</td>\n",
       "      <td>3</td>\n",
       "      <td>35</td>\n",
       "      <td>1</td>\n",
       "      <td>5</td>\n",
       "      <td>1</td>\n",
       "      <td>1</td>\n",
       "      <td>5</td>\n",
       "    </tr>\n",
       "    <tr>\n",
       "      <th>2</th>\n",
       "      <td>1</td>\n",
       "      <td>0</td>\n",
       "      <td>0</td>\n",
       "      <td>3</td>\n",
       "      <td>58</td>\n",
       "      <td>1</td>\n",
       "      <td>9</td>\n",
       "      <td>3</td>\n",
       "      <td>3</td>\n",
       "      <td>8</td>\n",
       "    </tr>\n",
       "    <tr>\n",
       "      <th>3</th>\n",
       "      <td>1</td>\n",
       "      <td>3</td>\n",
       "      <td>0</td>\n",
       "      <td>1</td>\n",
       "      <td>44</td>\n",
       "      <td>0</td>\n",
       "      <td>7</td>\n",
       "      <td>2</td>\n",
       "      <td>2</td>\n",
       "      <td>5</td>\n",
       "    </tr>\n",
       "    <tr>\n",
       "      <th>4</th>\n",
       "      <td>1</td>\n",
       "      <td>3</td>\n",
       "      <td>0</td>\n",
       "      <td>0</td>\n",
       "      <td>65</td>\n",
       "      <td>1</td>\n",
       "      <td>10</td>\n",
       "      <td>3</td>\n",
       "      <td>3</td>\n",
       "      <td>9</td>\n",
       "    </tr>\n",
       "  </tbody>\n",
       "</table>\n",
       "</div>"
      ],
      "text/plain": [
       "   genero  est_civil  tpers  cal  edad  clase  edad_amplitud  edad_cuantil  \\\n",
       "0       1          3      0    0    40      1              6             1   \n",
       "1       1          3      0    3    35      1              5             1   \n",
       "2       1          0      0    3    58      1              9             3   \n",
       "3       1          3      0    1    44      0              7             2   \n",
       "4       1          3      0    0    65      1             10             3   \n",
       "\n",
       "   edad_kmeans  edad_entropia  \n",
       "0            2              5  \n",
       "1            1              5  \n",
       "2            3              8  \n",
       "3            2              5  \n",
       "4            3              9  "
      ]
     },
     "execution_count": 75,
     "metadata": {},
     "output_type": "execute_result"
    }
   ],
   "source": [
    "edad_entropia=x_discretizados[:,4]\n",
    "data[\"edad_entropia\"]=edad_entropia\n",
    "data.head()"
   ]
  },
  {
   "cell_type": "code",
   "execution_count": 76,
   "metadata": {},
   "outputs": [
    {
     "name": "stdout",
     "output_type": "stream",
     "text": [
      "Los puntos de corte para la Discretización\n",
      "{4: [4.5, 7.5, 10.5, 12.5, 17.5, 51.5, 52.5, 53.5, 61.5, 66.5, 68.5, 77.5]}\n"
     ]
    }
   ],
   "source": [
    "print(\"Los puntos de corte para la Discretización\")\n",
    "print(discretizer._cuts)"
   ]
  },
  {
   "cell_type": "code",
   "execution_count": 77,
   "metadata": {},
   "outputs": [
    {
     "name": "stdout",
     "output_type": "stream",
     "text": [
      "Los intervalos para la Discretización\n",
      "{0: '-inf_to_4.5', 1: '4.5_to_7.5', 2: '7.5_to_10.5', 3: '10.5_to_12.5', 4: '12.5_to_17.5', 5: '17.5_to_51.5', 6: '51.5_to_52.5', 7: '52.5_to_53.5', 8: '53.5_to_61.5', 9: '61.5_to_66.5', 10: '66.5_to_68.5', 11: '68.5_to_77.5', 12: '77.5_to_inf'}\n"
     ]
    }
   ],
   "source": [
    "print(\"Los intervalos para la Discretización\")\n",
    "print(discretizer._bin_descriptions[4])"
   ]
  },
  {
   "cell_type": "code",
   "execution_count": null,
   "metadata": {},
   "outputs": [],
   "source": []
  }
 ],
 "metadata": {
  "kernelspec": {
   "display_name": "Python 3",
   "language": "python",
   "name": "python3"
  },
  "language_info": {
   "codemirror_mode": {
    "name": "ipython",
    "version": 3
   },
   "file_extension": ".py",
   "mimetype": "text/x-python",
   "name": "python",
   "nbconvert_exporter": "python",
   "pygments_lexer": "ipython3",
   "version": "3.8.5"
  }
 },
 "nbformat": 4,
 "nbformat_minor": 4
}
