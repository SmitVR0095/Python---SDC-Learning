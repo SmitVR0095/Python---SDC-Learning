{
 "cells": [
  {
   "cell_type": "markdown",
   "metadata": {},
   "source": [
    "# TEMAS:\n",
    "## 1. Tema 9. Análisis de componentes principales\n",
    "## 2. Tema 10. Análisis Factorial"
   ]
  },
  {
   "cell_type": "markdown",
   "metadata": {},
   "source": [
    "## Tema 9. Análisis de componentes principales"
   ]
  },
  {
   "cell_type": "code",
   "execution_count": 1,
   "metadata": {},
   "outputs": [],
   "source": [
    "#IMPORTAMOS LAS LIBRERIAS NECESARIAS \n",
    "import pandas as pd \n",
    "import matplotlib.pyplot as plt\n",
    "import seaborn as sns\n",
    "import numpy as np\n",
    "import math as math\n",
    "import os\n",
    "import scipy.stats as stats#Para calculo de probabilidades estadisticos\n",
    "from sklearn.model_selection import train_test_split\n",
    "from sklearn.preprocessing import StandardScaler\n",
    "from sklearn.decomposition import PCA#Para descomposición de varianza en el PCA\n",
    "from sklearn.preprocessing import MinMaxScaler#Para la normalización de datos"
   ]
  },
  {
   "cell_type": "code",
   "execution_count": 2,
   "metadata": {},
   "outputs": [],
   "source": [
    "os.chdir(\"E:\\PYTHOM\\MODULO 1\\CLASE 5\")"
   ]
  },
  {
   "cell_type": "code",
   "execution_count": 3,
   "metadata": {},
   "outputs": [
    {
     "data": {
      "text/html": [
       "<div>\n",
       "<style scoped>\n",
       "    .dataframe tbody tr th:only-of-type {\n",
       "        vertical-align: middle;\n",
       "    }\n",
       "\n",
       "    .dataframe tbody tr th {\n",
       "        vertical-align: top;\n",
       "    }\n",
       "\n",
       "    .dataframe thead th {\n",
       "        text-align: right;\n",
       "    }\n",
       "</style>\n",
       "<table border=\"1\" class=\"dataframe\">\n",
       "  <thead>\n",
       "    <tr style=\"text-align: right;\">\n",
       "      <th></th>\n",
       "      <th>duration</th>\n",
       "      <th>chist</th>\n",
       "      <th>reason</th>\n",
       "      <th>camt</th>\n",
       "      <th>telephne</th>\n",
       "      <th>lenemp</th>\n",
       "      <th>instrate</th>\n",
       "      <th>perstat</th>\n",
       "      <th>residlen</th>\n",
       "      <th>prpownr</th>\n",
       "      <th>age</th>\n",
       "      <th>housng</th>\n",
       "      <th>numcred</th>\n",
       "      <th>emptype</th>\n",
       "      <th>numliab</th>\n",
       "      <th>customer</th>\n",
       "    </tr>\n",
       "  </thead>\n",
       "  <tbody>\n",
       "    <tr>\n",
       "      <th>0</th>\n",
       "      <td>6.0</td>\n",
       "      <td>5.0</td>\n",
       "      <td>4.0</td>\n",
       "      <td>1169.0</td>\n",
       "      <td>0.0</td>\n",
       "      <td>4.0</td>\n",
       "      <td>4.0</td>\n",
       "      <td>3.0</td>\n",
       "      <td>4.0</td>\n",
       "      <td>1.0</td>\n",
       "      <td>67.0</td>\n",
       "      <td>2.0</td>\n",
       "      <td>2.0</td>\n",
       "      <td>3.0</td>\n",
       "      <td>1.0</td>\n",
       "      <td>1.0</td>\n",
       "    </tr>\n",
       "    <tr>\n",
       "      <th>1</th>\n",
       "      <td>48.0</td>\n",
       "      <td>3.0</td>\n",
       "      <td>4.0</td>\n",
       "      <td>5951.0</td>\n",
       "      <td>1.0</td>\n",
       "      <td>2.0</td>\n",
       "      <td>2.0</td>\n",
       "      <td>2.0</td>\n",
       "      <td>2.0</td>\n",
       "      <td>1.0</td>\n",
       "      <td>22.0</td>\n",
       "      <td>2.0</td>\n",
       "      <td>1.0</td>\n",
       "      <td>3.0</td>\n",
       "      <td>1.0</td>\n",
       "      <td>2.0</td>\n",
       "    </tr>\n",
       "    <tr>\n",
       "      <th>2</th>\n",
       "      <td>12.0</td>\n",
       "      <td>5.0</td>\n",
       "      <td>7.0</td>\n",
       "      <td>2096.0</td>\n",
       "      <td>1.0</td>\n",
       "      <td>3.0</td>\n",
       "      <td>2.0</td>\n",
       "      <td>3.0</td>\n",
       "      <td>3.0</td>\n",
       "      <td>1.0</td>\n",
       "      <td>49.0</td>\n",
       "      <td>2.0</td>\n",
       "      <td>1.0</td>\n",
       "      <td>2.0</td>\n",
       "      <td>2.0</td>\n",
       "      <td>1.0</td>\n",
       "    </tr>\n",
       "    <tr>\n",
       "      <th>3</th>\n",
       "      <td>42.0</td>\n",
       "      <td>3.0</td>\n",
       "      <td>3.0</td>\n",
       "      <td>7882.0</td>\n",
       "      <td>1.0</td>\n",
       "      <td>3.0</td>\n",
       "      <td>2.0</td>\n",
       "      <td>3.0</td>\n",
       "      <td>4.0</td>\n",
       "      <td>2.0</td>\n",
       "      <td>45.0</td>\n",
       "      <td>3.0</td>\n",
       "      <td>1.0</td>\n",
       "      <td>3.0</td>\n",
       "      <td>2.0</td>\n",
       "      <td>1.0</td>\n",
       "    </tr>\n",
       "    <tr>\n",
       "      <th>4</th>\n",
       "      <td>24.0</td>\n",
       "      <td>4.0</td>\n",
       "      <td>1.0</td>\n",
       "      <td>4870.0</td>\n",
       "      <td>1.0</td>\n",
       "      <td>2.0</td>\n",
       "      <td>3.0</td>\n",
       "      <td>3.0</td>\n",
       "      <td>4.0</td>\n",
       "      <td>4.0</td>\n",
       "      <td>53.0</td>\n",
       "      <td>3.0</td>\n",
       "      <td>2.0</td>\n",
       "      <td>3.0</td>\n",
       "      <td>2.0</td>\n",
       "      <td>2.0</td>\n",
       "    </tr>\n",
       "  </tbody>\n",
       "</table>\n",
       "</div>"
      ],
      "text/plain": [
       "   duration  chist  reason    camt  telephne  lenemp  instrate  perstat  \\\n",
       "0       6.0    5.0     4.0  1169.0       0.0     4.0       4.0      3.0   \n",
       "1      48.0    3.0     4.0  5951.0       1.0     2.0       2.0      2.0   \n",
       "2      12.0    5.0     7.0  2096.0       1.0     3.0       2.0      3.0   \n",
       "3      42.0    3.0     3.0  7882.0       1.0     3.0       2.0      3.0   \n",
       "4      24.0    4.0     1.0  4870.0       1.0     2.0       3.0      3.0   \n",
       "\n",
       "   residlen  prpownr   age  housng  numcred  emptype  numliab  customer  \n",
       "0       4.0      1.0  67.0     2.0      2.0      3.0      1.0       1.0  \n",
       "1       2.0      1.0  22.0     2.0      1.0      3.0      1.0       2.0  \n",
       "2       3.0      1.0  49.0     2.0      1.0      2.0      2.0       1.0  \n",
       "3       4.0      2.0  45.0     3.0      1.0      3.0      2.0       1.0  \n",
       "4       4.0      4.0  53.0     3.0      2.0      3.0      2.0       2.0  "
      ]
     },
     "execution_count": 3,
     "metadata": {},
     "output_type": "execute_result"
    }
   ],
   "source": [
    "#importamos el archivo csv\n",
    "fichero_csv=\"data_credit.csv\"#Creamos el objeto para llamar a mi archivo csv\n",
    "df=pd.read_csv(fichero_csv,#lo ponemos en tablas(DataFrame)\n",
    "              sep=\",\", encoding=\"ISO-8859-1\")\n",
    "df.head()"
   ]
  },
  {
   "cell_type": "code",
   "execution_count": 4,
   "metadata": {},
   "outputs": [
    {
     "name": "stdout",
     "output_type": "stream",
     "text": [
      "<class 'pandas.core.frame.DataFrame'>\n",
      "RangeIndex: 1000 entries, 0 to 999\n",
      "Data columns (total 16 columns):\n",
      " #   Column    Non-Null Count  Dtype  \n",
      "---  ------    --------------  -----  \n",
      " 0   duration  1000 non-null   float64\n",
      " 1   chist     1000 non-null   float64\n",
      " 2   reason    1000 non-null   float64\n",
      " 3   camt      1000 non-null   float64\n",
      " 4   telephne  1000 non-null   float64\n",
      " 5   lenemp    1000 non-null   float64\n",
      " 6   instrate  1000 non-null   float64\n",
      " 7   perstat   1000 non-null   float64\n",
      " 8   residlen  1000 non-null   float64\n",
      " 9   prpownr   1000 non-null   float64\n",
      " 10  age       1000 non-null   float64\n",
      " 11  housng    1000 non-null   float64\n",
      " 12  numcred   1000 non-null   float64\n",
      " 13  emptype   1000 non-null   float64\n",
      " 14  numliab   1000 non-null   float64\n",
      " 15  customer  1000 non-null   float64\n",
      "dtypes: float64(16)\n",
      "memory usage: 125.1 KB\n"
     ]
    }
   ],
   "source": [
    "df.info()"
   ]
  },
  {
   "cell_type": "code",
   "execution_count": 5,
   "metadata": {},
   "outputs": [],
   "source": [
    "#Particionamiento de datos\n",
    "x = df.iloc[:, 0:len(df.columns)-1].values\n",
    "y = df.iloc[:, -1].values\n",
    "\n",
    "#Dividimos un conjunto de prueba y de testeo en 70%,30%\n",
    "xtrain, xtest, ytrain, ytest =\\\n",
    "    train_test_split(x, #valores de los predictores\n",
    "                     y, #los valores del target\n",
    "                     test_size=0.3, #proporción para datos de testeo\n",
    "                     random_state=0, #semilla\n",
    "                     stratify=y) #la variable de estratificación"
   ]
  },
  {
   "cell_type": "code",
   "execution_count": 6,
   "metadata": {},
   "outputs": [],
   "source": [
    "#Normalización: Instancia MinMaxScaler\n",
    "mms= MinMaxScaler()"
   ]
  },
  {
   "cell_type": "code",
   "execution_count": 7,
   "metadata": {},
   "outputs": [
    {
     "data": {
      "text/plain": [
       "array([[0.35714286, 1.        , 0.        , ..., 0.33333333, 0.66666667,\n",
       "        0.        ],\n",
       "       [0.25      , 1.        , 0.        , ..., 0.66666667, 0.66666667,\n",
       "        0.        ],\n",
       "       [0.35714286, 0.5       , 0.0625    , ..., 0.        , 0.66666667,\n",
       "        0.        ],\n",
       "       ...,\n",
       "       [0.14285714, 1.        , 0.09375   , ..., 0.33333333, 0.66666667,\n",
       "        0.        ],\n",
       "       [0.35714286, 1.        , 0.0625    , ..., 0.33333333, 0.66666667,\n",
       "        0.        ],\n",
       "       [0.19642857, 0.5       , 0.125     , ..., 0.33333333, 0.66666667,\n",
       "        0.        ]])"
      ]
     },
     "execution_count": 7,
     "metadata": {},
     "output_type": "execute_result"
    }
   ],
   "source": [
    "xtrain_norm=mms.fit_transform(xtrain)\n",
    "xtrain_norm"
   ]
  },
  {
   "cell_type": "markdown",
   "metadata": {},
   "source": [
    "### paso 1: Escalamiento de las variables"
   ]
  },
  {
   "cell_type": "code",
   "execution_count": 8,
   "metadata": {},
   "outputs": [],
   "source": [
    "#Estandarización: Instancia StandardScaler\n",
    "sc=StandardScaler()"
   ]
  },
  {
   "cell_type": "code",
   "execution_count": 9,
   "metadata": {},
   "outputs": [
    {
     "data": {
      "text/plain": [
       "array([[ 0.27343075,  1.37780319, -0.74440637, ...,  0.98683239,\n",
       "         0.14707181, -0.44567941],\n",
       "       [-0.24178197,  1.37780319, -0.74440637, ...,  2.67992717,\n",
       "         0.14707181, -0.44567941],\n",
       "       [ 0.27343075, -0.50224015, -0.27601584, ..., -0.7062624 ,\n",
       "         0.14707181, -0.44567941],\n",
       "       ...,\n",
       "       [-0.75699468,  1.37780319, -0.04182058, ...,  0.98683239,\n",
       "         0.14707181, -0.44567941],\n",
       "       [ 0.27343075,  1.37780319, -0.27601584, ...,  0.98683239,\n",
       "         0.14707181, -0.44567941],\n",
       "       [-0.49938833, -0.50224015,  0.19237468, ...,  0.98683239,\n",
       "         0.14707181, -0.44567941]])"
      ]
     },
     "execution_count": 9,
     "metadata": {},
     "output_type": "execute_result"
    }
   ],
   "source": [
    "xtrain_std=sc.fit_transform(xtrain)\n",
    "xtrain_std"
   ]
  },
  {
   "cell_type": "code",
   "execution_count": 10,
   "metadata": {},
   "outputs": [
    {
     "data": {
      "text/plain": [
       "array([[ 3.36470705, -0.50224015, -0.04182058, ..., -0.7062624 ,\n",
       "         0.14707181, -0.44567941],\n",
       "       [ 0.27343075, -0.50224015, -0.51021111, ..., -0.7062624 ,\n",
       "         1.66104633, -0.44567941],\n",
       "       [ 0.27343075, -0.50224015, -0.04182058, ..., -0.7062624 ,\n",
       "         0.14707181, -0.44567941],\n",
       "       ...,\n",
       "       [-1.10046983, -0.50224015, -0.04182058, ..., -0.7062624 ,\n",
       "        -1.36690271, -0.44567941],\n",
       "       [ 0.27343075,  1.37780319, -0.04182058, ...,  0.98683239,\n",
       "        -1.36690271, -0.44567941],\n",
       "       [-1.2722074 , -0.50224015, -0.04182058, ..., -0.7062624 ,\n",
       "         1.66104633, -0.44567941]])"
      ]
     },
     "execution_count": 10,
     "metadata": {},
     "output_type": "execute_result"
    }
   ],
   "source": [
    "#Con lo aprendido de Xtrain debemos realizar la transformacion para eñ xtest\n",
    "xtest_std=sc.transform(xtest)\n",
    "xtest_std"
   ]
  },
  {
   "cell_type": "code",
   "execution_count": 11,
   "metadata": {},
   "outputs": [
    {
     "data": {
      "text/html": [
       "<div>\n",
       "<style scoped>\n",
       "    .dataframe tbody tr th:only-of-type {\n",
       "        vertical-align: middle;\n",
       "    }\n",
       "\n",
       "    .dataframe tbody tr th {\n",
       "        vertical-align: top;\n",
       "    }\n",
       "\n",
       "    .dataframe thead th {\n",
       "        text-align: right;\n",
       "    }\n",
       "</style>\n",
       "<table border=\"1\" class=\"dataframe\">\n",
       "  <thead>\n",
       "    <tr style=\"text-align: right;\">\n",
       "      <th></th>\n",
       "      <th>duration</th>\n",
       "      <th>chist</th>\n",
       "      <th>reason</th>\n",
       "      <th>camt</th>\n",
       "      <th>telephne</th>\n",
       "      <th>lenemp</th>\n",
       "      <th>instrate</th>\n",
       "      <th>perstat</th>\n",
       "      <th>residlen</th>\n",
       "      <th>prpownr</th>\n",
       "      <th>age</th>\n",
       "      <th>housng</th>\n",
       "      <th>numcred</th>\n",
       "      <th>emptype</th>\n",
       "      <th>numliab</th>\n",
       "    </tr>\n",
       "  </thead>\n",
       "  <tbody>\n",
       "    <tr>\n",
       "      <th>0</th>\n",
       "      <td>0.273431</td>\n",
       "      <td>1.377803</td>\n",
       "      <td>-0.744406</td>\n",
       "      <td>-0.277224</td>\n",
       "      <td>-1.199593</td>\n",
       "      <td>0.228874</td>\n",
       "      <td>0.933475</td>\n",
       "      <td>1.851752</td>\n",
       "      <td>0.121235</td>\n",
       "      <td>-0.339904</td>\n",
       "      <td>-0.769416</td>\n",
       "      <td>0.132827</td>\n",
       "      <td>0.986832</td>\n",
       "      <td>0.147072</td>\n",
       "      <td>-0.445679</td>\n",
       "    </tr>\n",
       "    <tr>\n",
       "      <th>1</th>\n",
       "      <td>-0.241782</td>\n",
       "      <td>1.377803</td>\n",
       "      <td>-0.744406</td>\n",
       "      <td>0.276215</td>\n",
       "      <td>-1.199593</td>\n",
       "      <td>1.063310</td>\n",
       "      <td>-1.759240</td>\n",
       "      <td>-0.997097</td>\n",
       "      <td>1.033756</td>\n",
       "      <td>-1.287844</td>\n",
       "      <td>-0.250958</td>\n",
       "      <td>-1.726746</td>\n",
       "      <td>2.679927</td>\n",
       "      <td>0.147072</td>\n",
       "      <td>-0.445679</td>\n",
       "    </tr>\n",
       "    <tr>\n",
       "      <th>2</th>\n",
       "      <td>0.273431</td>\n",
       "      <td>-0.502240</td>\n",
       "      <td>-0.276016</td>\n",
       "      <td>1.658889</td>\n",
       "      <td>-1.199593</td>\n",
       "      <td>-1.439999</td>\n",
       "      <td>-1.759240</td>\n",
       "      <td>-0.997097</td>\n",
       "      <td>-0.791286</td>\n",
       "      <td>-0.339904</td>\n",
       "      <td>-0.510187</td>\n",
       "      <td>0.132827</td>\n",
       "      <td>-0.706262</td>\n",
       "      <td>0.147072</td>\n",
       "      <td>-0.445679</td>\n",
       "    </tr>\n",
       "    <tr>\n",
       "      <th>3</th>\n",
       "      <td>0.273431</td>\n",
       "      <td>-2.382283</td>\n",
       "      <td>1.363351</td>\n",
       "      <td>0.377476</td>\n",
       "      <td>-1.199593</td>\n",
       "      <td>-0.605562</td>\n",
       "      <td>-1.759240</td>\n",
       "      <td>0.427327</td>\n",
       "      <td>1.033756</td>\n",
       "      <td>-1.287844</td>\n",
       "      <td>0.008271</td>\n",
       "      <td>0.132827</td>\n",
       "      <td>2.679927</td>\n",
       "      <td>-1.366903</td>\n",
       "      <td>-0.445679</td>\n",
       "    </tr>\n",
       "    <tr>\n",
       "      <th>4</th>\n",
       "      <td>0.273431</td>\n",
       "      <td>-0.502240</td>\n",
       "      <td>-0.744406</td>\n",
       "      <td>-0.641395</td>\n",
       "      <td>-1.199593</td>\n",
       "      <td>-1.439999</td>\n",
       "      <td>0.933475</td>\n",
       "      <td>1.851752</td>\n",
       "      <td>0.121235</td>\n",
       "      <td>-1.287844</td>\n",
       "      <td>-0.250958</td>\n",
       "      <td>0.132827</td>\n",
       "      <td>-0.706262</td>\n",
       "      <td>0.147072</td>\n",
       "      <td>-0.445679</td>\n",
       "    </tr>\n",
       "  </tbody>\n",
       "</table>\n",
       "</div>"
      ],
      "text/plain": [
       "   duration     chist    reason      camt  telephne    lenemp  instrate  \\\n",
       "0  0.273431  1.377803 -0.744406 -0.277224 -1.199593  0.228874  0.933475   \n",
       "1 -0.241782  1.377803 -0.744406  0.276215 -1.199593  1.063310 -1.759240   \n",
       "2  0.273431 -0.502240 -0.276016  1.658889 -1.199593 -1.439999 -1.759240   \n",
       "3  0.273431 -2.382283  1.363351  0.377476 -1.199593 -0.605562 -1.759240   \n",
       "4  0.273431 -0.502240 -0.744406 -0.641395 -1.199593 -1.439999  0.933475   \n",
       "\n",
       "    perstat  residlen   prpownr       age    housng   numcred   emptype  \\\n",
       "0  1.851752  0.121235 -0.339904 -0.769416  0.132827  0.986832  0.147072   \n",
       "1 -0.997097  1.033756 -1.287844 -0.250958 -1.726746  2.679927  0.147072   \n",
       "2 -0.997097 -0.791286 -0.339904 -0.510187  0.132827 -0.706262  0.147072   \n",
       "3  0.427327  1.033756 -1.287844  0.008271  0.132827  2.679927 -1.366903   \n",
       "4  1.851752  0.121235 -1.287844 -0.250958  0.132827 -0.706262  0.147072   \n",
       "\n",
       "    numliab  \n",
       "0 -0.445679  \n",
       "1 -0.445679  \n",
       "2 -0.445679  \n",
       "3 -0.445679  \n",
       "4 -0.445679  "
      ]
     },
     "execution_count": 11,
     "metadata": {},
     "output_type": "execute_result"
    }
   ],
   "source": [
    "df_std=pd.DataFrame(xtrain_std,\n",
    "                   columns=[\"duration\",\"chist\",\"reason\", \"camt\", \"telephne\",\n",
    "                                         \"lenemp\",\"instrate\",\"perstat\", \"residlen\", \"prpownr\",\n",
    "                                         \"age\",\"housng\",\"numcred\",\"emptype\",\"numliab\"])\n",
    "df_std.head()"
   ]
  },
  {
   "cell_type": "markdown",
   "metadata": {},
   "source": [
    "### paso 2: Prueba de Hipótesis(Correlacion de Variables)"
   ]
  },
  {
   "cell_type": "code",
   "execution_count": 12,
   "metadata": {},
   "outputs": [
    {
     "data": {
      "text/html": [
       "<div>\n",
       "<style scoped>\n",
       "    .dataframe tbody tr th:only-of-type {\n",
       "        vertical-align: middle;\n",
       "    }\n",
       "\n",
       "    .dataframe tbody tr th {\n",
       "        vertical-align: top;\n",
       "    }\n",
       "\n",
       "    .dataframe thead th {\n",
       "        text-align: right;\n",
       "    }\n",
       "</style>\n",
       "<table border=\"1\" class=\"dataframe\">\n",
       "  <thead>\n",
       "    <tr style=\"text-align: right;\">\n",
       "      <th></th>\n",
       "      <th>duration</th>\n",
       "      <th>chist</th>\n",
       "      <th>reason</th>\n",
       "      <th>camt</th>\n",
       "      <th>telephne</th>\n",
       "      <th>lenemp</th>\n",
       "      <th>instrate</th>\n",
       "      <th>perstat</th>\n",
       "      <th>residlen</th>\n",
       "      <th>prpownr</th>\n",
       "      <th>age</th>\n",
       "      <th>housng</th>\n",
       "      <th>numcred</th>\n",
       "      <th>emptype</th>\n",
       "      <th>numliab</th>\n",
       "    </tr>\n",
       "  </thead>\n",
       "  <tbody>\n",
       "    <tr>\n",
       "      <th>duration</th>\n",
       "      <td>1.000000</td>\n",
       "      <td>-0.076000</td>\n",
       "      <td>0.171482</td>\n",
       "      <td>0.615645</td>\n",
       "      <td>-0.180049</td>\n",
       "      <td>0.099967</td>\n",
       "      <td>0.106123</td>\n",
       "      <td>0.003897</td>\n",
       "      <td>0.041850</td>\n",
       "      <td>0.314577</td>\n",
       "      <td>-0.018861</td>\n",
       "      <td>0.153928</td>\n",
       "      <td>-0.007308</td>\n",
       "      <td>0.252479</td>\n",
       "      <td>0.001114</td>\n",
       "    </tr>\n",
       "    <tr>\n",
       "      <th>chist</th>\n",
       "      <td>-0.076000</td>\n",
       "      <td>1.000000</td>\n",
       "      <td>-0.086105</td>\n",
       "      <td>-0.060558</td>\n",
       "      <td>-0.020915</td>\n",
       "      <td>0.130637</td>\n",
       "      <td>0.019237</td>\n",
       "      <td>0.048204</td>\n",
       "      <td>0.013098</td>\n",
       "      <td>-0.063783</td>\n",
       "      <td>0.154075</td>\n",
       "      <td>0.081694</td>\n",
       "      <td>0.436512</td>\n",
       "      <td>0.025071</td>\n",
       "      <td>0.028976</td>\n",
       "    </tr>\n",
       "    <tr>\n",
       "      <th>reason</th>\n",
       "      <td>0.171482</td>\n",
       "      <td>-0.086105</td>\n",
       "      <td>1.000000</td>\n",
       "      <td>0.141879</td>\n",
       "      <td>-0.116151</td>\n",
       "      <td>0.024089</td>\n",
       "      <td>0.023723</td>\n",
       "      <td>-0.007387</td>\n",
       "      <td>0.006902</td>\n",
       "      <td>0.055240</td>\n",
       "      <td>0.037755</td>\n",
       "      <td>0.094522</td>\n",
       "      <td>0.074690</td>\n",
       "      <td>0.034516</td>\n",
       "      <td>0.009255</td>\n",
       "    </tr>\n",
       "    <tr>\n",
       "      <th>camt</th>\n",
       "      <td>0.615645</td>\n",
       "      <td>-0.060558</td>\n",
       "      <td>0.141879</td>\n",
       "      <td>1.000000</td>\n",
       "      <td>-0.301887</td>\n",
       "      <td>0.088360</td>\n",
       "      <td>-0.279371</td>\n",
       "      <td>-0.026608</td>\n",
       "      <td>0.027859</td>\n",
       "      <td>0.300961</td>\n",
       "      <td>0.050640</td>\n",
       "      <td>0.126361</td>\n",
       "      <td>0.038134</td>\n",
       "      <td>0.282926</td>\n",
       "      <td>0.044728</td>\n",
       "    </tr>\n",
       "    <tr>\n",
       "      <th>telephne</th>\n",
       "      <td>-0.180049</td>\n",
       "      <td>-0.020915</td>\n",
       "      <td>-0.116151</td>\n",
       "      <td>-0.301887</td>\n",
       "      <td>1.000000</td>\n",
       "      <td>-0.137472</td>\n",
       "      <td>-0.006466</td>\n",
       "      <td>0.007861</td>\n",
       "      <td>-0.087811</td>\n",
       "      <td>-0.192984</td>\n",
       "      <td>-0.125610</td>\n",
       "      <td>-0.126930</td>\n",
       "      <td>-0.065308</td>\n",
       "      <td>-0.373257</td>\n",
       "      <td>-0.019061</td>\n",
       "    </tr>\n",
       "    <tr>\n",
       "      <th>lenemp</th>\n",
       "      <td>0.099967</td>\n",
       "      <td>0.130637</td>\n",
       "      <td>0.024089</td>\n",
       "      <td>0.088360</td>\n",
       "      <td>-0.137472</td>\n",
       "      <td>1.000000</td>\n",
       "      <td>0.052770</td>\n",
       "      <td>0.060109</td>\n",
       "      <td>0.295321</td>\n",
       "      <td>0.181755</td>\n",
       "      <td>0.359757</td>\n",
       "      <td>0.215654</td>\n",
       "      <td>0.115225</td>\n",
       "      <td>0.139594</td>\n",
       "      <td>0.050709</td>\n",
       "    </tr>\n",
       "    <tr>\n",
       "      <th>instrate</th>\n",
       "      <td>0.106123</td>\n",
       "      <td>0.019237</td>\n",
       "      <td>0.023723</td>\n",
       "      <td>-0.279371</td>\n",
       "      <td>-0.006466</td>\n",
       "      <td>0.052770</td>\n",
       "      <td>1.000000</td>\n",
       "      <td>0.149039</td>\n",
       "      <td>0.058831</td>\n",
       "      <td>0.015850</td>\n",
       "      <td>0.040698</td>\n",
       "      <td>0.052457</td>\n",
       "      <td>0.044896</td>\n",
       "      <td>0.113138</td>\n",
       "      <td>-0.059866</td>\n",
       "    </tr>\n",
       "    <tr>\n",
       "      <th>perstat</th>\n",
       "      <td>0.003897</td>\n",
       "      <td>0.048204</td>\n",
       "      <td>-0.007387</td>\n",
       "      <td>-0.026608</td>\n",
       "      <td>0.007861</td>\n",
       "      <td>0.060109</td>\n",
       "      <td>0.149039</td>\n",
       "      <td>1.000000</td>\n",
       "      <td>0.005756</td>\n",
       "      <td>-0.010995</td>\n",
       "      <td>0.000158</td>\n",
       "      <td>0.105953</td>\n",
       "      <td>0.060637</td>\n",
       "      <td>-0.010475</td>\n",
       "      <td>0.113833</td>\n",
       "    </tr>\n",
       "    <tr>\n",
       "      <th>residlen</th>\n",
       "      <td>0.041850</td>\n",
       "      <td>0.013098</td>\n",
       "      <td>0.006902</td>\n",
       "      <td>0.027859</td>\n",
       "      <td>-0.087811</td>\n",
       "      <td>0.295321</td>\n",
       "      <td>0.058831</td>\n",
       "      <td>0.005756</td>\n",
       "      <td>1.000000</td>\n",
       "      <td>0.131417</td>\n",
       "      <td>0.265400</td>\n",
       "      <td>0.054197</td>\n",
       "      <td>0.061345</td>\n",
       "      <td>-0.011909</td>\n",
       "      <td>0.061044</td>\n",
       "    </tr>\n",
       "    <tr>\n",
       "      <th>prpownr</th>\n",
       "      <td>0.314577</td>\n",
       "      <td>-0.063783</td>\n",
       "      <td>0.055240</td>\n",
       "      <td>0.300961</td>\n",
       "      <td>-0.192984</td>\n",
       "      <td>0.181755</td>\n",
       "      <td>0.015850</td>\n",
       "      <td>-0.010995</td>\n",
       "      <td>0.131417</td>\n",
       "      <td>1.000000</td>\n",
       "      <td>0.058511</td>\n",
       "      <td>0.354891</td>\n",
       "      <td>-0.019954</td>\n",
       "      <td>0.277565</td>\n",
       "      <td>0.026972</td>\n",
       "    </tr>\n",
       "    <tr>\n",
       "      <th>age</th>\n",
       "      <td>-0.018861</td>\n",
       "      <td>0.154075</td>\n",
       "      <td>0.037755</td>\n",
       "      <td>0.050640</td>\n",
       "      <td>-0.125610</td>\n",
       "      <td>0.359757</td>\n",
       "      <td>0.040698</td>\n",
       "      <td>0.000158</td>\n",
       "      <td>0.265400</td>\n",
       "      <td>0.058511</td>\n",
       "      <td>1.000000</td>\n",
       "      <td>0.306957</td>\n",
       "      <td>0.137929</td>\n",
       "      <td>0.013174</td>\n",
       "      <td>0.131171</td>\n",
       "    </tr>\n",
       "    <tr>\n",
       "      <th>housng</th>\n",
       "      <td>0.153928</td>\n",
       "      <td>0.081694</td>\n",
       "      <td>0.094522</td>\n",
       "      <td>0.126361</td>\n",
       "      <td>-0.126930</td>\n",
       "      <td>0.215654</td>\n",
       "      <td>0.052457</td>\n",
       "      <td>0.105953</td>\n",
       "      <td>0.054197</td>\n",
       "      <td>0.354891</td>\n",
       "      <td>0.306957</td>\n",
       "      <td>1.000000</td>\n",
       "      <td>0.039837</td>\n",
       "      <td>0.133298</td>\n",
       "      <td>0.109210</td>\n",
       "    </tr>\n",
       "    <tr>\n",
       "      <th>numcred</th>\n",
       "      <td>-0.007308</td>\n",
       "      <td>0.436512</td>\n",
       "      <td>0.074690</td>\n",
       "      <td>0.038134</td>\n",
       "      <td>-0.065308</td>\n",
       "      <td>0.115225</td>\n",
       "      <td>0.044896</td>\n",
       "      <td>0.060637</td>\n",
       "      <td>0.061345</td>\n",
       "      <td>-0.019954</td>\n",
       "      <td>0.137929</td>\n",
       "      <td>0.039837</td>\n",
       "      <td>1.000000</td>\n",
       "      <td>-0.013308</td>\n",
       "      <td>0.095047</td>\n",
       "    </tr>\n",
       "    <tr>\n",
       "      <th>emptype</th>\n",
       "      <td>0.252479</td>\n",
       "      <td>0.025071</td>\n",
       "      <td>0.034516</td>\n",
       "      <td>0.282926</td>\n",
       "      <td>-0.373257</td>\n",
       "      <td>0.139594</td>\n",
       "      <td>0.113138</td>\n",
       "      <td>-0.010475</td>\n",
       "      <td>-0.011909</td>\n",
       "      <td>0.277565</td>\n",
       "      <td>0.013174</td>\n",
       "      <td>0.133298</td>\n",
       "      <td>-0.013308</td>\n",
       "      <td>1.000000</td>\n",
       "      <td>-0.056606</td>\n",
       "    </tr>\n",
       "    <tr>\n",
       "      <th>numliab</th>\n",
       "      <td>0.001114</td>\n",
       "      <td>0.028976</td>\n",
       "      <td>0.009255</td>\n",
       "      <td>0.044728</td>\n",
       "      <td>-0.019061</td>\n",
       "      <td>0.050709</td>\n",
       "      <td>-0.059866</td>\n",
       "      <td>0.113833</td>\n",
       "      <td>0.061044</td>\n",
       "      <td>0.026972</td>\n",
       "      <td>0.131171</td>\n",
       "      <td>0.109210</td>\n",
       "      <td>0.095047</td>\n",
       "      <td>-0.056606</td>\n",
       "      <td>1.000000</td>\n",
       "    </tr>\n",
       "  </tbody>\n",
       "</table>\n",
       "</div>"
      ],
      "text/plain": [
       "          duration     chist    reason      camt  telephne    lenemp  \\\n",
       "duration  1.000000 -0.076000  0.171482  0.615645 -0.180049  0.099967   \n",
       "chist    -0.076000  1.000000 -0.086105 -0.060558 -0.020915  0.130637   \n",
       "reason    0.171482 -0.086105  1.000000  0.141879 -0.116151  0.024089   \n",
       "camt      0.615645 -0.060558  0.141879  1.000000 -0.301887  0.088360   \n",
       "telephne -0.180049 -0.020915 -0.116151 -0.301887  1.000000 -0.137472   \n",
       "lenemp    0.099967  0.130637  0.024089  0.088360 -0.137472  1.000000   \n",
       "instrate  0.106123  0.019237  0.023723 -0.279371 -0.006466  0.052770   \n",
       "perstat   0.003897  0.048204 -0.007387 -0.026608  0.007861  0.060109   \n",
       "residlen  0.041850  0.013098  0.006902  0.027859 -0.087811  0.295321   \n",
       "prpownr   0.314577 -0.063783  0.055240  0.300961 -0.192984  0.181755   \n",
       "age      -0.018861  0.154075  0.037755  0.050640 -0.125610  0.359757   \n",
       "housng    0.153928  0.081694  0.094522  0.126361 -0.126930  0.215654   \n",
       "numcred  -0.007308  0.436512  0.074690  0.038134 -0.065308  0.115225   \n",
       "emptype   0.252479  0.025071  0.034516  0.282926 -0.373257  0.139594   \n",
       "numliab   0.001114  0.028976  0.009255  0.044728 -0.019061  0.050709   \n",
       "\n",
       "          instrate   perstat  residlen   prpownr       age    housng  \\\n",
       "duration  0.106123  0.003897  0.041850  0.314577 -0.018861  0.153928   \n",
       "chist     0.019237  0.048204  0.013098 -0.063783  0.154075  0.081694   \n",
       "reason    0.023723 -0.007387  0.006902  0.055240  0.037755  0.094522   \n",
       "camt     -0.279371 -0.026608  0.027859  0.300961  0.050640  0.126361   \n",
       "telephne -0.006466  0.007861 -0.087811 -0.192984 -0.125610 -0.126930   \n",
       "lenemp    0.052770  0.060109  0.295321  0.181755  0.359757  0.215654   \n",
       "instrate  1.000000  0.149039  0.058831  0.015850  0.040698  0.052457   \n",
       "perstat   0.149039  1.000000  0.005756 -0.010995  0.000158  0.105953   \n",
       "residlen  0.058831  0.005756  1.000000  0.131417  0.265400  0.054197   \n",
       "prpownr   0.015850 -0.010995  0.131417  1.000000  0.058511  0.354891   \n",
       "age       0.040698  0.000158  0.265400  0.058511  1.000000  0.306957   \n",
       "housng    0.052457  0.105953  0.054197  0.354891  0.306957  1.000000   \n",
       "numcred   0.044896  0.060637  0.061345 -0.019954  0.137929  0.039837   \n",
       "emptype   0.113138 -0.010475 -0.011909  0.277565  0.013174  0.133298   \n",
       "numliab  -0.059866  0.113833  0.061044  0.026972  0.131171  0.109210   \n",
       "\n",
       "           numcred   emptype   numliab  \n",
       "duration -0.007308  0.252479  0.001114  \n",
       "chist     0.436512  0.025071  0.028976  \n",
       "reason    0.074690  0.034516  0.009255  \n",
       "camt      0.038134  0.282926  0.044728  \n",
       "telephne -0.065308 -0.373257 -0.019061  \n",
       "lenemp    0.115225  0.139594  0.050709  \n",
       "instrate  0.044896  0.113138 -0.059866  \n",
       "perstat   0.060637 -0.010475  0.113833  \n",
       "residlen  0.061345 -0.011909  0.061044  \n",
       "prpownr  -0.019954  0.277565  0.026972  \n",
       "age       0.137929  0.013174  0.131171  \n",
       "housng    0.039837  0.133298  0.109210  \n",
       "numcred   1.000000 -0.013308  0.095047  \n",
       "emptype  -0.013308  1.000000 -0.056606  \n",
       "numliab   0.095047 -0.056606  1.000000  "
      ]
     },
     "execution_count": 12,
     "metadata": {},
     "output_type": "execute_result"
    }
   ],
   "source": [
    "df_corr=df_std.corr(method=\"pearson\")\n",
    "df_corr"
   ]
  },
  {
   "cell_type": "markdown",
   "metadata": {},
   "source": [
    "### Prueba de esferacidad de Bartlet"
   ]
  },
  {
   "cell_type": "markdown",
   "metadata": {},
   "source": [
    "con un alpha igual a 0.01:\n",
    "\n",
    "- H0= p-valor>0.01 - las varaibles no están correlacionadas.\n",
    "- H1= p-valor<0.01 - Las variables sí están correlacionadas."
   ]
  },
  {
   "cell_type": "code",
   "execution_count": 13,
   "metadata": {},
   "outputs": [],
   "source": [
    "#indentity = np.identity(10)\n",
    "n = df_std.shape[0] #número de observaciones\n",
    "p = df_std.shape[1] #número de columnas"
   ]
  },
  {
   "cell_type": "code",
   "execution_count": 14,
   "metadata": {},
   "outputs": [],
   "source": [
    "chi2 = -(n-1-(2*p+5)/6)*math.log(np.linalg.det(df_corr))"
   ]
  },
  {
   "cell_type": "code",
   "execution_count": 15,
   "metadata": {
    "scrolled": true
   },
   "outputs": [
    {
     "data": {
      "text/plain": [
       "1570.825700088011"
      ]
     },
     "execution_count": 15,
     "metadata": {},
     "output_type": "execute_result"
    }
   ],
   "source": [
    "chi2"
   ]
  },
  {
   "cell_type": "code",
   "execution_count": 16,
   "metadata": {},
   "outputs": [],
   "source": [
    "ddl = p*(p-1)/2"
   ]
  },
  {
   "cell_type": "code",
   "execution_count": 17,
   "metadata": {
    "scrolled": true
   },
   "outputs": [
    {
     "data": {
      "text/plain": [
       "105.0"
      ]
     },
     "execution_count": 17,
     "metadata": {},
     "output_type": "execute_result"
    }
   ],
   "source": [
    "ddl"
   ]
  },
  {
   "cell_type": "code",
   "execution_count": 18,
   "metadata": {
    "scrolled": true
   },
   "outputs": [
    {
     "data": {
      "text/plain": [
       "4.4508973687542834e-260"
      ]
     },
     "execution_count": 18,
     "metadata": {},
     "output_type": "execute_result"
    }
   ],
   "source": [
    "pvalue = stats.chi2.pdf(chi2,ddl)\n",
    "pvalue"
   ]
  },
  {
   "cell_type": "markdown",
   "metadata": {},
   "source": [
    "### Paso 3: Análisis de Componentes Principales"
   ]
  },
  {
   "cell_type": "code",
   "execution_count": 19,
   "metadata": {},
   "outputs": [],
   "source": [
    "#Crear una Instancia de la clase PCA\n",
    "pca=PCA()#Inicialmente hay tantos CPs como variables originales"
   ]
  },
  {
   "cell_type": "code",
   "execution_count": 20,
   "metadata": {},
   "outputs": [],
   "source": [
    "xtrain_pca=pca.fit_transform(xtrain_std)"
   ]
  },
  {
   "cell_type": "code",
   "execution_count": 21,
   "metadata": {},
   "outputs": [
    {
     "data": {
      "text/plain": [
       "array([0.17347063, 0.12340491, 0.08593334, 0.08227581, 0.07565657,\n",
       "       0.06826758, 0.0630236 , 0.06136587, 0.05401719, 0.04907728,\n",
       "       0.0439161 , 0.03688589, 0.03465738, 0.03115123, 0.01689663])"
      ]
     },
     "execution_count": 21,
     "metadata": {},
     "output_type": "execute_result"
    }
   ],
   "source": [
    "#Analizando Variabilidad\n",
    "VarianzaExplicada=pca.explained_variance_ratio_\n",
    "VarianzaExplicada"
   ]
  },
  {
   "cell_type": "code",
   "execution_count": 22,
   "metadata": {},
   "outputs": [
    {
     "data": {
      "text/plain": [
       "array([0.17347063, 0.29687554, 0.38280888, 0.46508469, 0.54074126,\n",
       "       0.60900884, 0.67203244, 0.73339831, 0.7874155 , 0.83649278,\n",
       "       0.88040888, 0.91729476, 0.95195214, 0.98310337, 1.        ])"
      ]
     },
     "execution_count": 22,
     "metadata": {},
     "output_type": "execute_result"
    }
   ],
   "source": [
    "VarianzaAcomulada=np.cumsum(pca.explained_variance_ratio_)\n",
    "VarianzaAcomulada"
   ]
  },
  {
   "cell_type": "code",
   "execution_count": 23,
   "metadata": {},
   "outputs": [],
   "source": [
    "#Analizando Autovalores\n",
    "cov_mat=np.cov(xtrain_std.T)"
   ]
  },
  {
   "cell_type": "code",
   "execution_count": 24,
   "metadata": {},
   "outputs": [
    {
     "name": "stdout",
     "output_type": "stream",
     "text": [
      "[2.60578196 1.85372185 0.25381197 1.29084417 1.23590266 1.13647209\n",
      " 1.02547872 0.94670645 0.92180491 0.81141704 0.73721234 0.65968383\n",
      " 0.46793695 0.52060445 0.55407982]\n"
     ]
    }
   ],
   "source": [
    "AutoValores,AutoVectores=np.linalg.eig(cov_mat)\n",
    "print(AutoValores)"
   ]
  },
  {
   "cell_type": "code",
   "execution_count": 25,
   "metadata": {},
   "outputs": [
    {
     "data": {
      "text/plain": [
       "6"
      ]
     },
     "execution_count": 25,
     "metadata": {},
     "output_type": "execute_result"
    }
   ],
   "source": [
    "(AutoValores>1).sum()"
   ]
  },
  {
   "cell_type": "code",
   "execution_count": 26,
   "metadata": {},
   "outputs": [
    {
     "data": {
      "text/plain": [
       "0.17347062756722426"
      ]
     },
     "execution_count": 26,
     "metadata": {},
     "output_type": "execute_result"
    }
   ],
   "source": [
    "cpl=AutoValores[0]/sum(AutoValores)\n",
    "cpl"
   ]
  },
  {
   "cell_type": "code",
   "execution_count": 27,
   "metadata": {},
   "outputs": [
    {
     "data": {
      "text/plain": [
       "array([0.17347063, 0.12340491, 0.08593334, 0.08227581, 0.07565657,\n",
       "       0.06826758, 0.0630236 , 0.06136587, 0.05401719, 0.04907728,\n",
       "       0.0439161 , 0.03688589, 0.03465738, 0.03115123, 0.01689663])"
      ]
     },
     "execution_count": 27,
     "metadata": {},
     "output_type": "execute_result"
    }
   ],
   "source": [
    "#Una forma alternativa\n",
    "sorted(AutoValores,reverse=True)/sum(AutoValores)"
   ]
  },
  {
   "cell_type": "code",
   "execution_count": 28,
   "metadata": {
    "scrolled": true
   },
   "outputs": [
    {
     "data": {
      "image/png": "[encoded data removed]",
      "text/plain": [
       "<Figure size 432x288 with 1 Axes>"
      ]
     },
     "metadata": {
      "needs_background": "light"
     },
     "output_type": "display_data"
    }
   ],
   "source": [
    "plt.bar(range(1, 16), VarianzaExplicada)\n",
    "plt.step(range(1, 16), VarianzaAcomulada)\n",
    "plt.ylabel('Explicación de Variabilidad')\n",
    "plt.xlabel('Componestes Principales')\n",
    "plt.title(\"GRÁFICA PCA\")\n",
    "plt.show()"
   ]
  },
  {
   "cell_type": "markdown",
   "metadata": {},
   "source": [
    "##### Generacion de Numero de componentes principales"
   ]
  },
  {
   "cell_type": "code",
   "execution_count": 29,
   "metadata": {},
   "outputs": [],
   "source": [
    "pca = PCA(n_components=6) #n_components es el número de componentes que nos indicó Kaiser\n",
    "#fit_transform:ajuste el modelo con X y la reducción de dimensionalidad en X.\n",
    "X_std = pca.fit_transform(xtrain_std)"
   ]
  },
  {
   "cell_type": "code",
   "execution_count": 30,
   "metadata": {},
   "outputs": [
    {
     "data": {
      "text/html": [
       "<div>\n",
       "<style scoped>\n",
       "    .dataframe tbody tr th:only-of-type {\n",
       "        vertical-align: middle;\n",
       "    }\n",
       "\n",
       "    .dataframe tbody tr th {\n",
       "        vertical-align: top;\n",
       "    }\n",
       "\n",
       "    .dataframe thead th {\n",
       "        text-align: right;\n",
       "    }\n",
       "</style>\n",
       "<table border=\"1\" class=\"dataframe\">\n",
       "  <thead>\n",
       "    <tr style=\"text-align: right;\">\n",
       "      <th></th>\n",
       "      <th>PC1</th>\n",
       "      <th>PC2</th>\n",
       "      <th>PC3</th>\n",
       "      <th>PC4</th>\n",
       "      <th>PC5</th>\n",
       "      <th>PC6</th>\n",
       "    </tr>\n",
       "  </thead>\n",
       "  <tbody>\n",
       "    <tr>\n",
       "      <th>0</th>\n",
       "      <td>0.357958</td>\n",
       "      <td>1.107804</td>\n",
       "      <td>-0.894869</td>\n",
       "      <td>-2.109526</td>\n",
       "      <td>0.172859</td>\n",
       "      <td>-0.553757</td>\n",
       "    </tr>\n",
       "    <tr>\n",
       "      <th>1</th>\n",
       "      <td>-0.036130</td>\n",
       "      <td>1.374380</td>\n",
       "      <td>-3.014144</td>\n",
       "      <td>1.105057</td>\n",
       "      <td>-2.313433</td>\n",
       "      <td>0.418935</td>\n",
       "    </tr>\n",
       "    <tr>\n",
       "      <th>2</th>\n",
       "      <td>0.235394</td>\n",
       "      <td>-2.478637</td>\n",
       "      <td>-1.244102</td>\n",
       "      <td>1.296728</td>\n",
       "      <td>-0.449891</td>\n",
       "      <td>-0.675197</td>\n",
       "    </tr>\n",
       "    <tr>\n",
       "      <th>3</th>\n",
       "      <td>0.071459</td>\n",
       "      <td>-0.197860</td>\n",
       "      <td>-1.056150</td>\n",
       "      <td>1.563974</td>\n",
       "      <td>0.717678</td>\n",
       "      <td>2.345540</td>\n",
       "    </tr>\n",
       "    <tr>\n",
       "      <th>4</th>\n",
       "      <td>-0.765311</td>\n",
       "      <td>-0.414793</td>\n",
       "      <td>0.667308</td>\n",
       "      <td>-1.717680</td>\n",
       "      <td>0.566614</td>\n",
       "      <td>-0.350221</td>\n",
       "    </tr>\n",
       "  </tbody>\n",
       "</table>\n",
       "</div>"
      ],
      "text/plain": [
       "        PC1       PC2       PC3       PC4       PC5       PC6\n",
       "0  0.357958  1.107804 -0.894869 -2.109526  0.172859 -0.553757\n",
       "1 -0.036130  1.374380 -3.014144  1.105057 -2.313433  0.418935\n",
       "2  0.235394 -2.478637 -1.244102  1.296728 -0.449891 -0.675197\n",
       "3  0.071459 -0.197860 -1.056150  1.563974  0.717678  2.345540\n",
       "4 -0.765311 -0.414793  0.667308 -1.717680  0.566614 -0.350221"
      ]
     },
     "execution_count": 30,
     "metadata": {},
     "output_type": "execute_result"
    }
   ],
   "source": [
    "df_x =pd.DataFrame(X_std)\n",
    "df_x.columns = ['PC1', 'PC2','PC3','PC4', 'PC5','PC6']\n",
    "df_x.head()"
   ]
  },
  {
   "cell_type": "code",
   "execution_count": 31,
   "metadata": {},
   "outputs": [
    {
     "data": {
      "text/html": [
       "<div>\n",
       "<style scoped>\n",
       "    .dataframe tbody tr th:only-of-type {\n",
       "        vertical-align: middle;\n",
       "    }\n",
       "\n",
       "    .dataframe tbody tr th {\n",
       "        vertical-align: top;\n",
       "    }\n",
       "\n",
       "    .dataframe thead th {\n",
       "        text-align: right;\n",
       "    }\n",
       "</style>\n",
       "<table border=\"1\" class=\"dataframe\">\n",
       "  <thead>\n",
       "    <tr style=\"text-align: right;\">\n",
       "      <th></th>\n",
       "      <th>customer</th>\n",
       "    </tr>\n",
       "  </thead>\n",
       "  <tbody>\n",
       "    <tr>\n",
       "      <th>0</th>\n",
       "      <td>1.0</td>\n",
       "    </tr>\n",
       "    <tr>\n",
       "      <th>1</th>\n",
       "      <td>2.0</td>\n",
       "    </tr>\n",
       "    <tr>\n",
       "      <th>2</th>\n",
       "      <td>1.0</td>\n",
       "    </tr>\n",
       "    <tr>\n",
       "      <th>3</th>\n",
       "      <td>2.0</td>\n",
       "    </tr>\n",
       "    <tr>\n",
       "      <th>4</th>\n",
       "      <td>1.0</td>\n",
       "    </tr>\n",
       "  </tbody>\n",
       "</table>\n",
       "</div>"
      ],
      "text/plain": [
       "   customer\n",
       "0       1.0\n",
       "1       2.0\n",
       "2       1.0\n",
       "3       2.0\n",
       "4       1.0"
      ]
     },
     "execution_count": 31,
     "metadata": {},
     "output_type": "execute_result"
    }
   ],
   "source": [
    "df_y = pd.DataFrame(ytrain)\n",
    "df_y.columns = ['customer']\n",
    "df_y.head()"
   ]
  },
  {
   "cell_type": "markdown",
   "metadata": {},
   "source": [
    "##### Nuevo conjunto de datos"
   ]
  },
  {
   "cell_type": "code",
   "execution_count": 32,
   "metadata": {},
   "outputs": [
    {
     "data": {
      "text/html": [
       "<div>\n",
       "<style scoped>\n",
       "    .dataframe tbody tr th:only-of-type {\n",
       "        vertical-align: middle;\n",
       "    }\n",
       "\n",
       "    .dataframe tbody tr th {\n",
       "        vertical-align: top;\n",
       "    }\n",
       "\n",
       "    .dataframe thead th {\n",
       "        text-align: right;\n",
       "    }\n",
       "</style>\n",
       "<table border=\"1\" class=\"dataframe\">\n",
       "  <thead>\n",
       "    <tr style=\"text-align: right;\">\n",
       "      <th></th>\n",
       "      <th>PC1</th>\n",
       "      <th>PC2</th>\n",
       "      <th>PC3</th>\n",
       "      <th>PC4</th>\n",
       "      <th>PC5</th>\n",
       "      <th>PC6</th>\n",
       "      <th>customer</th>\n",
       "    </tr>\n",
       "  </thead>\n",
       "  <tbody>\n",
       "    <tr>\n",
       "      <th>0</th>\n",
       "      <td>0.357958</td>\n",
       "      <td>1.107804</td>\n",
       "      <td>-0.894869</td>\n",
       "      <td>-2.109526</td>\n",
       "      <td>0.172859</td>\n",
       "      <td>-0.553757</td>\n",
       "      <td>1.0</td>\n",
       "    </tr>\n",
       "    <tr>\n",
       "      <th>1</th>\n",
       "      <td>-0.036130</td>\n",
       "      <td>1.374380</td>\n",
       "      <td>-3.014144</td>\n",
       "      <td>1.105057</td>\n",
       "      <td>-2.313433</td>\n",
       "      <td>0.418935</td>\n",
       "      <td>2.0</td>\n",
       "    </tr>\n",
       "    <tr>\n",
       "      <th>2</th>\n",
       "      <td>0.235394</td>\n",
       "      <td>-2.478637</td>\n",
       "      <td>-1.244102</td>\n",
       "      <td>1.296728</td>\n",
       "      <td>-0.449891</td>\n",
       "      <td>-0.675197</td>\n",
       "      <td>1.0</td>\n",
       "    </tr>\n",
       "    <tr>\n",
       "      <th>3</th>\n",
       "      <td>0.071459</td>\n",
       "      <td>-0.197860</td>\n",
       "      <td>-1.056150</td>\n",
       "      <td>1.563974</td>\n",
       "      <td>0.717678</td>\n",
       "      <td>2.345540</td>\n",
       "      <td>2.0</td>\n",
       "    </tr>\n",
       "    <tr>\n",
       "      <th>4</th>\n",
       "      <td>-0.765311</td>\n",
       "      <td>-0.414793</td>\n",
       "      <td>0.667308</td>\n",
       "      <td>-1.717680</td>\n",
       "      <td>0.566614</td>\n",
       "      <td>-0.350221</td>\n",
       "      <td>1.0</td>\n",
       "    </tr>\n",
       "    <tr>\n",
       "      <th>5</th>\n",
       "      <td>0.697097</td>\n",
       "      <td>-0.596313</td>\n",
       "      <td>2.116030</td>\n",
       "      <td>-0.464408</td>\n",
       "      <td>0.083032</td>\n",
       "      <td>0.387817</td>\n",
       "      <td>2.0</td>\n",
       "    </tr>\n",
       "    <tr>\n",
       "      <th>6</th>\n",
       "      <td>-0.488380</td>\n",
       "      <td>1.573986</td>\n",
       "      <td>-0.216953</td>\n",
       "      <td>-0.525241</td>\n",
       "      <td>-1.227563</td>\n",
       "      <td>-0.261965</td>\n",
       "      <td>1.0</td>\n",
       "    </tr>\n",
       "    <tr>\n",
       "      <th>7</th>\n",
       "      <td>-0.444082</td>\n",
       "      <td>-1.067414</td>\n",
       "      <td>1.180356</td>\n",
       "      <td>-0.938877</td>\n",
       "      <td>-0.241765</td>\n",
       "      <td>0.542838</td>\n",
       "      <td>1.0</td>\n",
       "    </tr>\n",
       "    <tr>\n",
       "      <th>8</th>\n",
       "      <td>2.047943</td>\n",
       "      <td>0.365126</td>\n",
       "      <td>2.088276</td>\n",
       "      <td>-0.651831</td>\n",
       "      <td>-0.242252</td>\n",
       "      <td>-0.788406</td>\n",
       "      <td>1.0</td>\n",
       "    </tr>\n",
       "    <tr>\n",
       "      <th>9</th>\n",
       "      <td>-2.583473</td>\n",
       "      <td>-0.380457</td>\n",
       "      <td>0.404785</td>\n",
       "      <td>0.411982</td>\n",
       "      <td>-0.091772</td>\n",
       "      <td>0.307833</td>\n",
       "      <td>2.0</td>\n",
       "    </tr>\n",
       "  </tbody>\n",
       "</table>\n",
       "</div>"
      ],
      "text/plain": [
       "        PC1       PC2       PC3       PC4       PC5       PC6  customer\n",
       "0  0.357958  1.107804 -0.894869 -2.109526  0.172859 -0.553757       1.0\n",
       "1 -0.036130  1.374380 -3.014144  1.105057 -2.313433  0.418935       2.0\n",
       "2  0.235394 -2.478637 -1.244102  1.296728 -0.449891 -0.675197       1.0\n",
       "3  0.071459 -0.197860 -1.056150  1.563974  0.717678  2.345540       2.0\n",
       "4 -0.765311 -0.414793  0.667308 -1.717680  0.566614 -0.350221       1.0\n",
       "5  0.697097 -0.596313  2.116030 -0.464408  0.083032  0.387817       2.0\n",
       "6 -0.488380  1.573986 -0.216953 -0.525241 -1.227563 -0.261965       1.0\n",
       "7 -0.444082 -1.067414  1.180356 -0.938877 -0.241765  0.542838       1.0\n",
       "8  2.047943  0.365126  2.088276 -0.651831 -0.242252 -0.788406       1.0\n",
       "9 -2.583473 -0.380457  0.404785  0.411982 -0.091772  0.307833       2.0"
      ]
     },
     "execution_count": 32,
     "metadata": {},
     "output_type": "execute_result"
    }
   ],
   "source": [
    "df_rd = pd.concat([df_x, df_y], axis=1)\n",
    "df_rd.head(10)"
   ]
  },
  {
   "cell_type": "code",
   "execution_count": 33,
   "metadata": {},
   "outputs": [
    {
     "name": "stdout",
     "output_type": "stream",
     "text": [
      "<class 'pandas.core.frame.DataFrame'>\n",
      "RangeIndex: 700 entries, 0 to 699\n",
      "Data columns (total 7 columns):\n",
      " #   Column    Non-Null Count  Dtype  \n",
      "---  ------    --------------  -----  \n",
      " 0   PC1       700 non-null    float64\n",
      " 1   PC2       700 non-null    float64\n",
      " 2   PC3       700 non-null    float64\n",
      " 3   PC4       700 non-null    float64\n",
      " 4   PC5       700 non-null    float64\n",
      " 5   PC6       700 non-null    float64\n",
      " 6   customer  700 non-null    float64\n",
      "dtypes: float64(7)\n",
      "memory usage: 38.4 KB\n"
     ]
    }
   ],
   "source": [
    "df_rd.info()"
   ]
  },
  {
   "cell_type": "markdown",
   "metadata": {},
   "source": [
    "## Tema 10. Análisis Factorial"
   ]
  },
  {
   "cell_type": "code",
   "execution_count": 34,
   "metadata": {},
   "outputs": [],
   "source": [
    "import pandas as pd \n",
    "import matplotlib.pyplot as plt\n",
    "import seaborn as sns\n",
    "import numpy as np\n",
    "import math as math\n",
    "import os\n",
    "import scipy.stats as stats#Para calculo de probabilidades estadisticos\n",
    "from sklearn.model_selection import train_test_split\n",
    "from sklearn.preprocessing import StandardScaler\n",
    "from sklearn.decomposition import FactorAnalysis#Para descomposición de varianza en el PCA\n",
    "from sklearn.preprocessing import MinMaxScaler#Para la normalización de datos\n"
   ]
  },
  {
   "cell_type": "code",
   "execution_count": 35,
   "metadata": {},
   "outputs": [],
   "source": [
    "os.chdir(r\"E:\\PYTHOM\\MODULO 1\\CLASE 5\")"
   ]
  },
  {
   "cell_type": "code",
   "execution_count": 36,
   "metadata": {},
   "outputs": [
    {
     "data": {
      "text/html": [
       "<div>\n",
       "<style scoped>\n",
       "    .dataframe tbody tr th:only-of-type {\n",
       "        vertical-align: middle;\n",
       "    }\n",
       "\n",
       "    .dataframe tbody tr th {\n",
       "        vertical-align: top;\n",
       "    }\n",
       "\n",
       "    .dataframe thead th {\n",
       "        text-align: right;\n",
       "    }\n",
       "</style>\n",
       "<table border=\"1\" class=\"dataframe\">\n",
       "  <thead>\n",
       "    <tr style=\"text-align: right;\">\n",
       "      <th></th>\n",
       "      <th>Class label</th>\n",
       "      <th>Alcohol</th>\n",
       "      <th>Malic acid</th>\n",
       "      <th>Ash</th>\n",
       "      <th>Alcalinity of ash</th>\n",
       "      <th>Magnesium</th>\n",
       "      <th>Total phenols</th>\n",
       "      <th>Flavanoids</th>\n",
       "      <th>Nonflavanoid phenols</th>\n",
       "      <th>Proanthocyanins</th>\n",
       "      <th>Color intensity</th>\n",
       "      <th>Hue</th>\n",
       "      <th>OD280/OD315 of diluted wines</th>\n",
       "      <th>Proline</th>\n",
       "    </tr>\n",
       "  </thead>\n",
       "  <tbody>\n",
       "    <tr>\n",
       "      <th>0</th>\n",
       "      <td>1</td>\n",
       "      <td>14.23</td>\n",
       "      <td>1.71</td>\n",
       "      <td>2.43</td>\n",
       "      <td>15.6</td>\n",
       "      <td>127</td>\n",
       "      <td>2.80</td>\n",
       "      <td>3.06</td>\n",
       "      <td>0.28</td>\n",
       "      <td>2.29</td>\n",
       "      <td>5.64</td>\n",
       "      <td>1.04</td>\n",
       "      <td>3.92</td>\n",
       "      <td>1065</td>\n",
       "    </tr>\n",
       "    <tr>\n",
       "      <th>1</th>\n",
       "      <td>1</td>\n",
       "      <td>13.20</td>\n",
       "      <td>1.78</td>\n",
       "      <td>2.14</td>\n",
       "      <td>11.2</td>\n",
       "      <td>100</td>\n",
       "      <td>2.65</td>\n",
       "      <td>2.76</td>\n",
       "      <td>0.26</td>\n",
       "      <td>1.28</td>\n",
       "      <td>4.38</td>\n",
       "      <td>1.05</td>\n",
       "      <td>3.40</td>\n",
       "      <td>1050</td>\n",
       "    </tr>\n",
       "    <tr>\n",
       "      <th>2</th>\n",
       "      <td>1</td>\n",
       "      <td>13.16</td>\n",
       "      <td>2.36</td>\n",
       "      <td>2.67</td>\n",
       "      <td>18.6</td>\n",
       "      <td>101</td>\n",
       "      <td>2.80</td>\n",
       "      <td>3.24</td>\n",
       "      <td>0.30</td>\n",
       "      <td>2.81</td>\n",
       "      <td>5.68</td>\n",
       "      <td>1.03</td>\n",
       "      <td>3.17</td>\n",
       "      <td>1185</td>\n",
       "    </tr>\n",
       "    <tr>\n",
       "      <th>3</th>\n",
       "      <td>1</td>\n",
       "      <td>14.37</td>\n",
       "      <td>1.95</td>\n",
       "      <td>2.50</td>\n",
       "      <td>16.8</td>\n",
       "      <td>113</td>\n",
       "      <td>3.85</td>\n",
       "      <td>3.49</td>\n",
       "      <td>0.24</td>\n",
       "      <td>2.18</td>\n",
       "      <td>7.80</td>\n",
       "      <td>0.86</td>\n",
       "      <td>3.45</td>\n",
       "      <td>1480</td>\n",
       "    </tr>\n",
       "    <tr>\n",
       "      <th>4</th>\n",
       "      <td>1</td>\n",
       "      <td>13.24</td>\n",
       "      <td>2.59</td>\n",
       "      <td>2.87</td>\n",
       "      <td>21.0</td>\n",
       "      <td>118</td>\n",
       "      <td>2.80</td>\n",
       "      <td>2.69</td>\n",
       "      <td>0.39</td>\n",
       "      <td>1.82</td>\n",
       "      <td>4.32</td>\n",
       "      <td>1.04</td>\n",
       "      <td>2.93</td>\n",
       "      <td>735</td>\n",
       "    </tr>\n",
       "  </tbody>\n",
       "</table>\n",
       "</div>"
      ],
      "text/plain": [
       "   Class label  Alcohol  Malic acid   Ash  Alcalinity of ash  Magnesium  \\\n",
       "0            1    14.23        1.71  2.43               15.6        127   \n",
       "1            1    13.20        1.78  2.14               11.2        100   \n",
       "2            1    13.16        2.36  2.67               18.6        101   \n",
       "3            1    14.37        1.95  2.50               16.8        113   \n",
       "4            1    13.24        2.59  2.87               21.0        118   \n",
       "\n",
       "   Total phenols  Flavanoids  Nonflavanoid phenols  Proanthocyanins  \\\n",
       "0           2.80        3.06                  0.28             2.29   \n",
       "1           2.65        2.76                  0.26             1.28   \n",
       "2           2.80        3.24                  0.30             2.81   \n",
       "3           3.85        3.49                  0.24             2.18   \n",
       "4           2.80        2.69                  0.39             1.82   \n",
       "\n",
       "   Color intensity   Hue  OD280/OD315 of diluted wines  Proline  \n",
       "0             5.64  1.04                          3.92     1065  \n",
       "1             4.38  1.05                          3.40     1050  \n",
       "2             5.68  1.03                          3.17     1185  \n",
       "3             7.80  0.86                          3.45     1480  \n",
       "4             4.32  1.04                          2.93      735  "
      ]
     },
     "execution_count": 36,
     "metadata": {},
     "output_type": "execute_result"
    }
   ],
   "source": [
    "url=\"wine.data\"\n",
    "df_wine = pd.read_csv(url,header=None)\n",
    "\n",
    "# Si el conjunto de datos de Wine no está disponible temporalmente en el repositorio de Machine Learning de la UCI, \n",
    "#anule los comentarios de la siguiente línea de código para cargar el conjunto de datos desde una ruta local:\n",
    "\n",
    "#df_wine = pd.read_csv('D:/Python/1. Nivel I/9/data/wine.data', header=None)\n",
    "\n",
    "df_wine.columns = ['Class label', 'Alcohol', 'Malic acid', 'Ash',\n",
    "                   'Alcalinity of ash', 'Magnesium', 'Total phenols',\n",
    "                   'Flavanoids', 'Nonflavanoid phenols', 'Proanthocyanins',\n",
    "                   'Color intensity', 'Hue',\n",
    "                   'OD280/OD315 of diluted wines', 'Proline']\n",
    "\n",
    "df_wine.head()"
   ]
  },
  {
   "cell_type": "markdown",
   "metadata": {},
   "source": [
    "#### PARTICIONANDO LOS DATOS"
   ]
  },
  {
   "cell_type": "code",
   "execution_count": 37,
   "metadata": {},
   "outputs": [],
   "source": [
    "x=df_wine.iloc[:, 1:].values\n",
    "y=df_wine.iloc[:, 0].values\n",
    "xtrain, xtest, ytrain, ytest = \\\n",
    "    train_test_split(x, #predictores\n",
    "                     y, #target\n",
    "                     test_size=0.3, #tamaño de los datos de testeo \n",
    "                     stratify=y, # variable de estratificación\n",
    "                     random_state=0) #semilla"
   ]
  },
  {
   "cell_type": "markdown",
   "metadata": {},
   "source": [
    "#### ESCALAMIENTO DE DATOS"
   ]
  },
  {
   "cell_type": "code",
   "execution_count": 38,
   "metadata": {},
   "outputs": [],
   "source": [
    "sc=StandardScaler()#Nuestra instancia StandardScaler()\n",
    "xtrain_std=sc.fit_transform(xtrain)#Guarda la media y desviación de xtrain para luego\n",
    "xtest_std=sc.transform(xtest)"
   ]
  },
  {
   "cell_type": "markdown",
   "metadata": {},
   "source": [
    "**_Ilustración de Cargas Factoriales, Ejemplo: Data Iris_**"
   ]
  },
  {
   "cell_type": "code",
   "execution_count": 39,
   "metadata": {},
   "outputs": [
    {
     "data": {
      "text/plain": [
       "{'data': array([[5.1, 3.5, 1.4, 0.2],\n",
       "        [4.9, 3. , 1.4, 0.2],\n",
       "        [4.7, 3.2, 1.3, 0.2],\n",
       "        [4.6, 3.1, 1.5, 0.2],\n",
       "        [5. , 3.6, 1.4, 0.2],\n",
       "        [5.4, 3.9, 1.7, 0.4],\n",
       "        [4.6, 3.4, 1.4, 0.3],\n",
       "        [5. , 3.4, 1.5, 0.2],\n",
       "        [4.4, 2.9, 1.4, 0.2],\n",
       "        [4.9, 3.1, 1.5, 0.1],\n",
       "        [5.4, 3.7, 1.5, 0.2],\n",
       "        [4.8, 3.4, 1.6, 0.2],\n",
       "        [4.8, 3. , 1.4, 0.1],\n",
       "        [4.3, 3. , 1.1, 0.1],\n",
       "        [5.8, 4. , 1.2, 0.2],\n",
       "        [5.7, 4.4, 1.5, 0.4],\n",
       "        [5.4, 3.9, 1.3, 0.4],\n",
       "        [5.1, 3.5, 1.4, 0.3],\n",
       "        [5.7, 3.8, 1.7, 0.3],\n",
       "        [5.1, 3.8, 1.5, 0.3],\n",
       "        [5.4, 3.4, 1.7, 0.2],\n",
       "        [5.1, 3.7, 1.5, 0.4],\n",
       "        [4.6, 3.6, 1. , 0.2],\n",
       "        [5.1, 3.3, 1.7, 0.5],\n",
       "        [4.8, 3.4, 1.9, 0.2],\n",
       "        [5. , 3. , 1.6, 0.2],\n",
       "        [5. , 3.4, 1.6, 0.4],\n",
       "        [5.2, 3.5, 1.5, 0.2],\n",
       "        [5.2, 3.4, 1.4, 0.2],\n",
       "        [4.7, 3.2, 1.6, 0.2],\n",
       "        [4.8, 3.1, 1.6, 0.2],\n",
       "        [5.4, 3.4, 1.5, 0.4],\n",
       "        [5.2, 4.1, 1.5, 0.1],\n",
       "        [5.5, 4.2, 1.4, 0.2],\n",
       "        [4.9, 3.1, 1.5, 0.2],\n",
       "        [5. , 3.2, 1.2, 0.2],\n",
       "        [5.5, 3.5, 1.3, 0.2],\n",
       "        [4.9, 3.6, 1.4, 0.1],\n",
       "        [4.4, 3. , 1.3, 0.2],\n",
       "        [5.1, 3.4, 1.5, 0.2],\n",
       "        [5. , 3.5, 1.3, 0.3],\n",
       "        [4.5, 2.3, 1.3, 0.3],\n",
       "        [4.4, 3.2, 1.3, 0.2],\n",
       "        [5. , 3.5, 1.6, 0.6],\n",
       "        [5.1, 3.8, 1.9, 0.4],\n",
       "        [4.8, 3. , 1.4, 0.3],\n",
       "        [5.1, 3.8, 1.6, 0.2],\n",
       "        [4.6, 3.2, 1.4, 0.2],\n",
       "        [5.3, 3.7, 1.5, 0.2],\n",
       "        [5. , 3.3, 1.4, 0.2],\n",
       "        [7. , 3.2, 4.7, 1.4],\n",
       "        [6.4, 3.2, 4.5, 1.5],\n",
       "        [6.9, 3.1, 4.9, 1.5],\n",
       "        [5.5, 2.3, 4. , 1.3],\n",
       "        [6.5, 2.8, 4.6, 1.5],\n",
       "        [5.7, 2.8, 4.5, 1.3],\n",
       "        [6.3, 3.3, 4.7, 1.6],\n",
       "        [4.9, 2.4, 3.3, 1. ],\n",
       "        [6.6, 2.9, 4.6, 1.3],\n",
       "        [5.2, 2.7, 3.9, 1.4],\n",
       "        [5. , 2. , 3.5, 1. ],\n",
       "        [5.9, 3. , 4.2, 1.5],\n",
       "        [6. , 2.2, 4. , 1. ],\n",
       "        [6.1, 2.9, 4.7, 1.4],\n",
       "        [5.6, 2.9, 3.6, 1.3],\n",
       "        [6.7, 3.1, 4.4, 1.4],\n",
       "        [5.6, 3. , 4.5, 1.5],\n",
       "        [5.8, 2.7, 4.1, 1. ],\n",
       "        [6.2, 2.2, 4.5, 1.5],\n",
       "        [5.6, 2.5, 3.9, 1.1],\n",
       "        [5.9, 3.2, 4.8, 1.8],\n",
       "        [6.1, 2.8, 4. , 1.3],\n",
       "        [6.3, 2.5, 4.9, 1.5],\n",
       "        [6.1, 2.8, 4.7, 1.2],\n",
       "        [6.4, 2.9, 4.3, 1.3],\n",
       "        [6.6, 3. , 4.4, 1.4],\n",
       "        [6.8, 2.8, 4.8, 1.4],\n",
       "        [6.7, 3. , 5. , 1.7],\n",
       "        [6. , 2.9, 4.5, 1.5],\n",
       "        [5.7, 2.6, 3.5, 1. ],\n",
       "        [5.5, 2.4, 3.8, 1.1],\n",
       "        [5.5, 2.4, 3.7, 1. ],\n",
       "        [5.8, 2.7, 3.9, 1.2],\n",
       "        [6. , 2.7, 5.1, 1.6],\n",
       "        [5.4, 3. , 4.5, 1.5],\n",
       "        [6. , 3.4, 4.5, 1.6],\n",
       "        [6.7, 3.1, 4.7, 1.5],\n",
       "        [6.3, 2.3, 4.4, 1.3],\n",
       "        [5.6, 3. , 4.1, 1.3],\n",
       "        [5.5, 2.5, 4. , 1.3],\n",
       "        [5.5, 2.6, 4.4, 1.2],\n",
       "        [6.1, 3. , 4.6, 1.4],\n",
       "        [5.8, 2.6, 4. , 1.2],\n",
       "        [5. , 2.3, 3.3, 1. ],\n",
       "        [5.6, 2.7, 4.2, 1.3],\n",
       "        [5.7, 3. , 4.2, 1.2],\n",
       "        [5.7, 2.9, 4.2, 1.3],\n",
       "        [6.2, 2.9, 4.3, 1.3],\n",
       "        [5.1, 2.5, 3. , 1.1],\n",
       "        [5.7, 2.8, 4.1, 1.3],\n",
       "        [6.3, 3.3, 6. , 2.5],\n",
       "        [5.8, 2.7, 5.1, 1.9],\n",
       "        [7.1, 3. , 5.9, 2.1],\n",
       "        [6.3, 2.9, 5.6, 1.8],\n",
       "        [6.5, 3. , 5.8, 2.2],\n",
       "        [7.6, 3. , 6.6, 2.1],\n",
       "        [4.9, 2.5, 4.5, 1.7],\n",
       "        [7.3, 2.9, 6.3, 1.8],\n",
       "        [6.7, 2.5, 5.8, 1.8],\n",
       "        [7.2, 3.6, 6.1, 2.5],\n",
       "        [6.5, 3.2, 5.1, 2. ],\n",
       "        [6.4, 2.7, 5.3, 1.9],\n",
       "        [6.8, 3. , 5.5, 2.1],\n",
       "        [5.7, 2.5, 5. , 2. ],\n",
       "        [5.8, 2.8, 5.1, 2.4],\n",
       "        [6.4, 3.2, 5.3, 2.3],\n",
       "        [6.5, 3. , 5.5, 1.8],\n",
       "        [7.7, 3.8, 6.7, 2.2],\n",
       "        [7.7, 2.6, 6.9, 2.3],\n",
       "        [6. , 2.2, 5. , 1.5],\n",
       "        [6.9, 3.2, 5.7, 2.3],\n",
       "        [5.6, 2.8, 4.9, 2. ],\n",
       "        [7.7, 2.8, 6.7, 2. ],\n",
       "        [6.3, 2.7, 4.9, 1.8],\n",
       "        [6.7, 3.3, 5.7, 2.1],\n",
       "        [7.2, 3.2, 6. , 1.8],\n",
       "        [6.2, 2.8, 4.8, 1.8],\n",
       "        [6.1, 3. , 4.9, 1.8],\n",
       "        [6.4, 2.8, 5.6, 2.1],\n",
       "        [7.2, 3. , 5.8, 1.6],\n",
       "        [7.4, 2.8, 6.1, 1.9],\n",
       "        [7.9, 3.8, 6.4, 2. ],\n",
       "        [6.4, 2.8, 5.6, 2.2],\n",
       "        [6.3, 2.8, 5.1, 1.5],\n",
       "        [6.1, 2.6, 5.6, 1.4],\n",
       "        [7.7, 3. , 6.1, 2.3],\n",
       "        [6.3, 3.4, 5.6, 2.4],\n",
       "        [6.4, 3.1, 5.5, 1.8],\n",
       "        [6. , 3. , 4.8, 1.8],\n",
       "        [6.9, 3.1, 5.4, 2.1],\n",
       "        [6.7, 3.1, 5.6, 2.4],\n",
       "        [6.9, 3.1, 5.1, 2.3],\n",
       "        [5.8, 2.7, 5.1, 1.9],\n",
       "        [6.8, 3.2, 5.9, 2.3],\n",
       "        [6.7, 3.3, 5.7, 2.5],\n",
       "        [6.7, 3. , 5.2, 2.3],\n",
       "        [6.3, 2.5, 5. , 1.9],\n",
       "        [6.5, 3. , 5.2, 2. ],\n",
       "        [6.2, 3.4, 5.4, 2.3],\n",
       "        [5.9, 3. , 5.1, 1.8]]),\n",
       " 'target': array([0, 0, 0, 0, 0, 0, 0, 0, 0, 0, 0, 0, 0, 0, 0, 0, 0, 0, 0, 0, 0, 0,\n",
       "        0, 0, 0, 0, 0, 0, 0, 0, 0, 0, 0, 0, 0, 0, 0, 0, 0, 0, 0, 0, 0, 0,\n",
       "        0, 0, 0, 0, 0, 0, 1, 1, 1, 1, 1, 1, 1, 1, 1, 1, 1, 1, 1, 1, 1, 1,\n",
       "        1, 1, 1, 1, 1, 1, 1, 1, 1, 1, 1, 1, 1, 1, 1, 1, 1, 1, 1, 1, 1, 1,\n",
       "        1, 1, 1, 1, 1, 1, 1, 1, 1, 1, 1, 1, 2, 2, 2, 2, 2, 2, 2, 2, 2, 2,\n",
       "        2, 2, 2, 2, 2, 2, 2, 2, 2, 2, 2, 2, 2, 2, 2, 2, 2, 2, 2, 2, 2, 2,\n",
       "        2, 2, 2, 2, 2, 2, 2, 2, 2, 2, 2, 2, 2, 2, 2, 2, 2, 2]),\n",
       " 'frame': None,\n",
       " 'target_names': array(['setosa', 'versicolor', 'virginica'], dtype='<U10'),\n",
       " 'DESCR': '.. _iris_dataset:\\n\\nIris plants dataset\\n--------------------\\n\\n**Data Set Characteristics:**\\n\\n    :Number of Instances: 150 (50 in each of three classes)\\n    :Number of Attributes: 4 numeric, predictive attributes and the class\\n    :Attribute Information:\\n        - sepal length in cm\\n        - sepal width in cm\\n        - petal length in cm\\n        - petal width in cm\\n        - class:\\n                - Iris-Setosa\\n                - Iris-Versicolour\\n                - Iris-Virginica\\n                \\n    :Summary Statistics:\\n\\n    ============== ==== ==== ======= ===== ====================\\n                    Min  Max   Mean    SD   Class Correlation\\n    ============== ==== ==== ======= ===== ====================\\n    sepal length:   4.3  7.9   5.84   0.83    0.7826\\n    sepal width:    2.0  4.4   3.05   0.43   -0.4194\\n    petal length:   1.0  6.9   3.76   1.76    0.9490  (high!)\\n    petal width:    0.1  2.5   1.20   0.76    0.9565  (high!)\\n    ============== ==== ==== ======= ===== ====================\\n\\n    :Missing Attribute Values: None\\n    :Class Distribution: 33.3% for each of 3 classes.\\n    :Creator: R.A. Fisher\\n    :Donor: Michael Marshall (MARSHALL%PLU@io.arc.nasa.gov)\\n    :Date: July, 1988\\n\\nThe famous Iris database, first used by Sir R.A. Fisher. The dataset is taken\\nfrom Fisher\\'s paper. Note that it\\'s the same as in R, but not as in the UCI\\nMachine Learning Repository, which has two wrong data points.\\n\\nThis is perhaps the best known database to be found in the\\npattern recognition literature.  Fisher\\'s paper is a classic in the field and\\nis referenced frequently to this day.  (See Duda & Hart, for example.)  The\\ndata set contains 3 classes of 50 instances each, where each class refers to a\\ntype of iris plant.  One class is linearly separable from the other 2; the\\nlatter are NOT linearly separable from each other.\\n\\n.. topic:: References\\n\\n   - Fisher, R.A. \"The use of multiple measurements in taxonomic problems\"\\n     Annual Eugenics, 7, Part II, 179-188 (1936); also in \"Contributions to\\n     Mathematical Statistics\" (John Wiley, NY, 1950).\\n   - Duda, R.O., & Hart, P.E. (1973) Pattern Classification and Scene Analysis.\\n     (Q327.D83) John Wiley & Sons.  ISBN 0-471-22361-1.  See page 218.\\n   - Dasarathy, B.V. (1980) \"Nosing Around the Neighborhood: A New System\\n     Structure and Classification Rule for Recognition in Partially Exposed\\n     Environments\".  IEEE Transactions on Pattern Analysis and Machine\\n     Intelligence, Vol. PAMI-2, No. 1, 67-71.\\n   - Gates, G.W. (1972) \"The Reduced Nearest Neighbor Rule\".  IEEE Transactions\\n     on Information Theory, May 1972, 431-433.\\n   - See also: 1988 MLC Proceedings, 54-64.  Cheeseman et al\"s AUTOCLASS II\\n     conceptual clustering system finds 3 classes in the data.\\n   - Many, many more ...',\n",
       " 'feature_names': ['sepal length (cm)',\n",
       "  'sepal width (cm)',\n",
       "  'petal length (cm)',\n",
       "  'petal width (cm)'],\n",
       " 'filename': 'C:\\\\ProgramData\\\\Anaconda3\\\\lib\\\\site-packages\\\\sklearn\\\\datasets\\\\data\\\\iris.csv'}"
      ]
     },
     "execution_count": 39,
     "metadata": {},
     "output_type": "execute_result"
    }
   ],
   "source": [
    "from sklearn.datasets import load_iris\n",
    "iris = load_iris()\n",
    "iris"
   ]
  },
  {
   "cell_type": "code",
   "execution_count": 40,
   "metadata": {},
   "outputs": [],
   "source": [
    "x,y=iris.data,iris.target"
   ]
  },
  {
   "cell_type": "code",
   "execution_count": 41,
   "metadata": {},
   "outputs": [],
   "source": [
    "factor=FactorAnalysis(n_components=4, random_state=2020).fit(x)"
   ]
  },
  {
   "cell_type": "code",
   "execution_count": 42,
   "metadata": {},
   "outputs": [
    {
     "data": {
      "text/plain": [
       "array([[ 0.70698856, -0.15800499,  1.65423609,  0.70084996],\n",
       "       [ 0.115161  ,  0.15963548, -0.04432109, -0.01403039],\n",
       "       [-0.        ,  0.        ,  0.        ,  0.        ],\n",
       "       [-0.        ,  0.        ,  0.        , -0.        ]])"
      ]
     },
     "execution_count": 42,
     "metadata": {},
     "output_type": "execute_result"
    }
   ],
   "source": [
    "#Factores con máxima varianza (carga)\n",
    "factor.components_"
   ]
  },
  {
   "cell_type": "markdown",
   "metadata": {},
   "source": [
    "**_Cerrando ilustración de cargas factoriales_**"
   ]
  },
  {
   "cell_type": "code",
   "execution_count": 43,
   "metadata": {},
   "outputs": [
    {
     "data": {
      "text/plain": [
       "array([[-2.68398795e-01,  4.78267922e-01, -8.23434764e-02,\n",
       "         3.89619362e-01, -2.80493395e-01, -8.48027518e-01,\n",
       "        -8.96695560e-01,  6.10593544e-01, -6.34124632e-01,\n",
       "         1.77666823e-01, -6.72551278e-01, -7.98880917e-01,\n",
       "        -5.95473936e-01],\n",
       "       [ 7.01476029e-01,  1.78412796e-01,  2.63041773e-01,\n",
       "        -2.28848343e-01,  3.51196978e-01,  7.72534972e-02,\n",
       "        -1.90598515e-02,  1.00562271e-01,  2.22408351e-02,\n",
       "         7.52555988e-01, -2.59878489e-01, -3.41463147e-01,\n",
       "         5.52834465e-01],\n",
       "       [-7.61801772e-02,  1.62225043e-01,  6.55477450e-01,\n",
       "         6.00167810e-01,  1.51567033e-01,  1.33712377e-01,\n",
       "         9.11337260e-02,  1.81671002e-01,  2.64162505e-02,\n",
       "         2.06370030e-02, -3.92249922e-02,  7.33103165e-02,\n",
       "        -6.73110647e-02],\n",
       "       [-4.73323851e-02,  2.70658477e-01, -1.34998350e-01,\n",
       "        -1.92209263e-02, -1.63701363e-01,  1.18296185e-01,\n",
       "         7.84306206e-02, -4.09230845e-02,  2.85458651e-01,\n",
       "         1.14959202e-01, -2.98859200e-01,  3.87892038e-02,\n",
       "        -1.47433193e-01],\n",
       "       [-1.10134236e-01, -4.54221971e-02, -1.04796743e-02,\n",
       "         3.70167644e-02,  2.95922846e-01, -4.94769201e-02,\n",
       "        -3.33950713e-02, -2.36901930e-01,  6.59707340e-02,\n",
       "         1.99064358e-02, -7.67972096e-02, -2.27760852e-02,\n",
       "        -8.04604503e-03],\n",
       "       [-5.16441000e-02, -1.13917847e-01, -3.80534963e-05,\n",
       "        -4.27717043e-03, -3.72694575e-03,  1.17930866e-02,\n",
       "         7.72980315e-03,  5.96149653e-02,  5.93641555e-02,\n",
       "         5.26704143e-02,  5.97280992e-03, -3.31776396e-02,\n",
       "        -1.60664871e-02],\n",
       "       [-0.00000000e+00,  0.00000000e+00, -0.00000000e+00,\n",
       "        -0.00000000e+00,  0.00000000e+00,  0.00000000e+00,\n",
       "        -0.00000000e+00,  0.00000000e+00,  0.00000000e+00,\n",
       "        -0.00000000e+00,  0.00000000e+00, -0.00000000e+00,\n",
       "         0.00000000e+00],\n",
       "       [-0.00000000e+00, -0.00000000e+00,  0.00000000e+00,\n",
       "        -0.00000000e+00,  0.00000000e+00,  0.00000000e+00,\n",
       "         0.00000000e+00,  0.00000000e+00, -0.00000000e+00,\n",
       "        -0.00000000e+00, -0.00000000e+00,  0.00000000e+00,\n",
       "        -0.00000000e+00],\n",
       "       [ 0.00000000e+00, -0.00000000e+00, -0.00000000e+00,\n",
       "         0.00000000e+00,  0.00000000e+00,  0.00000000e+00,\n",
       "        -0.00000000e+00,  0.00000000e+00, -0.00000000e+00,\n",
       "         0.00000000e+00,  0.00000000e+00,  0.00000000e+00,\n",
       "        -0.00000000e+00],\n",
       "       [-0.00000000e+00,  0.00000000e+00, -0.00000000e+00,\n",
       "         0.00000000e+00, -0.00000000e+00,  0.00000000e+00,\n",
       "        -0.00000000e+00,  0.00000000e+00, -0.00000000e+00,\n",
       "         0.00000000e+00, -0.00000000e+00,  0.00000000e+00,\n",
       "         0.00000000e+00],\n",
       "       [ 0.00000000e+00, -0.00000000e+00,  0.00000000e+00,\n",
       "        -0.00000000e+00,  0.00000000e+00, -0.00000000e+00,\n",
       "        -0.00000000e+00,  0.00000000e+00,  0.00000000e+00,\n",
       "        -0.00000000e+00, -0.00000000e+00,  0.00000000e+00,\n",
       "         0.00000000e+00],\n",
       "       [-0.00000000e+00,  0.00000000e+00, -0.00000000e+00,\n",
       "        -0.00000000e+00,  0.00000000e+00, -0.00000000e+00,\n",
       "         0.00000000e+00,  0.00000000e+00, -0.00000000e+00,\n",
       "         0.00000000e+00,  0.00000000e+00,  0.00000000e+00,\n",
       "        -0.00000000e+00],\n",
       "       [ 0.00000000e+00, -0.00000000e+00, -0.00000000e+00,\n",
       "         0.00000000e+00,  0.00000000e+00, -0.00000000e+00,\n",
       "         0.00000000e+00,  0.00000000e+00, -0.00000000e+00,\n",
       "        -0.00000000e+00, -0.00000000e+00, -0.00000000e+00,\n",
       "         0.00000000e+00]])"
      ]
     },
     "execution_count": 43,
     "metadata": {},
     "output_type": "execute_result"
    }
   ],
   "source": [
    "FA= FactorAnalysis()\n",
    "xtrain_FA = FA.fit(xtrain_std)\n",
    "xtrain_FA.components_"
   ]
  },
  {
   "cell_type": "code",
   "execution_count": 44,
   "metadata": {
    "scrolled": true
   },
   "outputs": [
    {
     "data": {
      "text/html": [
       "<div>\n",
       "<style scoped>\n",
       "    .dataframe tbody tr th:only-of-type {\n",
       "        vertical-align: middle;\n",
       "    }\n",
       "\n",
       "    .dataframe tbody tr th {\n",
       "        vertical-align: top;\n",
       "    }\n",
       "\n",
       "    .dataframe thead th {\n",
       "        text-align: right;\n",
       "    }\n",
       "</style>\n",
       "<table border=\"1\" class=\"dataframe\">\n",
       "  <thead>\n",
       "    <tr style=\"text-align: right;\">\n",
       "      <th></th>\n",
       "      <th>F1</th>\n",
       "      <th>F2</th>\n",
       "      <th>F3</th>\n",
       "      <th>F4</th>\n",
       "      <th>F5</th>\n",
       "      <th>F6</th>\n",
       "    </tr>\n",
       "  </thead>\n",
       "  <tbody>\n",
       "    <tr>\n",
       "      <th>0</th>\n",
       "      <td>0.926144</td>\n",
       "      <td>0.438051</td>\n",
       "      <td>-0.298116</td>\n",
       "      <td>-0.832909</td>\n",
       "      <td>0.049138</td>\n",
       "      <td>1.303291</td>\n",
       "    </tr>\n",
       "    <tr>\n",
       "      <th>1</th>\n",
       "      <td>-0.827139</td>\n",
       "      <td>1.044580</td>\n",
       "      <td>0.840598</td>\n",
       "      <td>-1.669089</td>\n",
       "      <td>-0.187766</td>\n",
       "      <td>-0.579737</td>\n",
       "    </tr>\n",
       "    <tr>\n",
       "      <th>2</th>\n",
       "      <td>-1.157387</td>\n",
       "      <td>0.913191</td>\n",
       "      <td>0.678383</td>\n",
       "      <td>-0.221260</td>\n",
       "      <td>0.421297</td>\n",
       "      <td>-0.492270</td>\n",
       "    </tr>\n",
       "    <tr>\n",
       "      <th>3</th>\n",
       "      <td>-0.618607</td>\n",
       "      <td>0.510692</td>\n",
       "      <td>0.416441</td>\n",
       "      <td>-0.365276</td>\n",
       "      <td>1.150223</td>\n",
       "      <td>-0.062673</td>\n",
       "    </tr>\n",
       "    <tr>\n",
       "      <th>4</th>\n",
       "      <td>1.562971</td>\n",
       "      <td>0.171224</td>\n",
       "      <td>-0.429065</td>\n",
       "      <td>-0.732824</td>\n",
       "      <td>-1.136277</td>\n",
       "      <td>-1.038941</td>\n",
       "    </tr>\n",
       "  </tbody>\n",
       "</table>\n",
       "</div>"
      ],
      "text/plain": [
       "         F1        F2        F3        F4        F5        F6\n",
       "0  0.926144  0.438051 -0.298116 -0.832909  0.049138  1.303291\n",
       "1 -0.827139  1.044580  0.840598 -1.669089 -0.187766 -0.579737\n",
       "2 -1.157387  0.913191  0.678383 -0.221260  0.421297 -0.492270\n",
       "3 -0.618607  0.510692  0.416441 -0.365276  1.150223 -0.062673\n",
       "4  1.562971  0.171224 -0.429065 -0.732824 -1.136277 -1.038941"
      ]
     },
     "execution_count": 44,
     "metadata": {},
     "output_type": "execute_result"
    }
   ],
   "source": [
    "FA= FactorAnalysis(n_components=6,random_state=2020)\n",
    "xtrain_Fact6=FA.fit_transform(xtrain_std)\n",
    "xtrain_Fact6=pd.DataFrame(xtrain_Fact6,columns=[\"F1\",\"F2\",\"F3\",\"F4\",\"F5\",\"F6\"])\n",
    "xtrain_Fact6.head()"
   ]
  },
  {
   "cell_type": "code",
   "execution_count": 45,
   "metadata": {},
   "outputs": [
    {
     "data": {
      "text/html": [
       "<div>\n",
       "<style scoped>\n",
       "    .dataframe tbody tr th:only-of-type {\n",
       "        vertical-align: middle;\n",
       "    }\n",
       "\n",
       "    .dataframe tbody tr th {\n",
       "        vertical-align: top;\n",
       "    }\n",
       "\n",
       "    .dataframe thead th {\n",
       "        text-align: right;\n",
       "    }\n",
       "</style>\n",
       "<table border=\"1\" class=\"dataframe\">\n",
       "  <thead>\n",
       "    <tr style=\"text-align: right;\">\n",
       "      <th></th>\n",
       "      <th>Class label</th>\n",
       "    </tr>\n",
       "  </thead>\n",
       "  <tbody>\n",
       "    <tr>\n",
       "      <th>0</th>\n",
       "      <td>3</td>\n",
       "    </tr>\n",
       "    <tr>\n",
       "      <th>1</th>\n",
       "      <td>1</td>\n",
       "    </tr>\n",
       "    <tr>\n",
       "      <th>2</th>\n",
       "      <td>1</td>\n",
       "    </tr>\n",
       "    <tr>\n",
       "      <th>3</th>\n",
       "      <td>1</td>\n",
       "    </tr>\n",
       "    <tr>\n",
       "      <th>4</th>\n",
       "      <td>3</td>\n",
       "    </tr>\n",
       "  </tbody>\n",
       "</table>\n",
       "</div>"
      ],
      "text/plain": [
       "   Class label\n",
       "0            3\n",
       "1            1\n",
       "2            1\n",
       "3            1\n",
       "4            3"
      ]
     },
     "execution_count": 45,
     "metadata": {},
     "output_type": "execute_result"
    }
   ],
   "source": [
    "df_wine_y = pd.DataFrame(ytrain)\n",
    "df_wine_y.columns = ['Class label']\n",
    "df_wine_y.head()"
   ]
  },
  {
   "cell_type": "markdown",
   "metadata": {},
   "source": [
    "##### Nuevo conjunto de datos"
   ]
  },
  {
   "cell_type": "code",
   "execution_count": 46,
   "metadata": {},
   "outputs": [
    {
     "data": {
      "text/html": [
       "<div>\n",
       "<style scoped>\n",
       "    .dataframe tbody tr th:only-of-type {\n",
       "        vertical-align: middle;\n",
       "    }\n",
       "\n",
       "    .dataframe tbody tr th {\n",
       "        vertical-align: top;\n",
       "    }\n",
       "\n",
       "    .dataframe thead th {\n",
       "        text-align: right;\n",
       "    }\n",
       "</style>\n",
       "<table border=\"1\" class=\"dataframe\">\n",
       "  <thead>\n",
       "    <tr style=\"text-align: right;\">\n",
       "      <th></th>\n",
       "      <th>F1</th>\n",
       "      <th>F2</th>\n",
       "      <th>F3</th>\n",
       "      <th>F4</th>\n",
       "      <th>F5</th>\n",
       "      <th>F6</th>\n",
       "      <th>Class label</th>\n",
       "    </tr>\n",
       "  </thead>\n",
       "  <tbody>\n",
       "    <tr>\n",
       "      <th>0</th>\n",
       "      <td>0.926144</td>\n",
       "      <td>0.438051</td>\n",
       "      <td>-0.298116</td>\n",
       "      <td>-0.832909</td>\n",
       "      <td>0.049138</td>\n",
       "      <td>1.303291</td>\n",
       "      <td>3</td>\n",
       "    </tr>\n",
       "    <tr>\n",
       "      <th>1</th>\n",
       "      <td>-0.827139</td>\n",
       "      <td>1.044580</td>\n",
       "      <td>0.840598</td>\n",
       "      <td>-1.669089</td>\n",
       "      <td>-0.187766</td>\n",
       "      <td>-0.579737</td>\n",
       "      <td>1</td>\n",
       "    </tr>\n",
       "    <tr>\n",
       "      <th>2</th>\n",
       "      <td>-1.157387</td>\n",
       "      <td>0.913191</td>\n",
       "      <td>0.678383</td>\n",
       "      <td>-0.221260</td>\n",
       "      <td>0.421297</td>\n",
       "      <td>-0.492270</td>\n",
       "      <td>1</td>\n",
       "    </tr>\n",
       "    <tr>\n",
       "      <th>3</th>\n",
       "      <td>-0.618607</td>\n",
       "      <td>0.510692</td>\n",
       "      <td>0.416441</td>\n",
       "      <td>-0.365276</td>\n",
       "      <td>1.150223</td>\n",
       "      <td>-0.062673</td>\n",
       "      <td>1</td>\n",
       "    </tr>\n",
       "    <tr>\n",
       "      <th>4</th>\n",
       "      <td>1.562971</td>\n",
       "      <td>0.171224</td>\n",
       "      <td>-0.429065</td>\n",
       "      <td>-0.732824</td>\n",
       "      <td>-1.136277</td>\n",
       "      <td>-1.038941</td>\n",
       "      <td>3</td>\n",
       "    </tr>\n",
       "  </tbody>\n",
       "</table>\n",
       "</div>"
      ],
      "text/plain": [
       "         F1        F2        F3        F4        F5        F6  Class label\n",
       "0  0.926144  0.438051 -0.298116 -0.832909  0.049138  1.303291            3\n",
       "1 -0.827139  1.044580  0.840598 -1.669089 -0.187766 -0.579737            1\n",
       "2 -1.157387  0.913191  0.678383 -0.221260  0.421297 -0.492270            1\n",
       "3 -0.618607  0.510692  0.416441 -0.365276  1.150223 -0.062673            1\n",
       "4  1.562971  0.171224 -0.429065 -0.732824 -1.136277 -1.038941            3"
      ]
     },
     "execution_count": 46,
     "metadata": {},
     "output_type": "execute_result"
    }
   ],
   "source": [
    "df_wine_rd_fact = pd.concat([xtrain_Fact6, df_wine_y], axis=1)\n",
    "df_wine_rd_fact.head()"
   ]
  },
  {
   "cell_type": "markdown",
   "metadata": {},
   "source": [
    "## <center> Trabajando con el paquete FACTOR_ANALYZER </center>"
   ]
  },
  {
   "cell_type": "code",
   "execution_count": 47,
   "metadata": {},
   "outputs": [
    {
     "name": "stdout",
     "output_type": "stream",
     "text": [
      "Requirement already satisfied: factor_analyzer in c:\\programdata\\anaconda3\\lib\\site-packages (0.3.2)\n",
      "Requirement already satisfied: pandas in c:\\programdata\\anaconda3\\lib\\site-packages (from factor_analyzer) (1.1.3)\n",
      "Requirement already satisfied: scipy in c:\\programdata\\anaconda3\\lib\\site-packages (from factor_analyzer) (1.5.2)\n",
      "Requirement already satisfied: numpy in c:\\programdata\\anaconda3\\lib\\site-packages (from factor_analyzer) (1.19.2)\n",
      "Requirement already satisfied: scikit-learn in c:\\programdata\\anaconda3\\lib\\site-packages (from factor_analyzer) (0.23.2)\n",
      "Requirement already satisfied: pytz>=2017.2 in c:\\programdata\\anaconda3\\lib\\site-packages (from pandas->factor_analyzer) (2020.1)\n",
      "Requirement already satisfied: python-dateutil>=2.7.3 in c:\\programdata\\anaconda3\\lib\\site-packages (from pandas->factor_analyzer) (2.8.1)\n",
      "Requirement already satisfied: joblib>=0.11 in c:\\programdata\\anaconda3\\lib\\site-packages (from scikit-learn->factor_analyzer) (0.17.0)\n",
      "Requirement already satisfied: threadpoolctl>=2.0.0 in c:\\programdata\\anaconda3\\lib\\site-packages (from scikit-learn->factor_analyzer) (2.1.0)\n",
      "Requirement already satisfied: six>=1.5 in c:\\programdata\\anaconda3\\lib\\site-packages (from python-dateutil>=2.7.3->pandas->factor_analyzer) (1.15.0)\n",
      "Note: you may need to restart the kernel to use updated packages.\n"
     ]
    }
   ],
   "source": [
    "pip install factor_analyzer"
   ]
  },
  {
   "cell_type": "code",
   "execution_count": 48,
   "metadata": {},
   "outputs": [],
   "source": [
    "import sys\n",
    "import pandas as pd\n",
    "import numpy as np\n",
    "import matplotlib.pyplot as plt\n",
    "from sklearn.preprocessing import StandardScaler\n",
    "from sklearn.model_selection import train_test_split\n",
    "from factor_analyzer import FactorAnalyzer #Ojo es necesario descargar el paquete y colocarlo en una de las direcciones del path\n",
    "from factor_analyzer.factor_analyzer import calculate_bartlett_sphericity\n",
    "from factor_analyzer.factor_analyzer import calculate_kmo\n"
   ]
  },
  {
   "cell_type": "code",
   "execution_count": 49,
   "metadata": {},
   "outputs": [],
   "source": [
    "from factor_analyzer import FactorAnalyzer"
   ]
  },
  {
   "cell_type": "code",
   "execution_count": 50,
   "metadata": {},
   "outputs": [
    {
     "name": "stdout",
     "output_type": "stream",
     "text": [
      "C:\\Users\\user\n",
      "C:\\ProgramData\\Anaconda3\\python38.zip\n",
      "C:\\ProgramData\\Anaconda3\\DLLs\n",
      "C:\\ProgramData\\Anaconda3\\lib\n",
      "C:\\ProgramData\\Anaconda3\n",
      "\n",
      "C:\\ProgramData\\Anaconda3\\lib\\site-packages\n",
      "C:\\ProgramData\\Anaconda3\\lib\\site-packages\\win32\n",
      "C:\\ProgramData\\Anaconda3\\lib\\site-packages\\win32\\lib\n",
      "C:\\ProgramData\\Anaconda3\\lib\\site-packages\\Pythonwin\n",
      "C:\\ProgramData\\Anaconda3\\lib\\site-packages\\IPython\\extensions\n",
      "C:\\Users\\user\\.ipython\n"
     ]
    }
   ],
   "source": [
    "import sys\n",
    "for a in sys.path:\n",
    "    a.replace('\\\\\\\\','\\\\')\n",
    "    print(a)\n"
   ]
  },
  {
   "cell_type": "code",
   "execution_count": 51,
   "metadata": {},
   "outputs": [],
   "source": [
    "#Estableciendo la ruta de trabajo\n",
    "os.chdir(r\"E:\\PYTHOM\\MODULO 1\\CLASE 5\")"
   ]
  },
  {
   "cell_type": "code",
   "execution_count": 52,
   "metadata": {},
   "outputs": [
    {
     "data": {
      "text/html": [
       "<div>\n",
       "<style scoped>\n",
       "    .dataframe tbody tr th:only-of-type {\n",
       "        vertical-align: middle;\n",
       "    }\n",
       "\n",
       "    .dataframe tbody tr th {\n",
       "        vertical-align: top;\n",
       "    }\n",
       "\n",
       "    .dataframe thead th {\n",
       "        text-align: right;\n",
       "    }\n",
       "</style>\n",
       "<table border=\"1\" class=\"dataframe\">\n",
       "  <thead>\n",
       "    <tr style=\"text-align: right;\">\n",
       "      <th></th>\n",
       "      <th>Name</th>\n",
       "      <th>GP</th>\n",
       "      <th>MIN</th>\n",
       "      <th>PTS</th>\n",
       "      <th>FGM</th>\n",
       "      <th>FGA</th>\n",
       "      <th>FG%</th>\n",
       "      <th>3P Made</th>\n",
       "      <th>3PA</th>\n",
       "      <th>3P%</th>\n",
       "      <th>...</th>\n",
       "      <th>FTA</th>\n",
       "      <th>FT%</th>\n",
       "      <th>OREB</th>\n",
       "      <th>DREB</th>\n",
       "      <th>REB</th>\n",
       "      <th>AST</th>\n",
       "      <th>STL</th>\n",
       "      <th>BLK</th>\n",
       "      <th>TOV</th>\n",
       "      <th>TARGET_5Yrs</th>\n",
       "    </tr>\n",
       "  </thead>\n",
       "  <tbody>\n",
       "    <tr>\n",
       "      <th>0</th>\n",
       "      <td>Brandon Ingram</td>\n",
       "      <td>36</td>\n",
       "      <td>27.4</td>\n",
       "      <td>7.4</td>\n",
       "      <td>2.6</td>\n",
       "      <td>7.6</td>\n",
       "      <td>34.7</td>\n",
       "      <td>0.5</td>\n",
       "      <td>2.1</td>\n",
       "      <td>25.0</td>\n",
       "      <td>...</td>\n",
       "      <td>2.3</td>\n",
       "      <td>69.9</td>\n",
       "      <td>0.7</td>\n",
       "      <td>3.4</td>\n",
       "      <td>4.1</td>\n",
       "      <td>1.9</td>\n",
       "      <td>0.4</td>\n",
       "      <td>0.4</td>\n",
       "      <td>1.3</td>\n",
       "      <td>0.0</td>\n",
       "    </tr>\n",
       "    <tr>\n",
       "      <th>1</th>\n",
       "      <td>Andrew Harrison</td>\n",
       "      <td>35</td>\n",
       "      <td>26.9</td>\n",
       "      <td>7.2</td>\n",
       "      <td>2.0</td>\n",
       "      <td>6.7</td>\n",
       "      <td>29.6</td>\n",
       "      <td>0.7</td>\n",
       "      <td>2.8</td>\n",
       "      <td>23.5</td>\n",
       "      <td>...</td>\n",
       "      <td>3.4</td>\n",
       "      <td>76.5</td>\n",
       "      <td>0.5</td>\n",
       "      <td>2.0</td>\n",
       "      <td>2.4</td>\n",
       "      <td>3.7</td>\n",
       "      <td>1.1</td>\n",
       "      <td>0.5</td>\n",
       "      <td>1.6</td>\n",
       "      <td>0.0</td>\n",
       "    </tr>\n",
       "    <tr>\n",
       "      <th>2</th>\n",
       "      <td>JaKarr Sampson</td>\n",
       "      <td>74</td>\n",
       "      <td>15.3</td>\n",
       "      <td>5.2</td>\n",
       "      <td>2.0</td>\n",
       "      <td>4.7</td>\n",
       "      <td>42.2</td>\n",
       "      <td>0.4</td>\n",
       "      <td>1.7</td>\n",
       "      <td>24.4</td>\n",
       "      <td>...</td>\n",
       "      <td>1.3</td>\n",
       "      <td>67.0</td>\n",
       "      <td>0.5</td>\n",
       "      <td>1.7</td>\n",
       "      <td>2.2</td>\n",
       "      <td>1.0</td>\n",
       "      <td>0.5</td>\n",
       "      <td>0.3</td>\n",
       "      <td>1.0</td>\n",
       "      <td>0.0</td>\n",
       "    </tr>\n",
       "    <tr>\n",
       "      <th>3</th>\n",
       "      <td>Malik Sealy</td>\n",
       "      <td>58</td>\n",
       "      <td>11.6</td>\n",
       "      <td>5.7</td>\n",
       "      <td>2.3</td>\n",
       "      <td>5.5</td>\n",
       "      <td>42.6</td>\n",
       "      <td>0.1</td>\n",
       "      <td>0.5</td>\n",
       "      <td>22.6</td>\n",
       "      <td>...</td>\n",
       "      <td>1.3</td>\n",
       "      <td>68.9</td>\n",
       "      <td>1.0</td>\n",
       "      <td>0.9</td>\n",
       "      <td>1.9</td>\n",
       "      <td>0.8</td>\n",
       "      <td>0.6</td>\n",
       "      <td>0.1</td>\n",
       "      <td>1.0</td>\n",
       "      <td>1.0</td>\n",
       "    </tr>\n",
       "    <tr>\n",
       "      <th>4</th>\n",
       "      <td>Matt Geiger</td>\n",
       "      <td>48</td>\n",
       "      <td>11.5</td>\n",
       "      <td>4.5</td>\n",
       "      <td>1.6</td>\n",
       "      <td>3.0</td>\n",
       "      <td>52.4</td>\n",
       "      <td>0.0</td>\n",
       "      <td>0.1</td>\n",
       "      <td>0.0</td>\n",
       "      <td>...</td>\n",
       "      <td>1.9</td>\n",
       "      <td>67.4</td>\n",
       "      <td>1.0</td>\n",
       "      <td>1.5</td>\n",
       "      <td>2.5</td>\n",
       "      <td>0.3</td>\n",
       "      <td>0.3</td>\n",
       "      <td>0.4</td>\n",
       "      <td>0.8</td>\n",
       "      <td>1.0</td>\n",
       "    </tr>\n",
       "  </tbody>\n",
       "</table>\n",
       "<p>5 rows × 21 columns</p>\n",
       "</div>"
      ],
      "text/plain": [
       "              Name  GP   MIN  PTS  FGM  FGA   FG%  3P Made  3PA   3P%  ...  \\\n",
       "0   Brandon Ingram  36  27.4  7.4  2.6  7.6  34.7      0.5  2.1  25.0  ...   \n",
       "1  Andrew Harrison  35  26.9  7.2  2.0  6.7  29.6      0.7  2.8  23.5  ...   \n",
       "2   JaKarr Sampson  74  15.3  5.2  2.0  4.7  42.2      0.4  1.7  24.4  ...   \n",
       "3      Malik Sealy  58  11.6  5.7  2.3  5.5  42.6      0.1  0.5  22.6  ...   \n",
       "4      Matt Geiger  48  11.5  4.5  1.6  3.0  52.4      0.0  0.1   0.0  ...   \n",
       "\n",
       "   FTA   FT%  OREB  DREB  REB  AST  STL  BLK  TOV  TARGET_5Yrs  \n",
       "0  2.3  69.9   0.7   3.4  4.1  1.9  0.4  0.4  1.3          0.0  \n",
       "1  3.4  76.5   0.5   2.0  2.4  3.7  1.1  0.5  1.6          0.0  \n",
       "2  1.3  67.0   0.5   1.7  2.2  1.0  0.5  0.3  1.0          0.0  \n",
       "3  1.3  68.9   1.0   0.9  1.9  0.8  0.6  0.1  1.0          1.0  \n",
       "4  1.9  67.4   1.0   1.5  2.5  0.3  0.3  0.4  0.8          1.0  \n",
       "\n",
       "[5 rows x 21 columns]"
      ]
     },
     "execution_count": 52,
     "metadata": {},
     "output_type": "execute_result"
    }
   ],
   "source": [
    "mifichero=\"nba_logreg2.csv\"\n",
    "df_nba = pd.read_csv(mifichero,sep=';')\n",
    "df_nba.head()"
   ]
  },
  {
   "cell_type": "code",
   "execution_count": 53,
   "metadata": {},
   "outputs": [
    {
     "data": {
      "text/plain": [
       "Name            object\n",
       "GP               int64\n",
       "MIN            float64\n",
       "PTS            float64\n",
       "FGM            float64\n",
       "FGA            float64\n",
       "FG%            float64\n",
       "3P Made        float64\n",
       "3PA            float64\n",
       "3P%            float64\n",
       "FTM            float64\n",
       "FTA            float64\n",
       "FT%            float64\n",
       "OREB           float64\n",
       "DREB           float64\n",
       "REB            float64\n",
       "AST            float64\n",
       "STL            float64\n",
       "BLK            float64\n",
       "TOV            float64\n",
       "TARGET_5Yrs    float64\n",
       "dtype: object"
      ]
     },
     "execution_count": 53,
     "metadata": {},
     "output_type": "execute_result"
    }
   ],
   "source": [
    "#Revisando la estructura de las variables\n",
    "df_nba.dtypes"
   ]
  },
  {
   "cell_type": "code",
   "execution_count": 54,
   "metadata": {},
   "outputs": [
    {
     "data": {
      "text/plain": [
       "(1329, 21)"
      ]
     },
     "execution_count": 54,
     "metadata": {},
     "output_type": "execute_result"
    }
   ],
   "source": [
    "#Cambiando el tipo de variable para el target\n",
    "df_nba[\"TARGET_5Yrs\"]=df_nba[\"TARGET_5Yrs\"].astype('int64')\n",
    "df_nba.shape"
   ]
  },
  {
   "cell_type": "code",
   "execution_count": 55,
   "metadata": {},
   "outputs": [],
   "source": [
    "#Separando las variables continuas\n",
    "continuas = ['GP','MIN','PTS','FGM','FGA','FG%','3P Made','3PA','3P%','FTM','FTA','FT%','OREB'\n",
    "            ,'DREB','REB','AST','STL','BLK','TOV']\n",
    "x = df_nba.loc[:, continuas]\n",
    "#Separando las variable target\n",
    "y = df_nba['TARGET_5Yrs']"
   ]
  },
  {
   "cell_type": "code",
   "execution_count": 56,
   "metadata": {},
   "outputs": [],
   "source": [
    "#Primero creamos los sets de training y testing (70% y 30%)\n",
    "xtrain,xtest,ytrain,ytest=\\\n",
    "    train_test_split(x,y,test_size=0.3,random_state=2020,stratify=y)"
   ]
  },
  {
   "cell_type": "code",
   "execution_count": 57,
   "metadata": {},
   "outputs": [],
   "source": [
    "#Estandarizando las variables continuas\n",
    "std=StandardScaler()\n",
    "xtrain_std = std.fit_transform(xtrain)\n",
    "#Aplicamos lo aprendido al conjunto xtest\n",
    "xtest_std = std.transform(xtest)"
   ]
  },
  {
   "cell_type": "code",
   "execution_count": 58,
   "metadata": {},
   "outputs": [
    {
     "data": {
      "text/html": [
       "<div>\n",
       "<style scoped>\n",
       "    .dataframe tbody tr th:only-of-type {\n",
       "        vertical-align: middle;\n",
       "    }\n",
       "\n",
       "    .dataframe tbody tr th {\n",
       "        vertical-align: top;\n",
       "    }\n",
       "\n",
       "    .dataframe thead th {\n",
       "        text-align: right;\n",
       "    }\n",
       "</style>\n",
       "<table border=\"1\" class=\"dataframe\">\n",
       "  <thead>\n",
       "    <tr style=\"text-align: right;\">\n",
       "      <th></th>\n",
       "      <th>GP</th>\n",
       "      <th>MIN</th>\n",
       "      <th>PTS</th>\n",
       "      <th>FGM</th>\n",
       "      <th>FGA</th>\n",
       "      <th>FG%</th>\n",
       "      <th>3P Made</th>\n",
       "      <th>3PA</th>\n",
       "      <th>3P%</th>\n",
       "      <th>FTM</th>\n",
       "      <th>FTA</th>\n",
       "      <th>FT%</th>\n",
       "      <th>OREB</th>\n",
       "      <th>DREB</th>\n",
       "      <th>REB</th>\n",
       "      <th>AST</th>\n",
       "      <th>STL</th>\n",
       "      <th>BLK</th>\n",
       "      <th>TOV</th>\n",
       "    </tr>\n",
       "  </thead>\n",
       "  <tbody>\n",
       "    <tr>\n",
       "      <th>0</th>\n",
       "      <td>-1.369180</td>\n",
       "      <td>-0.473598</td>\n",
       "      <td>0.281668</td>\n",
       "      <td>0.208685</td>\n",
       "      <td>0.263477</td>\n",
       "      <td>0.006113</td>\n",
       "      <td>0.926058</td>\n",
       "      <td>0.778757</td>\n",
       "      <td>1.308397</td>\n",
       "      <td>0.082499</td>\n",
       "      <td>0.044399</td>\n",
       "      <td>0.146739</td>\n",
       "      <td>-0.390759</td>\n",
       "      <td>-0.450818</td>\n",
       "      <td>-0.445607</td>\n",
       "      <td>-0.446585</td>\n",
       "      <td>-0.532769</td>\n",
       "      <td>-0.599360</td>\n",
       "      <td>-0.270871</td>\n",
       "    </tr>\n",
       "    <tr>\n",
       "      <th>1</th>\n",
       "      <td>0.135673</td>\n",
       "      <td>-0.756214</td>\n",
       "      <td>-0.657948</td>\n",
       "      <td>-0.545126</td>\n",
       "      <td>-0.681972</td>\n",
       "      <td>0.893430</td>\n",
       "      <td>-0.648410</td>\n",
       "      <td>-0.737785</td>\n",
       "      <td>-1.183699</td>\n",
       "      <td>-0.814274</td>\n",
       "      <td>-0.775454</td>\n",
       "      <td>-0.585815</td>\n",
       "      <td>-0.132750</td>\n",
       "      <td>-0.231539</td>\n",
       "      <td>-0.251661</td>\n",
       "      <td>-0.914443</td>\n",
       "      <td>-0.532769</td>\n",
       "      <td>-0.148750</td>\n",
       "      <td>-1.352608</td>\n",
       "    </tr>\n",
       "    <tr>\n",
       "      <th>2</th>\n",
       "      <td>1.061737</td>\n",
       "      <td>0.386027</td>\n",
       "      <td>0.236925</td>\n",
       "      <td>0.382642</td>\n",
       "      <td>0.317502</td>\n",
       "      <td>0.367613</td>\n",
       "      <td>-0.385999</td>\n",
       "      <td>-0.453434</td>\n",
       "      <td>-0.099637</td>\n",
       "      <td>-0.017143</td>\n",
       "      <td>0.267995</td>\n",
       "      <td>-1.260536</td>\n",
       "      <td>0.641277</td>\n",
       "      <td>0.207018</td>\n",
       "      <td>0.378664</td>\n",
       "      <td>0.355457</td>\n",
       "      <td>1.159924</td>\n",
       "      <td>0.752471</td>\n",
       "      <td>0.675650</td>\n",
       "    </tr>\n",
       "    <tr>\n",
       "      <th>3</th>\n",
       "      <td>0.888100</td>\n",
       "      <td>2.646958</td>\n",
       "      <td>3.726926</td>\n",
       "      <td>3.223928</td>\n",
       "      <td>3.748129</td>\n",
       "      <td>-0.404681</td>\n",
       "      <td>4.599818</td>\n",
       "      <td>4.949247</td>\n",
       "      <td>0.940813</td>\n",
       "      <td>3.669592</td>\n",
       "      <td>3.994597</td>\n",
       "      <td>-0.046039</td>\n",
       "      <td>0.641277</td>\n",
       "      <td>0.426296</td>\n",
       "      <td>0.524124</td>\n",
       "      <td>3.964647</td>\n",
       "      <td>3.578057</td>\n",
       "      <td>-0.148750</td>\n",
       "      <td>4.326515</td>\n",
       "    </tr>\n",
       "    <tr>\n",
       "      <th>4</th>\n",
       "      <td>0.540826</td>\n",
       "      <td>2.187707</td>\n",
       "      <td>3.771669</td>\n",
       "      <td>4.151696</td>\n",
       "      <td>3.450988</td>\n",
       "      <td>1.353520</td>\n",
       "      <td>-0.648410</td>\n",
       "      <td>-0.737785</td>\n",
       "      <td>-1.183699</td>\n",
       "      <td>2.872460</td>\n",
       "      <td>3.025680</td>\n",
       "      <td>0.021434</td>\n",
       "      <td>4.253401</td>\n",
       "      <td>3.130731</td>\n",
       "      <td>3.675751</td>\n",
       "      <td>0.622804</td>\n",
       "      <td>2.852617</td>\n",
       "      <td>1.203082</td>\n",
       "      <td>2.298256</td>\n",
       "    </tr>\n",
       "  </tbody>\n",
       "</table>\n",
       "</div>"
      ],
      "text/plain": [
       "         GP       MIN       PTS       FGM       FGA       FG%   3P Made  \\\n",
       "0 -1.369180 -0.473598  0.281668  0.208685  0.263477  0.006113  0.926058   \n",
       "1  0.135673 -0.756214 -0.657948 -0.545126 -0.681972  0.893430 -0.648410   \n",
       "2  1.061737  0.386027  0.236925  0.382642  0.317502  0.367613 -0.385999   \n",
       "3  0.888100  2.646958  3.726926  3.223928  3.748129 -0.404681  4.599818   \n",
       "4  0.540826  2.187707  3.771669  4.151696  3.450988  1.353520 -0.648410   \n",
       "\n",
       "        3PA       3P%       FTM       FTA       FT%      OREB      DREB  \\\n",
       "0  0.778757  1.308397  0.082499  0.044399  0.146739 -0.390759 -0.450818   \n",
       "1 -0.737785 -1.183699 -0.814274 -0.775454 -0.585815 -0.132750 -0.231539   \n",
       "2 -0.453434 -0.099637 -0.017143  0.267995 -1.260536  0.641277  0.207018   \n",
       "3  4.949247  0.940813  3.669592  3.994597 -0.046039  0.641277  0.426296   \n",
       "4 -0.737785 -1.183699  2.872460  3.025680  0.021434  4.253401  3.130731   \n",
       "\n",
       "        REB       AST       STL       BLK       TOV  \n",
       "0 -0.445607 -0.446585 -0.532769 -0.599360 -0.270871  \n",
       "1 -0.251661 -0.914443 -0.532769 -0.148750 -1.352608  \n",
       "2  0.378664  0.355457  1.159924  0.752471  0.675650  \n",
       "3  0.524124  3.964647  3.578057 -0.148750  4.326515  \n",
       "4  3.675751  0.622804  2.852617  1.203082  2.298256  "
      ]
     },
     "execution_count": 58,
     "metadata": {},
     "output_type": "execute_result"
    }
   ],
   "source": [
    "#Generación del DataFrame representado con los valores estandarizados de las variables continuas.\n",
    "df_xtrain_std=pd.DataFrame(xtrain_std,columns=continuas)\n",
    "df_xtrain_std.head()"
   ]
  },
  {
   "cell_type": "code",
   "execution_count": 59,
   "metadata": {},
   "outputs": [
    {
     "data": {
      "text/plain": [
       "(38033.226799967095, 0.0)"
      ]
     },
     "execution_count": 59,
     "metadata": {},
     "output_type": "execute_result"
    }
   ],
   "source": [
    "#Test de Bartlett.\n",
    "from factor_analyzer.factor_analyzer import calculate_bartlett_sphericity\n",
    "chi_square_value,p_value=calculate_bartlett_sphericity(df_xtrain_std)\n",
    "chi_square_value, p_value"
   ]
  },
  {
   "cell_type": "code",
   "execution_count": 60,
   "metadata": {},
   "outputs": [
    {
     "name": "stderr",
     "output_type": "stream",
     "text": [
      "C:\\ProgramData\\Anaconda3\\lib\\site-packages\\factor_analyzer\\utils.py:248: UserWarning: The inverse of the variance-covariance matrix was calculated using the Moore-Penrose generalized matrix inversion, due to its determinant being at or very close to zero.\n",
      "  warnings.warn('The inverse of the variance-covariance matrix '\n"
     ]
    },
    {
     "data": {
      "text/plain": [
       "0.8301730535608445"
      ]
     },
     "execution_count": 60,
     "metadata": {},
     "output_type": "execute_result"
    }
   ],
   "source": [
    "#KMO (Kaiser-Meyer-Olkin) Test\n",
    "from factor_analyzer.factor_analyzer import calculate_kmo\n",
    "kmo_all,kmo_model=calculate_kmo(df_xtrain_std)\n",
    "kmo_model"
   ]
  },
  {
   "cell_type": "code",
   "execution_count": 61,
   "metadata": {},
   "outputs": [],
   "source": [
    "fa = FactorAnalyzer()"
   ]
  },
  {
   "cell_type": "code",
   "execution_count": 62,
   "metadata": {},
   "outputs": [
    {
     "data": {
      "text/plain": [
       "array([9.62, 3.86, 1.24, 0.84, 0.75, 0.6 , 0.49, 0.46, 0.4 , 0.25, 0.22,\n",
       "       0.1 , 0.1 , 0.05, 0.02, 0.01, 0.  , 0.  , 0.  ])"
      ]
     },
     "execution_count": 62,
     "metadata": {},
     "output_type": "execute_result"
    }
   ],
   "source": [
    "# Eligiendo el número de factores\n",
    "fa.fit(df_xtrain_std)\n",
    "# Check Eigenvalues\n",
    "ev, v = fa.get_eigenvalues()\n",
    "ev.round(2)"
   ]
  },
  {
   "cell_type": "code",
   "execution_count": 63,
   "metadata": {},
   "outputs": [
    {
     "data": {
      "image/png": "[encoded data removed]",
      "text/plain": [
       "<Figure size 432x288 with 1 Axes>"
      ]
     },
     "metadata": {
      "needs_background": "light"
     },
     "output_type": "display_data"
    }
   ],
   "source": [
    "plt.scatter(range(1,df_xtrain_std.shape[1]+1),ev)\n",
    "plt.plot(range(1,df_xtrain_std.shape[1]+1),ev)\n",
    "plt.title('Gráfico de Sedimentación')\n",
    "plt.xlabel('Factores')\n",
    "plt.ylabel('Autovalores')\n",
    "plt.grid()\n",
    "plt.show()"
   ]
  },
  {
   "cell_type": "code",
   "execution_count": 64,
   "metadata": {},
   "outputs": [
    {
     "data": {
      "text/plain": [
       "(array([6.02902784, 4.49532876, 2.85470058]),\n",
       " array([0.31731725, 0.23659625, 0.1502474 ]),\n",
       " array([0.31731725, 0.55391351, 0.7041609 ]))"
      ]
     },
     "execution_count": 64,
     "metadata": {},
     "output_type": "execute_result"
    }
   ],
   "source": [
    "fa.get_factor_variance()"
   ]
  },
  {
   "cell_type": "code",
   "execution_count": 65,
   "metadata": {},
   "outputs": [
    {
     "data": {
      "text/plain": [
       "array([0.31731725, 0.55391351, 0.7041609 ])"
      ]
     },
     "execution_count": 65,
     "metadata": {},
     "output_type": "execute_result"
    }
   ],
   "source": [
    "#Obteniendo la varianza explicada y acumulada de cada factor\n",
    "varianzaexplicada=fa.get_factor_variance()[1]\n",
    "varianzaacumulada=fa.get_factor_variance()[2]\n",
    "varianzaacumulada"
   ]
  },
  {
   "cell_type": "code",
   "execution_count": 66,
   "metadata": {},
   "outputs": [
    {
     "data": {
      "text/plain": [
       "FactorAnalyzer(rotation='varimax', rotation_kwargs={})"
      ]
     },
     "execution_count": 66,
     "metadata": {},
     "output_type": "execute_result"
    }
   ],
   "source": [
    "fa3 = FactorAnalyzer(n_factors=3,rotation='varimax')\n",
    "fa3.fit(df_xtrain_std)"
   ]
  },
  {
   "cell_type": "code",
   "execution_count": 67,
   "metadata": {},
   "outputs": [
    {
     "data": {
      "text/plain": [
       "array([[ 0.49110272,  0.31081035,  0.02411147],\n",
       "       [ 0.76678587,  0.50238447,  0.28736697],\n",
       "       [ 0.78840855,  0.51929642,  0.24672368],\n",
       "       [ 0.77463524,  0.52647612,  0.19817928],\n",
       "       [ 0.79641553,  0.43609587,  0.30249976],\n",
       "       [ 0.06866377,  0.47329078, -0.34331369],\n",
       "       [ 0.18690583, -0.01781618,  0.95185768],\n",
       "       [ 0.22114421, -0.04621222,  0.95753801],\n",
       "       [ 0.14395262, -0.18309674,  0.60540962],\n",
       "       [ 0.74952955,  0.49949921,  0.06322095],\n",
       "       [ 0.70911308,  0.56923284, -0.001101  ],\n",
       "       [ 0.29422179, -0.16070231,  0.29835765],\n",
       "       [ 0.25450459,  0.8660367 , -0.24243191],\n",
       "       [ 0.37511309,  0.86021973,  0.00360364],\n",
       "       [ 0.33584459,  0.91991311, -0.08571163],\n",
       "       [ 0.8046548 , -0.17945798,  0.21694685],\n",
       "       [ 0.77620043,  0.12158016,  0.17286253],\n",
       "       [ 0.10173096,  0.71511725, -0.16269975],\n",
       "       [ 0.89186266,  0.28376576,  0.10965349]])"
      ]
     },
     "execution_count": 67,
     "metadata": {},
     "output_type": "execute_result"
    }
   ],
   "source": [
    "fa3.loadings_"
   ]
  },
  {
   "cell_type": "code",
   "execution_count": 68,
   "metadata": {},
   "outputs": [
    {
     "data": {
      "text/plain": [
       "array([0.33836632, 0.9229305 , 0.95212939, 0.91651189, 0.91596341,\n",
       "       0.34658317, 0.94128424, 0.96791937, 0.42076759, 0.81529089,\n",
       "       0.8268686 , 0.20140898, 0.87356537, 0.8807008 , 0.96637821,\n",
       "       0.72674045, 0.64715029, 0.54821308, 0.8879659 ])"
      ]
     },
     "execution_count": 68,
     "metadata": {},
     "output_type": "execute_result"
    }
   ],
   "source": [
    "#Comunalidades\n",
    "fa3.get_communalities()"
   ]
  },
  {
   "cell_type": "code",
   "execution_count": 69,
   "metadata": {},
   "outputs": [
    {
     "data": {
      "text/plain": [
       "array([0.66163368, 0.0770695 , 0.04787061, 0.08348811, 0.08403659,\n",
       "       0.65341683, 0.05871576, 0.03208063, 0.57923241, 0.18470911,\n",
       "       0.1731314 , 0.79859102, 0.12643463, 0.1192992 , 0.03362179,\n",
       "       0.27325955, 0.35284971, 0.45178692, 0.1120341 ])"
      ]
     },
     "execution_count": 69,
     "metadata": {},
     "output_type": "execute_result"
    }
   ],
   "source": [
    "#Especifidades\n",
    "fa3.get_uniquenesses()"
   ]
  },
  {
   "cell_type": "markdown",
   "metadata": {},
   "source": [
    "**_Outliers_**"
   ]
  },
  {
   "cell_type": "code",
   "execution_count": 70,
   "metadata": {},
   "outputs": [],
   "source": [
    "from sklearn.datasets import load_boston #importar data boston"
   ]
  },
  {
   "cell_type": "code",
   "execution_count": 71,
   "metadata": {},
   "outputs": [
    {
     "data": {
      "text/html": [
       "<div>\n",
       "<style scoped>\n",
       "    .dataframe tbody tr th:only-of-type {\n",
       "        vertical-align: middle;\n",
       "    }\n",
       "\n",
       "    .dataframe tbody tr th {\n",
       "        vertical-align: top;\n",
       "    }\n",
       "\n",
       "    .dataframe thead th {\n",
       "        text-align: right;\n",
       "    }\n",
       "</style>\n",
       "<table border=\"1\" class=\"dataframe\">\n",
       "  <thead>\n",
       "    <tr style=\"text-align: right;\">\n",
       "      <th></th>\n",
       "      <th>CRIM</th>\n",
       "      <th>ZN</th>\n",
       "      <th>INDUS</th>\n",
       "      <th>CHAS</th>\n",
       "      <th>NOX</th>\n",
       "      <th>RM</th>\n",
       "      <th>AGE</th>\n",
       "      <th>DIS</th>\n",
       "      <th>RAD</th>\n",
       "      <th>TAX</th>\n",
       "      <th>PTRATIO</th>\n",
       "      <th>B</th>\n",
       "      <th>LSTAT</th>\n",
       "    </tr>\n",
       "  </thead>\n",
       "  <tbody>\n",
       "    <tr>\n",
       "      <th>0</th>\n",
       "      <td>0.00632</td>\n",
       "      <td>18.0</td>\n",
       "      <td>2.31</td>\n",
       "      <td>0.0</td>\n",
       "      <td>0.538</td>\n",
       "      <td>6.575</td>\n",
       "      <td>65.2</td>\n",
       "      <td>4.0900</td>\n",
       "      <td>1.0</td>\n",
       "      <td>296.0</td>\n",
       "      <td>15.3</td>\n",
       "      <td>396.90</td>\n",
       "      <td>4.98</td>\n",
       "    </tr>\n",
       "    <tr>\n",
       "      <th>1</th>\n",
       "      <td>0.02731</td>\n",
       "      <td>0.0</td>\n",
       "      <td>7.07</td>\n",
       "      <td>0.0</td>\n",
       "      <td>0.469</td>\n",
       "      <td>6.421</td>\n",
       "      <td>78.9</td>\n",
       "      <td>4.9671</td>\n",
       "      <td>2.0</td>\n",
       "      <td>242.0</td>\n",
       "      <td>17.8</td>\n",
       "      <td>396.90</td>\n",
       "      <td>9.14</td>\n",
       "    </tr>\n",
       "    <tr>\n",
       "      <th>2</th>\n",
       "      <td>0.02729</td>\n",
       "      <td>0.0</td>\n",
       "      <td>7.07</td>\n",
       "      <td>0.0</td>\n",
       "      <td>0.469</td>\n",
       "      <td>7.185</td>\n",
       "      <td>61.1</td>\n",
       "      <td>4.9671</td>\n",
       "      <td>2.0</td>\n",
       "      <td>242.0</td>\n",
       "      <td>17.8</td>\n",
       "      <td>392.83</td>\n",
       "      <td>4.03</td>\n",
       "    </tr>\n",
       "    <tr>\n",
       "      <th>3</th>\n",
       "      <td>0.03237</td>\n",
       "      <td>0.0</td>\n",
       "      <td>2.18</td>\n",
       "      <td>0.0</td>\n",
       "      <td>0.458</td>\n",
       "      <td>6.998</td>\n",
       "      <td>45.8</td>\n",
       "      <td>6.0622</td>\n",
       "      <td>3.0</td>\n",
       "      <td>222.0</td>\n",
       "      <td>18.7</td>\n",
       "      <td>394.63</td>\n",
       "      <td>2.94</td>\n",
       "    </tr>\n",
       "    <tr>\n",
       "      <th>4</th>\n",
       "      <td>0.06905</td>\n",
       "      <td>0.0</td>\n",
       "      <td>2.18</td>\n",
       "      <td>0.0</td>\n",
       "      <td>0.458</td>\n",
       "      <td>7.147</td>\n",
       "      <td>54.2</td>\n",
       "      <td>6.0622</td>\n",
       "      <td>3.0</td>\n",
       "      <td>222.0</td>\n",
       "      <td>18.7</td>\n",
       "      <td>396.90</td>\n",
       "      <td>5.33</td>\n",
       "    </tr>\n",
       "  </tbody>\n",
       "</table>\n",
       "</div>"
      ],
      "text/plain": [
       "      CRIM    ZN  INDUS  CHAS    NOX     RM   AGE     DIS  RAD    TAX  \\\n",
       "0  0.00632  18.0   2.31   0.0  0.538  6.575  65.2  4.0900  1.0  296.0   \n",
       "1  0.02731   0.0   7.07   0.0  0.469  6.421  78.9  4.9671  2.0  242.0   \n",
       "2  0.02729   0.0   7.07   0.0  0.469  7.185  61.1  4.9671  2.0  242.0   \n",
       "3  0.03237   0.0   2.18   0.0  0.458  6.998  45.8  6.0622  3.0  222.0   \n",
       "4  0.06905   0.0   2.18   0.0  0.458  7.147  54.2  6.0622  3.0  222.0   \n",
       "\n",
       "   PTRATIO       B  LSTAT  \n",
       "0     15.3  396.90   4.98  \n",
       "1     17.8  396.90   9.14  \n",
       "2     17.8  392.83   4.03  \n",
       "3     18.7  394.63   2.94  \n",
       "4     18.7  396.90   5.33  "
      ]
     },
     "execution_count": 71,
     "metadata": {},
     "output_type": "execute_result"
    }
   ],
   "source": [
    "boston = load_boston () \n",
    "x = boston.data #.data para variables predictoras\n",
    "y = boston.target #.target para variable objetivo\n",
    "columnas = boston.feature_names #.feature_names para extraer los nombres\n",
    "#crear el marco de datos \n",
    "boston_df = pd.DataFrame (boston.data) \n",
    "boston_df.columns = columnas \n",
    "boston_df.head ()"
   ]
  },
  {
   "cell_type": "markdown",
   "metadata": {},
   "source": [
    "##### z-score"
   ]
  },
  {
   "cell_type": "code",
   "execution_count": 72,
   "metadata": {},
   "outputs": [],
   "source": [
    "from scipy import stats\n",
    "import numpy as np"
   ]
  },
  {
   "cell_type": "code",
   "execution_count": 73,
   "metadata": {},
   "outputs": [
    {
     "name": "stdout",
     "output_type": "stream",
     "text": [
      "[[0.41978194 0.28482986 1.2879095  ... 1.45900038 0.44105193 1.0755623 ]\n",
      " [0.41733926 0.48772236 0.59338101 ... 0.30309415 0.44105193 0.49243937]\n",
      " [0.41734159 0.48772236 0.59338101 ... 0.30309415 0.39642699 1.2087274 ]\n",
      " ...\n",
      " [0.41344658 0.48772236 0.11573841 ... 1.17646583 0.44105193 0.98304761]\n",
      " [0.40776407 0.48772236 0.11573841 ... 1.17646583 0.4032249  0.86530163]\n",
      " [0.41500016 0.48772236 0.11573841 ... 1.17646583 0.44105193 0.66905833]]\n"
     ]
    }
   ],
   "source": [
    "z = np.abs(stats.zscore(boston_df)) #valor absoluto de las z-score\n",
    "print(z)"
   ]
  },
  {
   "cell_type": "markdown",
   "metadata": {},
   "source": [
    "Se establece el parámeto (umbral) **k** para considerar una observación como outlier"
   ]
  },
  {
   "cell_type": "code",
   "execution_count": 74,
   "metadata": {},
   "outputs": [
    {
     "name": "stdout",
     "output_type": "stream",
     "text": [
      "(array([ 55,  56,  57, 102, 141, 142, 152, 154, 155, 160, 162, 163, 199,\n",
      "       200, 201, 202, 203, 204, 208, 209, 210, 211, 212, 216, 218, 219,\n",
      "       220, 221, 222, 225, 234, 236, 256, 257, 262, 269, 273, 274, 276,\n",
      "       277, 282, 283, 283, 284, 347, 351, 352, 353, 353, 354, 355, 356,\n",
      "       357, 358, 363, 364, 364, 365, 367, 369, 370, 372, 373, 374, 374,\n",
      "       380, 398, 404, 405, 406, 410, 410, 411, 412, 412, 414, 414, 415,\n",
      "       416, 418, 418, 419, 423, 424, 425, 426, 427, 427, 429, 431, 436,\n",
      "       437, 438, 445, 450, 454, 455, 456, 457, 466], dtype=int64), array([ 1,  1,  1, 11, 12,  3,  3,  3,  3,  3,  3,  3,  1,  1,  1,  1,  1,\n",
      "        1,  3,  3,  3,  3,  3,  3,  3,  3,  3,  3,  3,  5,  3,  3,  1,  5,\n",
      "        5,  3,  3,  3,  3,  3,  3,  1,  3,  1,  1,  7,  7,  1,  7,  7,  7,\n",
      "        3,  3,  3,  3,  3,  5,  5,  5,  3,  3,  3, 12,  5, 12,  0,  0,  0,\n",
      "        0,  5,  0, 11, 11, 11, 12,  0, 12, 11, 11,  0, 11, 11, 11, 11, 11,\n",
      "       11,  0, 11, 11, 11, 11, 11, 11, 11, 11, 11, 11, 11, 11, 11],\n",
      "      dtype=int64))\n"
     ]
    }
   ],
   "source": [
    "k = 3\n",
    "print(np.where(z > k))"
   ]
  },
  {
   "cell_type": "markdown",
   "metadata": {},
   "source": [
    "Printiamos un ejemplo:"
   ]
  },
  {
   "cell_type": "code",
   "execution_count": 75,
   "metadata": {},
   "outputs": [
    {
     "name": "stdout",
     "output_type": "stream",
     "text": [
      "[0.41899176 3.37503876 1.44695069 0.27259857 1.31039199 1.37389184\n",
      " 1.65978618 2.33004908 0.52300145 1.08235801 0.2568579  0.4304165\n",
      " 1.09939185]\n"
     ]
    }
   ],
   "source": [
    "print(z[55])"
   ]
  },
  {
   "cell_type": "code",
   "execution_count": 76,
   "metadata": {
    "scrolled": true
   },
   "outputs": [
    {
     "name": "stdout",
     "output_type": "stream",
     "text": [
      "3.668397859712425\n"
     ]
    }
   ],
   "source": [
    "print(z[152][3])"
   ]
  },
  {
   "cell_type": "markdown",
   "metadata": {},
   "source": [
    "##### IQR score"
   ]
  },
  {
   "cell_type": "markdown",
   "metadata": {},
   "source": [
    "El diagrama de caja usa el método IQR (rango intercuartil) para mostrar datos y valores atípicos (forma de los datos) pero para obtener una lista de valores atípicos identificados, necesitaremos usar la fórmula matemática y recuperar los datos atípicos."
   ]
  },
  {
   "cell_type": "markdown",
   "metadata": {},
   "source": [
    "**Nota:** Es una medida de la dispersión similar a la desviación estándar o la varianza, pero es mucho más robusta frente a los valores atípicos"
   ]
  },
  {
   "cell_type": "code",
   "execution_count": 77,
   "metadata": {},
   "outputs": [
    {
     "name": "stdout",
     "output_type": "stream",
     "text": [
      "CRIM         3.595038\n",
      "ZN          12.500000\n",
      "INDUS       12.910000\n",
      "CHAS         0.000000\n",
      "NOX          0.175000\n",
      "RM           0.738000\n",
      "AGE         49.050000\n",
      "DIS          3.088250\n",
      "RAD         20.000000\n",
      "TAX        387.000000\n",
      "PTRATIO      2.800000\n",
      "B           20.847500\n",
      "LSTAT       10.005000\n",
      "dtype: float64\n"
     ]
    }
   ],
   "source": [
    "Q1 = boston_df.quantile(0.25)\n",
    "Q3 = boston_df.quantile(0.75)\n",
    "IQR = Q3 - Q1\n",
    "print(IQR)"
   ]
  },
  {
   "cell_type": "markdown",
   "metadata": {},
   "source": [
    "Como ahora tenemos los puntajes de IQR, es hora de obtener valores atípicos: **True**"
   ]
  },
  {
   "cell_type": "code",
   "execution_count": 78,
   "metadata": {},
   "outputs": [
    {
     "name": "stdout",
     "output_type": "stream",
     "text": [
      "      CRIM     ZN  INDUS   CHAS    NOX     RM    AGE    DIS    RAD    TAX  \\\n",
      "0    False  False  False  False  False  False  False  False  False  False   \n",
      "1    False  False  False  False  False  False  False  False  False  False   \n",
      "2    False  False  False  False  False  False  False  False  False  False   \n",
      "3    False  False  False  False  False  False  False  False  False  False   \n",
      "4    False  False  False  False  False  False  False  False  False  False   \n",
      "..     ...    ...    ...    ...    ...    ...    ...    ...    ...    ...   \n",
      "501  False  False  False  False  False  False  False  False  False  False   \n",
      "502  False  False  False  False  False  False  False  False  False  False   \n",
      "503  False  False  False  False  False  False  False  False  False  False   \n",
      "504  False  False  False  False  False  False  False  False  False  False   \n",
      "505  False  False  False  False  False  False  False  False  False  False   \n",
      "\n",
      "     PTRATIO      B  LSTAT  \n",
      "0      False  False  False  \n",
      "1      False  False  False  \n",
      "2      False  False  False  \n",
      "3      False  False  False  \n",
      "4      False  False  False  \n",
      "..       ...    ...    ...  \n",
      "501    False  False  False  \n",
      "502    False  False  False  \n",
      "503    False  False  False  \n",
      "504    False  False  False  \n",
      "505    False  False  False  \n",
      "\n",
      "[506 rows x 13 columns]\n"
     ]
    }
   ],
   "source": [
    "print((boston_df < (Q1 - 1.5 * IQR)) | (boston_df > (Q3 + 1.5 * IQR)))"
   ]
  },
  {
   "cell_type": "markdown",
   "metadata": {},
   "source": [
    "##### Z-score"
   ]
  },
  {
   "cell_type": "markdown",
   "metadata": {},
   "source": [
    "Eliminar o filtrar los valores atípicos y obtener los datos limpios. Esto se puede hacer con una sola línea de código, ya que ya hemos calculado el z-score."
   ]
  },
  {
   "cell_type": "code",
   "execution_count": 79,
   "metadata": {},
   "outputs": [
    {
     "data": {
      "text/html": [
       "<div>\n",
       "<style scoped>\n",
       "    .dataframe tbody tr th:only-of-type {\n",
       "        vertical-align: middle;\n",
       "    }\n",
       "\n",
       "    .dataframe tbody tr th {\n",
       "        vertical-align: top;\n",
       "    }\n",
       "\n",
       "    .dataframe thead th {\n",
       "        text-align: right;\n",
       "    }\n",
       "</style>\n",
       "<table border=\"1\" class=\"dataframe\">\n",
       "  <thead>\n",
       "    <tr style=\"text-align: right;\">\n",
       "      <th></th>\n",
       "      <th>CRIM</th>\n",
       "      <th>ZN</th>\n",
       "      <th>INDUS</th>\n",
       "      <th>CHAS</th>\n",
       "      <th>NOX</th>\n",
       "      <th>RM</th>\n",
       "      <th>AGE</th>\n",
       "      <th>DIS</th>\n",
       "      <th>RAD</th>\n",
       "      <th>TAX</th>\n",
       "      <th>PTRATIO</th>\n",
       "      <th>B</th>\n",
       "      <th>LSTAT</th>\n",
       "    </tr>\n",
       "  </thead>\n",
       "  <tbody>\n",
       "    <tr>\n",
       "      <th>0</th>\n",
       "      <td>0.00632</td>\n",
       "      <td>18.0</td>\n",
       "      <td>2.31</td>\n",
       "      <td>0.0</td>\n",
       "      <td>0.538</td>\n",
       "      <td>6.575</td>\n",
       "      <td>65.2</td>\n",
       "      <td>4.0900</td>\n",
       "      <td>1.0</td>\n",
       "      <td>296.0</td>\n",
       "      <td>15.3</td>\n",
       "      <td>396.90</td>\n",
       "      <td>4.98</td>\n",
       "    </tr>\n",
       "    <tr>\n",
       "      <th>1</th>\n",
       "      <td>0.02731</td>\n",
       "      <td>0.0</td>\n",
       "      <td>7.07</td>\n",
       "      <td>0.0</td>\n",
       "      <td>0.469</td>\n",
       "      <td>6.421</td>\n",
       "      <td>78.9</td>\n",
       "      <td>4.9671</td>\n",
       "      <td>2.0</td>\n",
       "      <td>242.0</td>\n",
       "      <td>17.8</td>\n",
       "      <td>396.90</td>\n",
       "      <td>9.14</td>\n",
       "    </tr>\n",
       "    <tr>\n",
       "      <th>2</th>\n",
       "      <td>0.02729</td>\n",
       "      <td>0.0</td>\n",
       "      <td>7.07</td>\n",
       "      <td>0.0</td>\n",
       "      <td>0.469</td>\n",
       "      <td>7.185</td>\n",
       "      <td>61.1</td>\n",
       "      <td>4.9671</td>\n",
       "      <td>2.0</td>\n",
       "      <td>242.0</td>\n",
       "      <td>17.8</td>\n",
       "      <td>392.83</td>\n",
       "      <td>4.03</td>\n",
       "    </tr>\n",
       "    <tr>\n",
       "      <th>3</th>\n",
       "      <td>0.03237</td>\n",
       "      <td>0.0</td>\n",
       "      <td>2.18</td>\n",
       "      <td>0.0</td>\n",
       "      <td>0.458</td>\n",
       "      <td>6.998</td>\n",
       "      <td>45.8</td>\n",
       "      <td>6.0622</td>\n",
       "      <td>3.0</td>\n",
       "      <td>222.0</td>\n",
       "      <td>18.7</td>\n",
       "      <td>394.63</td>\n",
       "      <td>2.94</td>\n",
       "    </tr>\n",
       "    <tr>\n",
       "      <th>4</th>\n",
       "      <td>0.06905</td>\n",
       "      <td>0.0</td>\n",
       "      <td>2.18</td>\n",
       "      <td>0.0</td>\n",
       "      <td>0.458</td>\n",
       "      <td>7.147</td>\n",
       "      <td>54.2</td>\n",
       "      <td>6.0622</td>\n",
       "      <td>3.0</td>\n",
       "      <td>222.0</td>\n",
       "      <td>18.7</td>\n",
       "      <td>396.90</td>\n",
       "      <td>5.33</td>\n",
       "    </tr>\n",
       "  </tbody>\n",
       "</table>\n",
       "</div>"
      ],
      "text/plain": [
       "      CRIM    ZN  INDUS  CHAS    NOX     RM   AGE     DIS  RAD    TAX  \\\n",
       "0  0.00632  18.0   2.31   0.0  0.538  6.575  65.2  4.0900  1.0  296.0   \n",
       "1  0.02731   0.0   7.07   0.0  0.469  6.421  78.9  4.9671  2.0  242.0   \n",
       "2  0.02729   0.0   7.07   0.0  0.469  7.185  61.1  4.9671  2.0  242.0   \n",
       "3  0.03237   0.0   2.18   0.0  0.458  6.998  45.8  6.0622  3.0  222.0   \n",
       "4  0.06905   0.0   2.18   0.0  0.458  7.147  54.2  6.0622  3.0  222.0   \n",
       "\n",
       "   PTRATIO       B  LSTAT  \n",
       "0     15.3  396.90   4.98  \n",
       "1     17.8  396.90   9.14  \n",
       "2     17.8  392.83   4.03  \n",
       "3     18.7  394.63   2.94  \n",
       "4     18.7  396.90   5.33  "
      ]
     },
     "execution_count": 79,
     "metadata": {},
     "output_type": "execute_result"
    }
   ],
   "source": [
    "boston_df_o = boston_df[(z < 3).all(axis=1)]\n",
    "boston_df_o.head()"
   ]
  },
  {
   "cell_type": "code",
   "execution_count": 80,
   "metadata": {},
   "outputs": [
    {
     "data": {
      "text/plain": [
       "415"
      ]
     },
     "execution_count": 80,
     "metadata": {},
     "output_type": "execute_result"
    }
   ],
   "source": [
    "len(boston_df_o)"
   ]
  },
  {
   "cell_type": "code",
   "execution_count": 81,
   "metadata": {},
   "outputs": [
    {
     "data": {
      "text/plain": [
       "506"
      ]
     },
     "execution_count": 81,
     "metadata": {},
     "output_type": "execute_result"
    }
   ],
   "source": [
    "len(boston_df)"
   ]
  },
  {
   "cell_type": "markdown",
   "metadata": {},
   "source": [
    "##### IQR score"
   ]
  },
  {
   "cell_type": "markdown",
   "metadata": {},
   "source": [
    "Al igual que el puntaje Z, podemos usar el puntaje IQR previamente calculado para filtrar los valores atípicos manteniendo solo valores válidos."
   ]
  },
  {
   "cell_type": "code",
   "execution_count": 82,
   "metadata": {},
   "outputs": [],
   "source": [
    "boston_df_out = boston_df[~((boston_df < (Q1 - 1.5 * IQR)) |(boston_df > (Q3 + 1.5 * IQR))).any(axis=1)]"
   ]
  },
  {
   "cell_type": "code",
   "execution_count": 83,
   "metadata": {},
   "outputs": [
    {
     "data": {
      "text/plain": [
       "274"
      ]
     },
     "execution_count": 83,
     "metadata": {},
     "output_type": "execute_result"
    }
   ],
   "source": [
    "len(boston_df_out)"
   ]
  },
  {
   "cell_type": "code",
   "execution_count": 84,
   "metadata": {},
   "outputs": [
    {
     "data": {
      "text/plain": [
       "506"
      ]
     },
     "execution_count": 84,
     "metadata": {},
     "output_type": "execute_result"
    }
   ],
   "source": [
    "len(boston_df)"
   ]
  },
  {
   "cell_type": "markdown",
   "metadata": {},
   "source": [
    "**_Outliers_**"
   ]
  },
  {
   "cell_type": "code",
   "execution_count": 85,
   "metadata": {},
   "outputs": [],
   "source": [
    "from sklearn.datasets import load_boston #importar data boston"
   ]
  },
  {
   "cell_type": "code",
   "execution_count": 86,
   "metadata": {},
   "outputs": [
    {
     "data": {
      "text/html": [
       "<div>\n",
       "<style scoped>\n",
       "    .dataframe tbody tr th:only-of-type {\n",
       "        vertical-align: middle;\n",
       "    }\n",
       "\n",
       "    .dataframe tbody tr th {\n",
       "        vertical-align: top;\n",
       "    }\n",
       "\n",
       "    .dataframe thead th {\n",
       "        text-align: right;\n",
       "    }\n",
       "</style>\n",
       "<table border=\"1\" class=\"dataframe\">\n",
       "  <thead>\n",
       "    <tr style=\"text-align: right;\">\n",
       "      <th></th>\n",
       "      <th>CRIM</th>\n",
       "      <th>ZN</th>\n",
       "      <th>INDUS</th>\n",
       "      <th>CHAS</th>\n",
       "      <th>NOX</th>\n",
       "      <th>RM</th>\n",
       "      <th>AGE</th>\n",
       "      <th>DIS</th>\n",
       "      <th>RAD</th>\n",
       "      <th>TAX</th>\n",
       "      <th>PTRATIO</th>\n",
       "      <th>B</th>\n",
       "      <th>LSTAT</th>\n",
       "    </tr>\n",
       "  </thead>\n",
       "  <tbody>\n",
       "    <tr>\n",
       "      <th>0</th>\n",
       "      <td>0.00632</td>\n",
       "      <td>18.0</td>\n",
       "      <td>2.31</td>\n",
       "      <td>0.0</td>\n",
       "      <td>0.538</td>\n",
       "      <td>6.575</td>\n",
       "      <td>65.2</td>\n",
       "      <td>4.0900</td>\n",
       "      <td>1.0</td>\n",
       "      <td>296.0</td>\n",
       "      <td>15.3</td>\n",
       "      <td>396.90</td>\n",
       "      <td>4.98</td>\n",
       "    </tr>\n",
       "    <tr>\n",
       "      <th>1</th>\n",
       "      <td>0.02731</td>\n",
       "      <td>0.0</td>\n",
       "      <td>7.07</td>\n",
       "      <td>0.0</td>\n",
       "      <td>0.469</td>\n",
       "      <td>6.421</td>\n",
       "      <td>78.9</td>\n",
       "      <td>4.9671</td>\n",
       "      <td>2.0</td>\n",
       "      <td>242.0</td>\n",
       "      <td>17.8</td>\n",
       "      <td>396.90</td>\n",
       "      <td>9.14</td>\n",
       "    </tr>\n",
       "    <tr>\n",
       "      <th>2</th>\n",
       "      <td>0.02729</td>\n",
       "      <td>0.0</td>\n",
       "      <td>7.07</td>\n",
       "      <td>0.0</td>\n",
       "      <td>0.469</td>\n",
       "      <td>7.185</td>\n",
       "      <td>61.1</td>\n",
       "      <td>4.9671</td>\n",
       "      <td>2.0</td>\n",
       "      <td>242.0</td>\n",
       "      <td>17.8</td>\n",
       "      <td>392.83</td>\n",
       "      <td>4.03</td>\n",
       "    </tr>\n",
       "    <tr>\n",
       "      <th>3</th>\n",
       "      <td>0.03237</td>\n",
       "      <td>0.0</td>\n",
       "      <td>2.18</td>\n",
       "      <td>0.0</td>\n",
       "      <td>0.458</td>\n",
       "      <td>6.998</td>\n",
       "      <td>45.8</td>\n",
       "      <td>6.0622</td>\n",
       "      <td>3.0</td>\n",
       "      <td>222.0</td>\n",
       "      <td>18.7</td>\n",
       "      <td>394.63</td>\n",
       "      <td>2.94</td>\n",
       "    </tr>\n",
       "    <tr>\n",
       "      <th>4</th>\n",
       "      <td>0.06905</td>\n",
       "      <td>0.0</td>\n",
       "      <td>2.18</td>\n",
       "      <td>0.0</td>\n",
       "      <td>0.458</td>\n",
       "      <td>7.147</td>\n",
       "      <td>54.2</td>\n",
       "      <td>6.0622</td>\n",
       "      <td>3.0</td>\n",
       "      <td>222.0</td>\n",
       "      <td>18.7</td>\n",
       "      <td>396.90</td>\n",
       "      <td>5.33</td>\n",
       "    </tr>\n",
       "  </tbody>\n",
       "</table>\n",
       "</div>"
      ],
      "text/plain": [
       "      CRIM    ZN  INDUS  CHAS    NOX     RM   AGE     DIS  RAD    TAX  \\\n",
       "0  0.00632  18.0   2.31   0.0  0.538  6.575  65.2  4.0900  1.0  296.0   \n",
       "1  0.02731   0.0   7.07   0.0  0.469  6.421  78.9  4.9671  2.0  242.0   \n",
       "2  0.02729   0.0   7.07   0.0  0.469  7.185  61.1  4.9671  2.0  242.0   \n",
       "3  0.03237   0.0   2.18   0.0  0.458  6.998  45.8  6.0622  3.0  222.0   \n",
       "4  0.06905   0.0   2.18   0.0  0.458  7.147  54.2  6.0622  3.0  222.0   \n",
       "\n",
       "   PTRATIO       B  LSTAT  \n",
       "0     15.3  396.90   4.98  \n",
       "1     17.8  396.90   9.14  \n",
       "2     17.8  392.83   4.03  \n",
       "3     18.7  394.63   2.94  \n",
       "4     18.7  396.90   5.33  "
      ]
     },
     "execution_count": 86,
     "metadata": {},
     "output_type": "execute_result"
    }
   ],
   "source": [
    "boston = load_boston () \n",
    "x = boston.data #.data para variables predictoras\n",
    "y = boston.target #.target para variable objetivo\n",
    "columnas = boston.feature_names #.feature_names para extraer los nombres\n",
    "#crear el marco de datos \n",
    "boston_df = pd.DataFrame (boston.data) \n",
    "boston_df.columns = columnas \n",
    "boston_df.head ()"
   ]
  },
  {
   "cell_type": "markdown",
   "metadata": {},
   "source": [
    "##### z-score"
   ]
  },
  {
   "cell_type": "code",
   "execution_count": 87,
   "metadata": {},
   "outputs": [],
   "source": [
    "from scipy import stats\n",
    "import numpy as np"
   ]
  },
  {
   "cell_type": "code",
   "execution_count": 88,
   "metadata": {},
   "outputs": [
    {
     "name": "stdout",
     "output_type": "stream",
     "text": [
      "[[0.41978194 0.28482986 1.2879095  ... 1.45900038 0.44105193 1.0755623 ]\n",
      " [0.41733926 0.48772236 0.59338101 ... 0.30309415 0.44105193 0.49243937]\n",
      " [0.41734159 0.48772236 0.59338101 ... 0.30309415 0.39642699 1.2087274 ]\n",
      " ...\n",
      " [0.41344658 0.48772236 0.11573841 ... 1.17646583 0.44105193 0.98304761]\n",
      " [0.40776407 0.48772236 0.11573841 ... 1.17646583 0.4032249  0.86530163]\n",
      " [0.41500016 0.48772236 0.11573841 ... 1.17646583 0.44105193 0.66905833]]\n"
     ]
    }
   ],
   "source": [
    "z = np.abs(stats.zscore(boston_df)) #valor absoluto de las z-score\n",
    "print(z)"
   ]
  },
  {
   "cell_type": "markdown",
   "metadata": {},
   "source": [
    "Se establece el parámeto (umbral) **k** para considerar una observación como outlier"
   ]
  },
  {
   "cell_type": "code",
   "execution_count": 89,
   "metadata": {},
   "outputs": [
    {
     "name": "stdout",
     "output_type": "stream",
     "text": [
      "(array([ 55,  56,  57, 102, 141, 142, 152, 154, 155, 160, 162, 163, 199,\n",
      "       200, 201, 202, 203, 204, 208, 209, 210, 211, 212, 216, 218, 219,\n",
      "       220, 221, 222, 225, 234, 236, 256, 257, 262, 269, 273, 274, 276,\n",
      "       277, 282, 283, 283, 284, 347, 351, 352, 353, 353, 354, 355, 356,\n",
      "       357, 358, 363, 364, 364, 365, 367, 369, 370, 372, 373, 374, 374,\n",
      "       380, 398, 404, 405, 406, 410, 410, 411, 412, 412, 414, 414, 415,\n",
      "       416, 418, 418, 419, 423, 424, 425, 426, 427, 427, 429, 431, 436,\n",
      "       437, 438, 445, 450, 454, 455, 456, 457, 466], dtype=int64), array([ 1,  1,  1, 11, 12,  3,  3,  3,  3,  3,  3,  3,  1,  1,  1,  1,  1,\n",
      "        1,  3,  3,  3,  3,  3,  3,  3,  3,  3,  3,  3,  5,  3,  3,  1,  5,\n",
      "        5,  3,  3,  3,  3,  3,  3,  1,  3,  1,  1,  7,  7,  1,  7,  7,  7,\n",
      "        3,  3,  3,  3,  3,  5,  5,  5,  3,  3,  3, 12,  5, 12,  0,  0,  0,\n",
      "        0,  5,  0, 11, 11, 11, 12,  0, 12, 11, 11,  0, 11, 11, 11, 11, 11,\n",
      "       11,  0, 11, 11, 11, 11, 11, 11, 11, 11, 11, 11, 11, 11, 11],\n",
      "      dtype=int64))\n"
     ]
    }
   ],
   "source": [
    "k = 3\n",
    "print(np.where(z > k))"
   ]
  },
  {
   "cell_type": "markdown",
   "metadata": {},
   "source": [
    "Printiamos un ejemplo:"
   ]
  },
  {
   "cell_type": "code",
   "execution_count": 90,
   "metadata": {},
   "outputs": [
    {
     "name": "stdout",
     "output_type": "stream",
     "text": [
      "[0.41899176 3.37503876 1.44695069 0.27259857 1.31039199 1.37389184\n",
      " 1.65978618 2.33004908 0.52300145 1.08235801 0.2568579  0.4304165\n",
      " 1.09939185]\n"
     ]
    }
   ],
   "source": [
    "print(z[55])"
   ]
  },
  {
   "cell_type": "code",
   "execution_count": 91,
   "metadata": {
    "scrolled": true
   },
   "outputs": [
    {
     "name": "stdout",
     "output_type": "stream",
     "text": [
      "3.668397859712425\n"
     ]
    }
   ],
   "source": [
    "print(z[152][3])"
   ]
  },
  {
   "cell_type": "markdown",
   "metadata": {},
   "source": [
    "##### IQR score"
   ]
  },
  {
   "cell_type": "markdown",
   "metadata": {},
   "source": [
    "El diagrama de caja usa el método IQR (rango intercuartil) para mostrar datos y valores atípicos (forma de los datos) pero para obtener una lista de valores atípicos identificados, necesitaremos usar la fórmula matemática y recuperar los datos atípicos."
   ]
  },
  {
   "cell_type": "markdown",
   "metadata": {},
   "source": [
    "**Nota:** Es una medida de la dispersión similar a la desviación estándar o la varianza, pero es mucho más robusta frente a los valores atípicos"
   ]
  },
  {
   "cell_type": "code",
   "execution_count": 92,
   "metadata": {},
   "outputs": [
    {
     "name": "stdout",
     "output_type": "stream",
     "text": [
      "CRIM         3.595038\n",
      "ZN          12.500000\n",
      "INDUS       12.910000\n",
      "CHAS         0.000000\n",
      "NOX          0.175000\n",
      "RM           0.738000\n",
      "AGE         49.050000\n",
      "DIS          3.088250\n",
      "RAD         20.000000\n",
      "TAX        387.000000\n",
      "PTRATIO      2.800000\n",
      "B           20.847500\n",
      "LSTAT       10.005000\n",
      "dtype: float64\n"
     ]
    }
   ],
   "source": [
    "Q1 = boston_df.quantile(0.25)\n",
    "Q3 = boston_df.quantile(0.75)\n",
    "IQR = Q3 - Q1\n",
    "print(IQR)"
   ]
  },
  {
   "cell_type": "markdown",
   "metadata": {},
   "source": [
    "Como ahora tenemos los puntajes de IQR, es hora de obtener valores atípicos: **True**"
   ]
  },
  {
   "cell_type": "code",
   "execution_count": 93,
   "metadata": {},
   "outputs": [
    {
     "name": "stdout",
     "output_type": "stream",
     "text": [
      "      CRIM     ZN  INDUS   CHAS    NOX     RM    AGE    DIS    RAD    TAX  \\\n",
      "0    False  False  False  False  False  False  False  False  False  False   \n",
      "1    False  False  False  False  False  False  False  False  False  False   \n",
      "2    False  False  False  False  False  False  False  False  False  False   \n",
      "3    False  False  False  False  False  False  False  False  False  False   \n",
      "4    False  False  False  False  False  False  False  False  False  False   \n",
      "..     ...    ...    ...    ...    ...    ...    ...    ...    ...    ...   \n",
      "501  False  False  False  False  False  False  False  False  False  False   \n",
      "502  False  False  False  False  False  False  False  False  False  False   \n",
      "503  False  False  False  False  False  False  False  False  False  False   \n",
      "504  False  False  False  False  False  False  False  False  False  False   \n",
      "505  False  False  False  False  False  False  False  False  False  False   \n",
      "\n",
      "     PTRATIO      B  LSTAT  \n",
      "0      False  False  False  \n",
      "1      False  False  False  \n",
      "2      False  False  False  \n",
      "3      False  False  False  \n",
      "4      False  False  False  \n",
      "..       ...    ...    ...  \n",
      "501    False  False  False  \n",
      "502    False  False  False  \n",
      "503    False  False  False  \n",
      "504    False  False  False  \n",
      "505    False  False  False  \n",
      "\n",
      "[506 rows x 13 columns]\n"
     ]
    }
   ],
   "source": [
    "print((boston_df < (Q1 - 1.5 * IQR)) | (boston_df > (Q3 + 1.5 * IQR)))"
   ]
  },
  {
   "cell_type": "markdown",
   "metadata": {},
   "source": [
    "##### Z-score"
   ]
  },
  {
   "cell_type": "markdown",
   "metadata": {},
   "source": [
    "Eliminar o filtrar los valores atípicos y obtener los datos limpios. Esto se puede hacer con una sola línea de código, ya que ya hemos calculado el z-score."
   ]
  },
  {
   "cell_type": "code",
   "execution_count": 94,
   "metadata": {
    "scrolled": true
   },
   "outputs": [
    {
     "data": {
      "text/html": [
       "<div>\n",
       "<style scoped>\n",
       "    .dataframe tbody tr th:only-of-type {\n",
       "        vertical-align: middle;\n",
       "    }\n",
       "\n",
       "    .dataframe tbody tr th {\n",
       "        vertical-align: top;\n",
       "    }\n",
       "\n",
       "    .dataframe thead th {\n",
       "        text-align: right;\n",
       "    }\n",
       "</style>\n",
       "<table border=\"1\" class=\"dataframe\">\n",
       "  <thead>\n",
       "    <tr style=\"text-align: right;\">\n",
       "      <th></th>\n",
       "      <th>CRIM</th>\n",
       "      <th>ZN</th>\n",
       "      <th>INDUS</th>\n",
       "      <th>CHAS</th>\n",
       "      <th>NOX</th>\n",
       "      <th>RM</th>\n",
       "      <th>AGE</th>\n",
       "      <th>DIS</th>\n",
       "      <th>RAD</th>\n",
       "      <th>TAX</th>\n",
       "      <th>PTRATIO</th>\n",
       "      <th>B</th>\n",
       "      <th>LSTAT</th>\n",
       "    </tr>\n",
       "  </thead>\n",
       "  <tbody>\n",
       "    <tr>\n",
       "      <th>0</th>\n",
       "      <td>0.00632</td>\n",
       "      <td>18.0</td>\n",
       "      <td>2.31</td>\n",
       "      <td>0.0</td>\n",
       "      <td>0.538</td>\n",
       "      <td>6.575</td>\n",
       "      <td>65.2</td>\n",
       "      <td>4.0900</td>\n",
       "      <td>1.0</td>\n",
       "      <td>296.0</td>\n",
       "      <td>15.3</td>\n",
       "      <td>396.90</td>\n",
       "      <td>4.98</td>\n",
       "    </tr>\n",
       "    <tr>\n",
       "      <th>1</th>\n",
       "      <td>0.02731</td>\n",
       "      <td>0.0</td>\n",
       "      <td>7.07</td>\n",
       "      <td>0.0</td>\n",
       "      <td>0.469</td>\n",
       "      <td>6.421</td>\n",
       "      <td>78.9</td>\n",
       "      <td>4.9671</td>\n",
       "      <td>2.0</td>\n",
       "      <td>242.0</td>\n",
       "      <td>17.8</td>\n",
       "      <td>396.90</td>\n",
       "      <td>9.14</td>\n",
       "    </tr>\n",
       "    <tr>\n",
       "      <th>2</th>\n",
       "      <td>0.02729</td>\n",
       "      <td>0.0</td>\n",
       "      <td>7.07</td>\n",
       "      <td>0.0</td>\n",
       "      <td>0.469</td>\n",
       "      <td>7.185</td>\n",
       "      <td>61.1</td>\n",
       "      <td>4.9671</td>\n",
       "      <td>2.0</td>\n",
       "      <td>242.0</td>\n",
       "      <td>17.8</td>\n",
       "      <td>392.83</td>\n",
       "      <td>4.03</td>\n",
       "    </tr>\n",
       "    <tr>\n",
       "      <th>3</th>\n",
       "      <td>0.03237</td>\n",
       "      <td>0.0</td>\n",
       "      <td>2.18</td>\n",
       "      <td>0.0</td>\n",
       "      <td>0.458</td>\n",
       "      <td>6.998</td>\n",
       "      <td>45.8</td>\n",
       "      <td>6.0622</td>\n",
       "      <td>3.0</td>\n",
       "      <td>222.0</td>\n",
       "      <td>18.7</td>\n",
       "      <td>394.63</td>\n",
       "      <td>2.94</td>\n",
       "    </tr>\n",
       "    <tr>\n",
       "      <th>4</th>\n",
       "      <td>0.06905</td>\n",
       "      <td>0.0</td>\n",
       "      <td>2.18</td>\n",
       "      <td>0.0</td>\n",
       "      <td>0.458</td>\n",
       "      <td>7.147</td>\n",
       "      <td>54.2</td>\n",
       "      <td>6.0622</td>\n",
       "      <td>3.0</td>\n",
       "      <td>222.0</td>\n",
       "      <td>18.7</td>\n",
       "      <td>396.90</td>\n",
       "      <td>5.33</td>\n",
       "    </tr>\n",
       "  </tbody>\n",
       "</table>\n",
       "</div>"
      ],
      "text/plain": [
       "      CRIM    ZN  INDUS  CHAS    NOX     RM   AGE     DIS  RAD    TAX  \\\n",
       "0  0.00632  18.0   2.31   0.0  0.538  6.575  65.2  4.0900  1.0  296.0   \n",
       "1  0.02731   0.0   7.07   0.0  0.469  6.421  78.9  4.9671  2.0  242.0   \n",
       "2  0.02729   0.0   7.07   0.0  0.469  7.185  61.1  4.9671  2.0  242.0   \n",
       "3  0.03237   0.0   2.18   0.0  0.458  6.998  45.8  6.0622  3.0  222.0   \n",
       "4  0.06905   0.0   2.18   0.0  0.458  7.147  54.2  6.0622  3.0  222.0   \n",
       "\n",
       "   PTRATIO       B  LSTAT  \n",
       "0     15.3  396.90   4.98  \n",
       "1     17.8  396.90   9.14  \n",
       "2     17.8  392.83   4.03  \n",
       "3     18.7  394.63   2.94  \n",
       "4     18.7  396.90   5.33  "
      ]
     },
     "execution_count": 94,
     "metadata": {},
     "output_type": "execute_result"
    }
   ],
   "source": [
    "boston_df_o = boston_df[(z < 3).all(axis=1)]\n",
    "boston_df_o.head()"
   ]
  },
  {
   "cell_type": "code",
   "execution_count": 95,
   "metadata": {},
   "outputs": [
    {
     "data": {
      "text/plain": [
       "415"
      ]
     },
     "execution_count": 95,
     "metadata": {},
     "output_type": "execute_result"
    }
   ],
   "source": [
    "len(boston_df_o)"
   ]
  },
  {
   "cell_type": "code",
   "execution_count": 96,
   "metadata": {},
   "outputs": [
    {
     "data": {
      "text/plain": [
       "506"
      ]
     },
     "execution_count": 96,
     "metadata": {},
     "output_type": "execute_result"
    }
   ],
   "source": [
    "len(boston_df)"
   ]
  },
  {
   "cell_type": "markdown",
   "metadata": {},
   "source": [
    "##### IQR score"
   ]
  },
  {
   "cell_type": "markdown",
   "metadata": {},
   "source": [
    "Al igual que el puntaje Z, podemos usar el puntaje IQR previamente calculado para filtrar los valores atípicos manteniendo solo valores válidos."
   ]
  },
  {
   "cell_type": "code",
   "execution_count": 97,
   "metadata": {},
   "outputs": [],
   "source": [
    "boston_df_out = boston_df[~((boston_df < (Q1 - 1.5 * IQR)) |(boston_df > (Q3 + 1.5 * IQR))).any(axis=1)]"
   ]
  },
  {
   "cell_type": "code",
   "execution_count": 98,
   "metadata": {},
   "outputs": [
    {
     "data": {
      "text/plain": [
       "274"
      ]
     },
     "execution_count": 98,
     "metadata": {},
     "output_type": "execute_result"
    }
   ],
   "source": [
    "len(boston_df_out)"
   ]
  },
  {
   "cell_type": "code",
   "execution_count": 99,
   "metadata": {},
   "outputs": [
    {
     "data": {
      "text/plain": [
       "506"
      ]
     },
     "execution_count": 99,
     "metadata": {},
     "output_type": "execute_result"
    }
   ],
   "source": [
    "len(boston_df)"
   ]
  },
  {
   "cell_type": "code",
   "execution_count": null,
   "metadata": {},
   "outputs": [],
   "source": []
  },
  {
   "cell_type": "code",
   "execution_count": null,
   "metadata": {},
   "outputs": [],
   "source": []
  },
  {
   "cell_type": "code",
   "execution_count": null,
   "metadata": {},
   "outputs": [],
   "source": []
  },
  {
   "cell_type": "code",
   "execution_count": null,
   "metadata": {},
   "outputs": [],
   "source": []
  },
  {
   "cell_type": "code",
   "execution_count": null,
   "metadata": {},
   "outputs": [],
   "source": []
  }
 ],
 "metadata": {
  "kernelspec": {
   "display_name": "Python 3",
   "language": "python",
   "name": "python3"
  },
  "language_info": {
   "codemirror_mode": {
    "name": "ipython",
    "version": 3
   },
   "file_extension": ".py",
   "mimetype": "text/x-python",
   "name": "python",
   "nbconvert_exporter": "python",
   "pygments_lexer": "ipython3",
   "version": "3.8.5"
  }
 },
 "nbformat": 4,
 "nbformat_minor": 4
}
