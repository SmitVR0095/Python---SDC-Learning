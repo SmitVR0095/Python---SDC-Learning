{
 "cells": [
  {
   "cell_type": "markdown",
   "metadata": {},
   "source": [
    "## TEMA 3. Importación y conexión de datos"
   ]
  },
  {
   "cell_type": "markdown",
   "metadata": {},
   "source": [
    "### Instalación de paquetes"
   ]
  },
  {
   "cell_type": "code",
   "execution_count": 1,
   "metadata": {},
   "outputs": [
    {
     "name": "stdout",
     "output_type": "stream",
     "text": [
      "Requirement already satisfied: json5 in c:\\programdata\\anaconda3\\lib\\site-packages (0.9.5)\n"
     ]
    }
   ],
   "source": [
    "!pip install json5"
   ]
  },
  {
   "cell_type": "code",
   "execution_count": 2,
   "metadata": {
    "scrolled": true
   },
   "outputs": [
    {
     "name": "stdout",
     "output_type": "stream",
     "text": [
      "Requirement already satisfied: pyreadstat in c:\\programdata\\anaconda3\\lib\\site-packages (1.0.8)Note: you may need to restart the kernel to use updated packages.\n",
      "Requirement already satisfied: pandas>0.24.0 in c:\\programdata\\anaconda3\\lib\\site-packages (from pyreadstat) (1.1.3)\n",
      "Requirement already satisfied: python-dateutil>=2.7.3 in c:\\programdata\\anaconda3\\lib\\site-packages (from pandas>0.24.0->pyreadstat) (2.8.1)\n",
      "Requirement already satisfied: numpy>=1.15.4 in c:\\programdata\\anaconda3\\lib\\site-packages (from pandas>0.24.0->pyreadstat) (1.19.2)\n",
      "Requirement already satisfied: pytz>=2017.2 in c:\\programdata\\anaconda3\\lib\\site-packages (from pandas>0.24.0->pyreadstat) (2020.1)\n",
      "Requirement already satisfied: six>=1.5 in c:\\programdata\\anaconda3\\lib\\site-packages (from python-dateutil>=2.7.3->pandas>0.24.0->pyreadstat) (1.15.0)\n",
      "\n"
     ]
    }
   ],
   "source": [
    "pip install pyreadstat"
   ]
  },
  {
   "cell_type": "code",
   "execution_count": 3,
   "metadata": {},
   "outputs": [
    {
     "name": "stdout",
     "output_type": "stream",
     "text": [
      "Requirement already satisfied: psycopg2 in c:\\programdata\\anaconda3\\lib\\site-packages (2.8.6)\n",
      "Note: you may need to restart the kernel to use updated packages.\n"
     ]
    }
   ],
   "source": [
    "pip install psycopg2"
   ]
  },
  {
   "cell_type": "code",
   "execution_count": 4,
   "metadata": {},
   "outputs": [
    {
     "name": "stdout",
     "output_type": "stream",
     "text": [
      "Requirement already satisfied: pyodbc in c:\\programdata\\anaconda3\\lib\\site-packages (4.0.0-unsupported)\n",
      "Note: you may need to restart the kernel to use updated packages.\n"
     ]
    }
   ],
   "source": [
    "pip install pyodbc"
   ]
  },
  {
   "cell_type": "markdown",
   "metadata": {},
   "source": [
    "### Importacion de Paquetes necesarios"
   ]
  },
  {
   "cell_type": "code",
   "execution_count": 5,
   "metadata": {},
   "outputs": [],
   "source": [
    "import os            #Para direcionar la ruta de trabajo\n",
    "import pandas as pd  #Para archivos csv, excel, spss, stata\n",
    "import numpy as np   #Para trabajar con matrices/arrays\n",
    "import json5         #Prara trabajar jsons\n",
    "import pyodbc        #Para conexion al motor Sql server\n",
    "import psycopg2      #Para conexion al motor postgres"
   ]
  },
  {
   "cell_type": "code",
   "execution_count": 6,
   "metadata": {},
   "outputs": [],
   "source": [
    "#Estableciendo la ruta de trabajo (una carpeta en particular)\n",
    "os.chdir(\"E:\\PYTHOM\\MODULO 1\\CLASE 2\")#direccionando la ruta"
   ]
  },
  {
   "cell_type": "markdown",
   "metadata": {},
   "source": [
    "**Archivos JSON**"
   ]
  },
  {
   "cell_type": "code",
   "execution_count": 7,
   "metadata": {},
   "outputs": [],
   "source": [
    "ficherojson=\"subvenciones.json\"\n",
    "with open(file=ficherojson,encoding='UTF-8') as fichero:\n",
    "    datajson=json5.load(fichero)"
   ]
  },
  {
   "cell_type": "code",
   "execution_count": 8,
   "metadata": {},
   "outputs": [
    {
     "data": {
      "text/plain": [
       "list"
      ]
     },
     "execution_count": 8,
     "metadata": {},
     "output_type": "execute_result"
    }
   ],
   "source": [
    "type(datajson)"
   ]
  },
  {
   "cell_type": "code",
   "execution_count": 9,
   "metadata": {},
   "outputs": [
    {
     "data": {
      "text/plain": [
       "dict"
      ]
     },
     "execution_count": 9,
     "metadata": {},
     "output_type": "execute_result"
    }
   ],
   "source": [
    "type(datajson[0])"
   ]
  },
  {
   "cell_type": "code",
   "execution_count": 10,
   "metadata": {},
   "outputs": [
    {
     "data": {
      "text/plain": [
       "[{'Asociación': 'AMPA ANTONIO MACHADO',\n",
       "  'Actividad Subvencionada': 'TALLER FIESTA DE CARNAVAL',\n",
       "  'Importe en euros': '94.56'},\n",
       " {'Asociación': 'AMPA ANTONIO MACHADO',\n",
       "  'Actividad Subvencionada': 'TALLER DIA DEL PADRE',\n",
       "  'Importe en euros': '39.04 '},\n",
       " {'Asociación': 'AMPA ANTONIO MACHADO',\n",
       "  'Actividad Subvencionada': 'TALLER DIA DE LA MADRE',\n",
       "  'Importe en euros': '43.64 '}]"
      ]
     },
     "execution_count": 10,
     "metadata": {},
     "output_type": "execute_result"
    }
   ],
   "source": [
    "datajson[0:3]"
   ]
  },
  {
   "cell_type": "code",
   "execution_count": 11,
   "metadata": {},
   "outputs": [
    {
     "data": {
      "text/html": [
       "<div>\n",
       "<style scoped>\n",
       "    .dataframe tbody tr th:only-of-type {\n",
       "        vertical-align: middle;\n",
       "    }\n",
       "\n",
       "    .dataframe tbody tr th {\n",
       "        vertical-align: top;\n",
       "    }\n",
       "\n",
       "    .dataframe thead th {\n",
       "        text-align: right;\n",
       "    }\n",
       "</style>\n",
       "<table border=\"1\" class=\"dataframe\">\n",
       "  <thead>\n",
       "    <tr style=\"text-align: right;\">\n",
       "      <th></th>\n",
       "      <th>Asociación</th>\n",
       "      <th>Actividad Subvencionada</th>\n",
       "      <th>Importe en euros</th>\n",
       "    </tr>\n",
       "  </thead>\n",
       "  <tbody>\n",
       "    <tr>\n",
       "      <th>0</th>\n",
       "      <td>AMPA ANTONIO MACHADO</td>\n",
       "      <td>TALLER FIESTA DE CARNAVAL</td>\n",
       "      <td>94.56</td>\n",
       "    </tr>\n",
       "    <tr>\n",
       "      <th>1</th>\n",
       "      <td>AMPA ANTONIO MACHADO</td>\n",
       "      <td>TALLER DIA DEL PADRE</td>\n",
       "      <td>39.04</td>\n",
       "    </tr>\n",
       "    <tr>\n",
       "      <th>2</th>\n",
       "      <td>AMPA ANTONIO MACHADO</td>\n",
       "      <td>TALLER DIA DE LA MADRE</td>\n",
       "      <td>43.64</td>\n",
       "    </tr>\n",
       "    <tr>\n",
       "      <th>3</th>\n",
       "      <td>AMPA ANTONIO MACHADO</td>\n",
       "      <td>FIESTA FIN DE CURSO</td>\n",
       "      <td>921.00</td>\n",
       "    </tr>\n",
       "    <tr>\n",
       "      <th>4</th>\n",
       "      <td>AMPA ANTONIO MACHADO</td>\n",
       "      <td>CONCURSO LOGOTIPO AMPA</td>\n",
       "      <td>56.57</td>\n",
       "    </tr>\n",
       "    <tr>\n",
       "      <th>...</th>\n",
       "      <td>...</td>\n",
       "      <td>...</td>\n",
       "      <td>...</td>\n",
       "    </tr>\n",
       "    <tr>\n",
       "      <th>186</th>\n",
       "      <td>AMPA PADRE  MANYANET</td>\n",
       "      <td>FERIA DE ROBOTICA</td>\n",
       "      <td>720.00</td>\n",
       "    </tr>\n",
       "    <tr>\n",
       "      <th>187</th>\n",
       "      <td>AMPA PADRE  MANYANET</td>\n",
       "      <td>LUDOTECA FIESTA FIN DE CURSO</td>\n",
       "      <td>372.00</td>\n",
       "    </tr>\n",
       "    <tr>\n",
       "      <th>188</th>\n",
       "      <td>AMPA FAPA</td>\n",
       "      <td>JORNADA FAPA-APAS: ENCUENTROS DE PARTICIPACION</td>\n",
       "      <td>720.00</td>\n",
       "    </tr>\n",
       "    <tr>\n",
       "      <th>189</th>\n",
       "      <td>AMPA FAPA</td>\n",
       "      <td>25 ANIVERSARIO FAPA ALCOBENDAS</td>\n",
       "      <td>1.515.00</td>\n",
       "    </tr>\n",
       "    <tr>\n",
       "      <th>190</th>\n",
       "      <td>AMPA FAPA</td>\n",
       "      <td>REVISTA DE LA FEDERACION LA ESCUELA EN ALCOBENDAS</td>\n",
       "      <td>963.43</td>\n",
       "    </tr>\n",
       "  </tbody>\n",
       "</table>\n",
       "<p>191 rows × 3 columns</p>\n",
       "</div>"
      ],
      "text/plain": [
       "               Asociación                            Actividad Subvencionada  \\\n",
       "0    AMPA ANTONIO MACHADO                          TALLER FIESTA DE CARNAVAL   \n",
       "1    AMPA ANTONIO MACHADO                               TALLER DIA DEL PADRE   \n",
       "2    AMPA ANTONIO MACHADO                             TALLER DIA DE LA MADRE   \n",
       "3    AMPA ANTONIO MACHADO                                FIESTA FIN DE CURSO   \n",
       "4    AMPA ANTONIO MACHADO                             CONCURSO LOGOTIPO AMPA   \n",
       "..                    ...                                                ...   \n",
       "186  AMPA PADRE  MANYANET                                  FERIA DE ROBOTICA   \n",
       "187  AMPA PADRE  MANYANET                       LUDOTECA FIESTA FIN DE CURSO   \n",
       "188             AMPA FAPA     JORNADA FAPA-APAS: ENCUENTROS DE PARTICIPACION   \n",
       "189             AMPA FAPA                     25 ANIVERSARIO FAPA ALCOBENDAS   \n",
       "190             AMPA FAPA  REVISTA DE LA FEDERACION LA ESCUELA EN ALCOBENDAS   \n",
       "\n",
       "    Importe en euros  \n",
       "0              94.56  \n",
       "1             39.04   \n",
       "2             43.64   \n",
       "3            921.00   \n",
       "4             56.57   \n",
       "..               ...  \n",
       "186          720.00   \n",
       "187          372.00   \n",
       "188          720.00   \n",
       "189        1.515.00   \n",
       "190          963.43   \n",
       "\n",
       "[191 rows x 3 columns]"
      ]
     },
     "execution_count": 11,
     "metadata": {},
     "output_type": "execute_result"
    }
   ],
   "source": [
    "datajson=pd.DataFrame(datajson)\n",
    "datajson"
   ]
  },
  {
   "cell_type": "code",
   "execution_count": 12,
   "metadata": {},
   "outputs": [
    {
     "data": {
      "text/html": [
       "<div>\n",
       "<style scoped>\n",
       "    .dataframe tbody tr th:only-of-type {\n",
       "        vertical-align: middle;\n",
       "    }\n",
       "\n",
       "    .dataframe tbody tr th {\n",
       "        vertical-align: top;\n",
       "    }\n",
       "\n",
       "    .dataframe thead th {\n",
       "        text-align: right;\n",
       "    }\n",
       "</style>\n",
       "<table border=\"1\" class=\"dataframe\">\n",
       "  <thead>\n",
       "    <tr style=\"text-align: right;\">\n",
       "      <th></th>\n",
       "      <th>Asociación</th>\n",
       "      <th>Actividad Subvencionada</th>\n",
       "      <th>Importe en euros</th>\n",
       "    </tr>\n",
       "  </thead>\n",
       "  <tbody>\n",
       "    <tr>\n",
       "      <th>0</th>\n",
       "      <td>AMPA ANTONIO MACHADO</td>\n",
       "      <td>TALLER FIESTA DE CARNAVAL</td>\n",
       "      <td>94.56</td>\n",
       "    </tr>\n",
       "    <tr>\n",
       "      <th>1</th>\n",
       "      <td>AMPA ANTONIO MACHADO</td>\n",
       "      <td>TALLER DIA DEL PADRE</td>\n",
       "      <td>39.04</td>\n",
       "    </tr>\n",
       "    <tr>\n",
       "      <th>2</th>\n",
       "      <td>AMPA ANTONIO MACHADO</td>\n",
       "      <td>TALLER DIA DE LA MADRE</td>\n",
       "      <td>43.64</td>\n",
       "    </tr>\n",
       "    <tr>\n",
       "      <th>3</th>\n",
       "      <td>AMPA ANTONIO MACHADO</td>\n",
       "      <td>FIESTA FIN DE CURSO</td>\n",
       "      <td>921.00</td>\n",
       "    </tr>\n",
       "    <tr>\n",
       "      <th>4</th>\n",
       "      <td>AMPA ANTONIO MACHADO</td>\n",
       "      <td>CONCURSO LOGOTIPO AMPA</td>\n",
       "      <td>56.57</td>\n",
       "    </tr>\n",
       "  </tbody>\n",
       "</table>\n",
       "</div>"
      ],
      "text/plain": [
       "             Asociación    Actividad Subvencionada Importe en euros\n",
       "0  AMPA ANTONIO MACHADO  TALLER FIESTA DE CARNAVAL            94.56\n",
       "1  AMPA ANTONIO MACHADO       TALLER DIA DEL PADRE           39.04 \n",
       "2  AMPA ANTONIO MACHADO     TALLER DIA DE LA MADRE           43.64 \n",
       "3  AMPA ANTONIO MACHADO        FIESTA FIN DE CURSO          921.00 \n",
       "4  AMPA ANTONIO MACHADO     CONCURSO LOGOTIPO AMPA           56.57 "
      ]
     },
     "execution_count": 12,
     "metadata": {},
     "output_type": "execute_result"
    }
   ],
   "source": [
    "datajson=pd.DataFrame(datajson)\n",
    "datajson.head()"
   ]
  },
  {
   "cell_type": "markdown",
   "metadata": {},
   "source": [
    "**Archivos EXCEL**"
   ]
  },
  {
   "cell_type": "code",
   "execution_count": 13,
   "metadata": {},
   "outputs": [],
   "source": [
    "ficheroexcel=\"subvenciones.xls\""
   ]
  },
  {
   "cell_type": "code",
   "execution_count": 14,
   "metadata": {},
   "outputs": [
    {
     "data": {
      "text/html": [
       "<div>\n",
       "<style scoped>\n",
       "    .dataframe tbody tr th:only-of-type {\n",
       "        vertical-align: middle;\n",
       "    }\n",
       "\n",
       "    .dataframe tbody tr th {\n",
       "        vertical-align: top;\n",
       "    }\n",
       "\n",
       "    .dataframe thead th {\n",
       "        text-align: right;\n",
       "    }\n",
       "</style>\n",
       "<table border=\"1\" class=\"dataframe\">\n",
       "  <thead>\n",
       "    <tr style=\"text-align: right;\">\n",
       "      <th></th>\n",
       "      <th>Asociación</th>\n",
       "      <th>Actividad Subvencionada</th>\n",
       "      <th>Importe</th>\n",
       "    </tr>\n",
       "  </thead>\n",
       "  <tbody>\n",
       "    <tr>\n",
       "      <th>0</th>\n",
       "      <td>AMPA ANTONIO MACHADO</td>\n",
       "      <td>TALLER FIESTA DE CARNAVAL</td>\n",
       "      <td>94.56</td>\n",
       "    </tr>\n",
       "    <tr>\n",
       "      <th>1</th>\n",
       "      <td>AMPA ANTONIO MACHADO</td>\n",
       "      <td>TALLER DIA DEL PADRE</td>\n",
       "      <td>39.04</td>\n",
       "    </tr>\n",
       "    <tr>\n",
       "      <th>2</th>\n",
       "      <td>AMPA ANTONIO MACHADO</td>\n",
       "      <td>TALLER DIA DE LA MADRE</td>\n",
       "      <td>43.64</td>\n",
       "    </tr>\n",
       "    <tr>\n",
       "      <th>3</th>\n",
       "      <td>AMPA ANTONIO MACHADO</td>\n",
       "      <td>FIESTA FIN DE CURSO</td>\n",
       "      <td>921.00</td>\n",
       "    </tr>\n",
       "    <tr>\n",
       "      <th>4</th>\n",
       "      <td>AMPA ANTONIO MACHADO</td>\n",
       "      <td>CONCURSO LOGOTIPO AMPA</td>\n",
       "      <td>56.57</td>\n",
       "    </tr>\n",
       "    <tr>\n",
       "      <th>5</th>\n",
       "      <td>AMPA ANTONIO MACHADO</td>\n",
       "      <td>ASOCIACION FAPA ALCOBENDAS</td>\n",
       "      <td>80.00</td>\n",
       "    </tr>\n",
       "    <tr>\n",
       "      <th>6</th>\n",
       "      <td>AMPA ANTONIO MACHADO</td>\n",
       "      <td>ASOCIACION FAPA GINER DE LOS RIOS</td>\n",
       "      <td>86.79</td>\n",
       "    </tr>\n",
       "    <tr>\n",
       "      <th>7</th>\n",
       "      <td>AMPA ANTONIO MACHADO</td>\n",
       "      <td>FIESTA DE NAVIDAD</td>\n",
       "      <td>660.00</td>\n",
       "    </tr>\n",
       "    <tr>\n",
       "      <th>8</th>\n",
       "      <td>AMPA ANTONIO MACHADO</td>\n",
       "      <td>HALLOWEEN</td>\n",
       "      <td>168.39</td>\n",
       "    </tr>\n",
       "    <tr>\n",
       "      <th>9</th>\n",
       "      <td>AMPA ANTONIO MACHADO</td>\n",
       "      <td>SAN ISIDRO</td>\n",
       "      <td>195.00</td>\n",
       "    </tr>\n",
       "  </tbody>\n",
       "</table>\n",
       "</div>"
      ],
      "text/plain": [
       "             Asociación           Actividad Subvencionada   Importe\n",
       "0  AMPA ANTONIO MACHADO          TALLER FIESTA DE CARNAVAL    94.56\n",
       "1  AMPA ANTONIO MACHADO               TALLER DIA DEL PADRE    39.04\n",
       "2  AMPA ANTONIO MACHADO             TALLER DIA DE LA MADRE    43.64\n",
       "3  AMPA ANTONIO MACHADO                FIESTA FIN DE CURSO   921.00\n",
       "4  AMPA ANTONIO MACHADO             CONCURSO LOGOTIPO AMPA    56.57\n",
       "5  AMPA ANTONIO MACHADO         ASOCIACION FAPA ALCOBENDAS    80.00\n",
       "6  AMPA ANTONIO MACHADO  ASOCIACION FAPA GINER DE LOS RIOS    86.79\n",
       "7  AMPA ANTONIO MACHADO                  FIESTA DE NAVIDAD   660.00\n",
       "8  AMPA ANTONIO MACHADO                          HALLOWEEN   168.39\n",
       "9  AMPA ANTONIO MACHADO                         SAN ISIDRO   195.00"
      ]
     },
     "execution_count": 14,
     "metadata": {},
     "output_type": "execute_result"
    }
   ],
   "source": [
    "datoexcel=pd.read_excel(ficheroexcel,sheet_name=\"Hoja1\")\n",
    "datoexcel.head(10)"
   ]
  },
  {
   "cell_type": "markdown",
   "metadata": {},
   "source": [
    "**Archivos SPSS**"
   ]
  },
  {
   "cell_type": "code",
   "execution_count": 15,
   "metadata": {},
   "outputs": [],
   "source": [
    "ficherospss=\"distritos.sav\""
   ]
  },
  {
   "cell_type": "code",
   "execution_count": 16,
   "metadata": {},
   "outputs": [
    {
     "data": {
      "text/html": [
       "<div>\n",
       "<style scoped>\n",
       "    .dataframe tbody tr th:only-of-type {\n",
       "        vertical-align: middle;\n",
       "    }\n",
       "\n",
       "    .dataframe tbody tr th {\n",
       "        vertical-align: top;\n",
       "    }\n",
       "\n",
       "    .dataframe thead th {\n",
       "        text-align: right;\n",
       "    }\n",
       "</style>\n",
       "<table border=\"1\" class=\"dataframe\">\n",
       "  <thead>\n",
       "    <tr style=\"text-align: right;\">\n",
       "      <th></th>\n",
       "      <th>distrito</th>\n",
       "      <th>ocu_vivi</th>\n",
       "      <th>pobpjov</th>\n",
       "      <th>sinelect</th>\n",
       "      <th>sinagua</th>\n",
       "      <th>pea1619</th>\n",
       "      <th>pocprin</th>\n",
       "      <th>peam15</th>\n",
       "    </tr>\n",
       "  </thead>\n",
       "  <tbody>\n",
       "    <tr>\n",
       "      <th>0</th>\n",
       "      <td>Ate</td>\n",
       "      <td>1.15</td>\n",
       "      <td>5.3</td>\n",
       "      <td>27.60</td>\n",
       "      <td>51.10</td>\n",
       "      <td>3.9</td>\n",
       "      <td>1.1</td>\n",
       "      <td>63.48</td>\n",
       "    </tr>\n",
       "    <tr>\n",
       "      <th>1</th>\n",
       "      <td>Barranco</td>\n",
       "      <td>1.09</td>\n",
       "      <td>4.5</td>\n",
       "      <td>1.59</td>\n",
       "      <td>8.32</td>\n",
       "      <td>0.8</td>\n",
       "      <td>3.9</td>\n",
       "      <td>33.48</td>\n",
       "    </tr>\n",
       "    <tr>\n",
       "      <th>2</th>\n",
       "      <td>Breña</td>\n",
       "      <td>1.08</td>\n",
       "      <td>4.4</td>\n",
       "      <td>2.20</td>\n",
       "      <td>23.15</td>\n",
       "      <td>0.9</td>\n",
       "      <td>4.0</td>\n",
       "      <td>37.89</td>\n",
       "    </tr>\n",
       "    <tr>\n",
       "      <th>3</th>\n",
       "      <td>Carabayllo</td>\n",
       "      <td>1.10</td>\n",
       "      <td>5.1</td>\n",
       "      <td>30.13</td>\n",
       "      <td>38.09</td>\n",
       "      <td>4.5</td>\n",
       "      <td>12.6</td>\n",
       "      <td>63.65</td>\n",
       "    </tr>\n",
       "    <tr>\n",
       "      <th>4</th>\n",
       "      <td>Comas</td>\n",
       "      <td>1.20</td>\n",
       "      <td>5.9</td>\n",
       "      <td>10.92</td>\n",
       "      <td>24.27</td>\n",
       "      <td>3.8</td>\n",
       "      <td>9.4</td>\n",
       "      <td>60.37</td>\n",
       "    </tr>\n",
       "  </tbody>\n",
       "</table>\n",
       "</div>"
      ],
      "text/plain": [
       "     distrito  ocu_vivi  pobpjov  sinelect  sinagua  pea1619  pocprin  peam15\n",
       "0         Ate      1.15      5.3     27.60    51.10      3.9      1.1   63.48\n",
       "1    Barranco      1.09      4.5      1.59     8.32      0.8      3.9   33.48\n",
       "2       Breña      1.08      4.4      2.20    23.15      0.9      4.0   37.89\n",
       "3  Carabayllo      1.10      5.1     30.13    38.09      4.5     12.6   63.65\n",
       "4       Comas      1.20      5.9     10.92    24.27      3.8      9.4   60.37"
      ]
     },
     "execution_count": 16,
     "metadata": {},
     "output_type": "execute_result"
    }
   ],
   "source": [
    "datosspss=pd.read_spss(path=ficherospss)\n",
    "datosspss.head()"
   ]
  },
  {
   "cell_type": "markdown",
   "metadata": {},
   "source": [
    "**Archivo STATA**"
   ]
  },
  {
   "cell_type": "code",
   "execution_count": 17,
   "metadata": {},
   "outputs": [],
   "source": [
    "ficherostata=\"anes_timeseries_2012.dta\""
   ]
  },
  {
   "cell_type": "code",
   "execution_count": 18,
   "metadata": {},
   "outputs": [],
   "source": [
    "variables=[\"libcpre_self\",\"libcpo_self\"]"
   ]
  },
  {
   "cell_type": "code",
   "execution_count": 19,
   "metadata": {},
   "outputs": [
    {
     "data": {
      "text/html": [
       "<div>\n",
       "<style scoped>\n",
       "    .dataframe tbody tr th:only-of-type {\n",
       "        vertical-align: middle;\n",
       "    }\n",
       "\n",
       "    .dataframe tbody tr th {\n",
       "        vertical-align: top;\n",
       "    }\n",
       "\n",
       "    .dataframe thead th {\n",
       "        text-align: right;\n",
       "    }\n",
       "</style>\n",
       "<table border=\"1\" class=\"dataframe\">\n",
       "  <thead>\n",
       "    <tr style=\"text-align: right;\">\n",
       "      <th></th>\n",
       "      <th>libcpre_self</th>\n",
       "      <th>libcpo_self</th>\n",
       "    </tr>\n",
       "  </thead>\n",
       "  <tbody>\n",
       "    <tr>\n",
       "      <th>0</th>\n",
       "      <td>1. Extremely liberal</td>\n",
       "      <td>-6. Not asked, unit nonresponse (no post-elect...</td>\n",
       "    </tr>\n",
       "    <tr>\n",
       "      <th>1</th>\n",
       "      <td>1. Extremely liberal</td>\n",
       "      <td>2. Liberal</td>\n",
       "    </tr>\n",
       "    <tr>\n",
       "      <th>2</th>\n",
       "      <td>-2. Haven't thought much about this</td>\n",
       "      <td>2. Liberal</td>\n",
       "    </tr>\n",
       "    <tr>\n",
       "      <th>3</th>\n",
       "      <td>-2. Haven't thought much about this</td>\n",
       "      <td>-8. Don't know</td>\n",
       "    </tr>\n",
       "    <tr>\n",
       "      <th>4</th>\n",
       "      <td>2. Liberal</td>\n",
       "      <td>2. Liberal</td>\n",
       "    </tr>\n",
       "  </tbody>\n",
       "</table>\n",
       "</div>"
      ],
      "text/plain": [
       "                          libcpre_self  \\\n",
       "0                 1. Extremely liberal   \n",
       "1                 1. Extremely liberal   \n",
       "2  -2. Haven't thought much about this   \n",
       "3  -2. Haven't thought much about this   \n",
       "4                           2. Liberal   \n",
       "\n",
       "                                         libcpo_self  \n",
       "0  -6. Not asked, unit nonresponse (no post-elect...  \n",
       "1                                         2. Liberal  \n",
       "2                                         2. Liberal  \n",
       "3                                     -8. Don't know  \n",
       "4                                         2. Liberal  "
      ]
     },
     "execution_count": 19,
     "metadata": {},
     "output_type": "execute_result"
    }
   ],
   "source": [
    "datosstata=pd.read_stata(ficherostata,columns=variables)\n",
    "datosstata.head()"
   ]
  },
  {
   "cell_type": "markdown",
   "metadata": {},
   "source": [
    "**Archivo CSV**"
   ]
  },
  {
   "cell_type": "code",
   "execution_count": 20,
   "metadata": {},
   "outputs": [],
   "source": [
    "ficheroCSV=\"LL.csv\""
   ]
  },
  {
   "cell_type": "code",
   "execution_count": 21,
   "metadata": {},
   "outputs": [
    {
     "data": {
      "text/html": [
       "<div>\n",
       "<style scoped>\n",
       "    .dataframe tbody tr th:only-of-type {\n",
       "        vertical-align: middle;\n",
       "    }\n",
       "\n",
       "    .dataframe tbody tr th {\n",
       "        vertical-align: top;\n",
       "    }\n",
       "\n",
       "    .dataframe thead th {\n",
       "        text-align: right;\n",
       "    }\n",
       "</style>\n",
       "<table border=\"1\" class=\"dataframe\">\n",
       "  <thead>\n",
       "    <tr style=\"text-align: right;\">\n",
       "      <th></th>\n",
       "      <th>treated</th>\n",
       "      <th>age</th>\n",
       "      <th>education</th>\n",
       "      <th>black</th>\n",
       "      <th>married</th>\n",
       "      <th>nodegree</th>\n",
       "      <th>re74</th>\n",
       "      <th>re75</th>\n",
       "      <th>re78</th>\n",
       "      <th>hispanic</th>\n",
       "      <th>u74</th>\n",
       "      <th>u75</th>\n",
       "    </tr>\n",
       "  </thead>\n",
       "  <tbody>\n",
       "    <tr>\n",
       "      <th>0</th>\n",
       "      <td>1</td>\n",
       "      <td>33</td>\n",
       "      <td>12</td>\n",
       "      <td>0</td>\n",
       "      <td>1</td>\n",
       "      <td>0</td>\n",
       "      <td>0.000000</td>\n",
       "      <td>0.000000</td>\n",
       "      <td>12418.070312</td>\n",
       "      <td>0</td>\n",
       "      <td>1</td>\n",
       "      <td>1</td>\n",
       "    </tr>\n",
       "    <tr>\n",
       "      <th>1</th>\n",
       "      <td>1</td>\n",
       "      <td>20</td>\n",
       "      <td>12</td>\n",
       "      <td>0</td>\n",
       "      <td>1</td>\n",
       "      <td>0</td>\n",
       "      <td>8644.156250</td>\n",
       "      <td>8644.156250</td>\n",
       "      <td>11656.505859</td>\n",
       "      <td>0</td>\n",
       "      <td>0</td>\n",
       "      <td>0</td>\n",
       "    </tr>\n",
       "    <tr>\n",
       "      <th>2</th>\n",
       "      <td>0</td>\n",
       "      <td>39</td>\n",
       "      <td>12</td>\n",
       "      <td>1</td>\n",
       "      <td>1</td>\n",
       "      <td>0</td>\n",
       "      <td>19785.320312</td>\n",
       "      <td>6608.137207</td>\n",
       "      <td>499.257202</td>\n",
       "      <td>0</td>\n",
       "      <td>0</td>\n",
       "      <td>0</td>\n",
       "    </tr>\n",
       "    <tr>\n",
       "      <th>3</th>\n",
       "      <td>1</td>\n",
       "      <td>49</td>\n",
       "      <td>8</td>\n",
       "      <td>0</td>\n",
       "      <td>1</td>\n",
       "      <td>1</td>\n",
       "      <td>9714.596680</td>\n",
       "      <td>7285.947754</td>\n",
       "      <td>16717.121094</td>\n",
       "      <td>0</td>\n",
       "      <td>0</td>\n",
       "      <td>0</td>\n",
       "    </tr>\n",
       "    <tr>\n",
       "      <th>4</th>\n",
       "      <td>0</td>\n",
       "      <td>26</td>\n",
       "      <td>8</td>\n",
       "      <td>0</td>\n",
       "      <td>1</td>\n",
       "      <td>1</td>\n",
       "      <td>37211.757812</td>\n",
       "      <td>36941.265625</td>\n",
       "      <td>30247.500000</td>\n",
       "      <td>0</td>\n",
       "      <td>0</td>\n",
       "      <td>0</td>\n",
       "    </tr>\n",
       "    <tr>\n",
       "      <th>5</th>\n",
       "      <td>0</td>\n",
       "      <td>38</td>\n",
       "      <td>10</td>\n",
       "      <td>1</td>\n",
       "      <td>1</td>\n",
       "      <td>1</td>\n",
       "      <td>14759.063477</td>\n",
       "      <td>14701.947266</td>\n",
       "      <td>4393.522949</td>\n",
       "      <td>0</td>\n",
       "      <td>0</td>\n",
       "      <td>0</td>\n",
       "    </tr>\n",
       "    <tr>\n",
       "      <th>6</th>\n",
       "      <td>0</td>\n",
       "      <td>28</td>\n",
       "      <td>12</td>\n",
       "      <td>0</td>\n",
       "      <td>0</td>\n",
       "      <td>0</td>\n",
       "      <td>0.000000</td>\n",
       "      <td>803.343018</td>\n",
       "      <td>16477.019531</td>\n",
       "      <td>0</td>\n",
       "      <td>1</td>\n",
       "      <td>0</td>\n",
       "    </tr>\n",
       "    <tr>\n",
       "      <th>7</th>\n",
       "      <td>0</td>\n",
       "      <td>27</td>\n",
       "      <td>12</td>\n",
       "      <td>1</td>\n",
       "      <td>1</td>\n",
       "      <td>0</td>\n",
       "      <td>0.000000</td>\n",
       "      <td>752.390076</td>\n",
       "      <td>0.000000</td>\n",
       "      <td>0</td>\n",
       "      <td>1</td>\n",
       "      <td>0</td>\n",
       "    </tr>\n",
       "    <tr>\n",
       "      <th>8</th>\n",
       "      <td>1</td>\n",
       "      <td>33</td>\n",
       "      <td>12</td>\n",
       "      <td>1</td>\n",
       "      <td>1</td>\n",
       "      <td>0</td>\n",
       "      <td>20279.949219</td>\n",
       "      <td>10941.349609</td>\n",
       "      <td>15952.599609</td>\n",
       "      <td>0</td>\n",
       "      <td>0</td>\n",
       "      <td>0</td>\n",
       "    </tr>\n",
       "    <tr>\n",
       "      <th>9</th>\n",
       "      <td>0</td>\n",
       "      <td>44</td>\n",
       "      <td>9</td>\n",
       "      <td>1</td>\n",
       "      <td>1</td>\n",
       "      <td>1</td>\n",
       "      <td>12260.780273</td>\n",
       "      <td>10857.240234</td>\n",
       "      <td>12359.309570</td>\n",
       "      <td>0</td>\n",
       "      <td>0</td>\n",
       "      <td>0</td>\n",
       "    </tr>\n",
       "  </tbody>\n",
       "</table>\n",
       "</div>"
      ],
      "text/plain": [
       "   treated  age  education  black  married  nodegree          re74  \\\n",
       "0        1   33         12      0        1         0      0.000000   \n",
       "1        1   20         12      0        1         0   8644.156250   \n",
       "2        0   39         12      1        1         0  19785.320312   \n",
       "3        1   49          8      0        1         1   9714.596680   \n",
       "4        0   26          8      0        1         1  37211.757812   \n",
       "5        0   38         10      1        1         1  14759.063477   \n",
       "6        0   28         12      0        0         0      0.000000   \n",
       "7        0   27         12      1        1         0      0.000000   \n",
       "8        1   33         12      1        1         0  20279.949219   \n",
       "9        0   44          9      1        1         1  12260.780273   \n",
       "\n",
       "           re75          re78  hispanic  u74  u75  \n",
       "0      0.000000  12418.070312         0    1    1  \n",
       "1   8644.156250  11656.505859         0    0    0  \n",
       "2   6608.137207    499.257202         0    0    0  \n",
       "3   7285.947754  16717.121094         0    0    0  \n",
       "4  36941.265625  30247.500000         0    0    0  \n",
       "5  14701.947266   4393.522949         0    0    0  \n",
       "6    803.343018  16477.019531         0    1    0  \n",
       "7    752.390076      0.000000         0    1    0  \n",
       "8  10941.349609  15952.599609         0    0    0  \n",
       "9  10857.240234  12359.309570         0    0    0  "
      ]
     },
     "execution_count": 21,
     "metadata": {},
     "output_type": "execute_result"
    }
   ],
   "source": [
    "dataCSV=pd.read_csv(ficheroCSV,\n",
    "                    sep=\",\")\n",
    "dataCSV.head(10)"
   ]
  },
  {
   "cell_type": "code",
   "execution_count": null,
   "metadata": {},
   "outputs": [],
   "source": []
  },
  {
   "cell_type": "markdown",
   "metadata": {},
   "source": [
    "**Archivo TXT**"
   ]
  },
  {
   "cell_type": "code",
   "execution_count": 22,
   "metadata": {},
   "outputs": [],
   "source": [
    "ficheroTXT=\"housing.data.txt\""
   ]
  },
  {
   "cell_type": "code",
   "execution_count": 23,
   "metadata": {
    "scrolled": true
   },
   "outputs": [
    {
     "data": {
      "text/html": [
       "<div>\n",
       "<style scoped>\n",
       "    .dataframe tbody tr th:only-of-type {\n",
       "        vertical-align: middle;\n",
       "    }\n",
       "\n",
       "    .dataframe tbody tr th {\n",
       "        vertical-align: top;\n",
       "    }\n",
       "\n",
       "    .dataframe thead th {\n",
       "        text-align: right;\n",
       "    }\n",
       "</style>\n",
       "<table border=\"1\" class=\"dataframe\">\n",
       "  <thead>\n",
       "    <tr style=\"text-align: right;\">\n",
       "      <th></th>\n",
       "      <th>0</th>\n",
       "      <th>1</th>\n",
       "      <th>2</th>\n",
       "      <th>3</th>\n",
       "      <th>4</th>\n",
       "      <th>5</th>\n",
       "      <th>6</th>\n",
       "      <th>7</th>\n",
       "      <th>8</th>\n",
       "      <th>9</th>\n",
       "      <th>10</th>\n",
       "      <th>11</th>\n",
       "      <th>12</th>\n",
       "      <th>13</th>\n",
       "    </tr>\n",
       "  </thead>\n",
       "  <tbody>\n",
       "    <tr>\n",
       "      <th>0</th>\n",
       "      <td>0.00632</td>\n",
       "      <td>18.0</td>\n",
       "      <td>2.31</td>\n",
       "      <td>0</td>\n",
       "      <td>0.538</td>\n",
       "      <td>6.575</td>\n",
       "      <td>65.2</td>\n",
       "      <td>4.0900</td>\n",
       "      <td>1</td>\n",
       "      <td>296.0</td>\n",
       "      <td>15.3</td>\n",
       "      <td>396.90</td>\n",
       "      <td>4.98</td>\n",
       "      <td>24.0</td>\n",
       "    </tr>\n",
       "    <tr>\n",
       "      <th>1</th>\n",
       "      <td>0.02731</td>\n",
       "      <td>0.0</td>\n",
       "      <td>7.07</td>\n",
       "      <td>0</td>\n",
       "      <td>0.469</td>\n",
       "      <td>6.421</td>\n",
       "      <td>78.9</td>\n",
       "      <td>4.9671</td>\n",
       "      <td>2</td>\n",
       "      <td>242.0</td>\n",
       "      <td>17.8</td>\n",
       "      <td>396.90</td>\n",
       "      <td>9.14</td>\n",
       "      <td>21.6</td>\n",
       "    </tr>\n",
       "    <tr>\n",
       "      <th>2</th>\n",
       "      <td>0.02729</td>\n",
       "      <td>0.0</td>\n",
       "      <td>7.07</td>\n",
       "      <td>0</td>\n",
       "      <td>0.469</td>\n",
       "      <td>7.185</td>\n",
       "      <td>61.1</td>\n",
       "      <td>4.9671</td>\n",
       "      <td>2</td>\n",
       "      <td>242.0</td>\n",
       "      <td>17.8</td>\n",
       "      <td>392.83</td>\n",
       "      <td>4.03</td>\n",
       "      <td>34.7</td>\n",
       "    </tr>\n",
       "    <tr>\n",
       "      <th>3</th>\n",
       "      <td>0.03237</td>\n",
       "      <td>0.0</td>\n",
       "      <td>2.18</td>\n",
       "      <td>0</td>\n",
       "      <td>0.458</td>\n",
       "      <td>6.998</td>\n",
       "      <td>45.8</td>\n",
       "      <td>6.0622</td>\n",
       "      <td>3</td>\n",
       "      <td>222.0</td>\n",
       "      <td>18.7</td>\n",
       "      <td>394.63</td>\n",
       "      <td>2.94</td>\n",
       "      <td>33.4</td>\n",
       "    </tr>\n",
       "    <tr>\n",
       "      <th>4</th>\n",
       "      <td>0.06905</td>\n",
       "      <td>0.0</td>\n",
       "      <td>2.18</td>\n",
       "      <td>0</td>\n",
       "      <td>0.458</td>\n",
       "      <td>7.147</td>\n",
       "      <td>54.2</td>\n",
       "      <td>6.0622</td>\n",
       "      <td>3</td>\n",
       "      <td>222.0</td>\n",
       "      <td>18.7</td>\n",
       "      <td>396.90</td>\n",
       "      <td>5.33</td>\n",
       "      <td>36.2</td>\n",
       "    </tr>\n",
       "  </tbody>\n",
       "</table>\n",
       "</div>"
      ],
      "text/plain": [
       "        0     1     2   3      4      5     6       7   8      9     10  \\\n",
       "0  0.00632  18.0  2.31   0  0.538  6.575  65.2  4.0900   1  296.0  15.3   \n",
       "1  0.02731   0.0  7.07   0  0.469  6.421  78.9  4.9671   2  242.0  17.8   \n",
       "2  0.02729   0.0  7.07   0  0.469  7.185  61.1  4.9671   2  242.0  17.8   \n",
       "3  0.03237   0.0  2.18   0  0.458  6.998  45.8  6.0622   3  222.0  18.7   \n",
       "4  0.06905   0.0  2.18   0  0.458  7.147  54.2  6.0622   3  222.0  18.7   \n",
       "\n",
       "       11    12    13  \n",
       "0  396.90  4.98  24.0  \n",
       "1  396.90  9.14  21.6  \n",
       "2  392.83  4.03  34.7  \n",
       "3  394.63  2.94  33.4  \n",
       "4  396.90  5.33  36.2  "
      ]
     },
     "execution_count": 23,
     "metadata": {},
     "output_type": "execute_result"
    }
   ],
   "source": [
    "datostxt=pd.read_csv(ficheroTXT,#direcionamos la ruta\n",
    "                    header=None,#No tiene encabezado\n",
    "                    sep=\"\\s+\")#sep: indica la opcion de separacion de las columnas\n",
    "datostxt.head()"
   ]
  },
  {
   "cell_type": "code",
   "execution_count": 24,
   "metadata": {},
   "outputs": [
    {
     "data": {
      "text/html": [
       "<div>\n",
       "<style scoped>\n",
       "    .dataframe tbody tr th:only-of-type {\n",
       "        vertical-align: middle;\n",
       "    }\n",
       "\n",
       "    .dataframe tbody tr th {\n",
       "        vertical-align: top;\n",
       "    }\n",
       "\n",
       "    .dataframe thead th {\n",
       "        text-align: right;\n",
       "    }\n",
       "</style>\n",
       "<table border=\"1\" class=\"dataframe\">\n",
       "  <thead>\n",
       "    <tr style=\"text-align: right;\">\n",
       "      <th></th>\n",
       "      <th>CRIM</th>\n",
       "      <th>ZN</th>\n",
       "      <th>INDUS</th>\n",
       "      <th>CHAS</th>\n",
       "      <th>NOX</th>\n",
       "      <th>RM</th>\n",
       "      <th>AGE</th>\n",
       "      <th>DIS</th>\n",
       "      <th>RAD</th>\n",
       "      <th>TAX</th>\n",
       "      <th>PTRATIO</th>\n",
       "      <th>B</th>\n",
       "      <th>LSTAT</th>\n",
       "      <th>MEDV</th>\n",
       "    </tr>\n",
       "  </thead>\n",
       "  <tbody>\n",
       "    <tr>\n",
       "      <th>0</th>\n",
       "      <td>0.00632</td>\n",
       "      <td>18.0</td>\n",
       "      <td>2.31</td>\n",
       "      <td>0</td>\n",
       "      <td>0.538</td>\n",
       "      <td>6.575</td>\n",
       "      <td>65.2</td>\n",
       "      <td>4.0900</td>\n",
       "      <td>1</td>\n",
       "      <td>296.0</td>\n",
       "      <td>15.3</td>\n",
       "      <td>396.90</td>\n",
       "      <td>4.98</td>\n",
       "      <td>24.0</td>\n",
       "    </tr>\n",
       "    <tr>\n",
       "      <th>1</th>\n",
       "      <td>0.02731</td>\n",
       "      <td>0.0</td>\n",
       "      <td>7.07</td>\n",
       "      <td>0</td>\n",
       "      <td>0.469</td>\n",
       "      <td>6.421</td>\n",
       "      <td>78.9</td>\n",
       "      <td>4.9671</td>\n",
       "      <td>2</td>\n",
       "      <td>242.0</td>\n",
       "      <td>17.8</td>\n",
       "      <td>396.90</td>\n",
       "      <td>9.14</td>\n",
       "      <td>21.6</td>\n",
       "    </tr>\n",
       "    <tr>\n",
       "      <th>2</th>\n",
       "      <td>0.02729</td>\n",
       "      <td>0.0</td>\n",
       "      <td>7.07</td>\n",
       "      <td>0</td>\n",
       "      <td>0.469</td>\n",
       "      <td>7.185</td>\n",
       "      <td>61.1</td>\n",
       "      <td>4.9671</td>\n",
       "      <td>2</td>\n",
       "      <td>242.0</td>\n",
       "      <td>17.8</td>\n",
       "      <td>392.83</td>\n",
       "      <td>4.03</td>\n",
       "      <td>34.7</td>\n",
       "    </tr>\n",
       "    <tr>\n",
       "      <th>3</th>\n",
       "      <td>0.03237</td>\n",
       "      <td>0.0</td>\n",
       "      <td>2.18</td>\n",
       "      <td>0</td>\n",
       "      <td>0.458</td>\n",
       "      <td>6.998</td>\n",
       "      <td>45.8</td>\n",
       "      <td>6.0622</td>\n",
       "      <td>3</td>\n",
       "      <td>222.0</td>\n",
       "      <td>18.7</td>\n",
       "      <td>394.63</td>\n",
       "      <td>2.94</td>\n",
       "      <td>33.4</td>\n",
       "    </tr>\n",
       "    <tr>\n",
       "      <th>4</th>\n",
       "      <td>0.06905</td>\n",
       "      <td>0.0</td>\n",
       "      <td>2.18</td>\n",
       "      <td>0</td>\n",
       "      <td>0.458</td>\n",
       "      <td>7.147</td>\n",
       "      <td>54.2</td>\n",
       "      <td>6.0622</td>\n",
       "      <td>3</td>\n",
       "      <td>222.0</td>\n",
       "      <td>18.7</td>\n",
       "      <td>396.90</td>\n",
       "      <td>5.33</td>\n",
       "      <td>36.2</td>\n",
       "    </tr>\n",
       "  </tbody>\n",
       "</table>\n",
       "</div>"
      ],
      "text/plain": [
       "      CRIM    ZN  INDUS  CHAS    NOX     RM   AGE     DIS  RAD    TAX  \\\n",
       "0  0.00632  18.0   2.31     0  0.538  6.575  65.2  4.0900    1  296.0   \n",
       "1  0.02731   0.0   7.07     0  0.469  6.421  78.9  4.9671    2  242.0   \n",
       "2  0.02729   0.0   7.07     0  0.469  7.185  61.1  4.9671    2  242.0   \n",
       "3  0.03237   0.0   2.18     0  0.458  6.998  45.8  6.0622    3  222.0   \n",
       "4  0.06905   0.0   2.18     0  0.458  7.147  54.2  6.0622    3  222.0   \n",
       "\n",
       "   PTRATIO       B  LSTAT  MEDV  \n",
       "0     15.3  396.90   4.98  24.0  \n",
       "1     17.8  396.90   9.14  21.6  \n",
       "2     17.8  392.83   4.03  34.7  \n",
       "3     18.7  394.63   2.94  33.4  \n",
       "4     18.7  396.90   5.33  36.2  "
      ]
     },
     "execution_count": 24,
     "metadata": {},
     "output_type": "execute_result"
    }
   ],
   "source": [
    "datostxt.columns=['CRIM', 'ZN', 'INDUS', 'CHAS', \n",
    "              'NOX', 'RM', 'AGE', 'DIS', 'RAD', \n",
    "              'TAX', 'PTRATIO', 'B', 'LSTAT', 'MEDV']\n",
    "datostxt.head()"
   ]
  },
  {
   "cell_type": "markdown",
   "metadata": {},
   "source": [
    "## CONEXION DE BASE DE DATOS"
   ]
  },
  {
   "cell_type": "markdown",
   "metadata": {},
   "source": [
    "**Motor BD Sql Server**"
   ]
  },
  {
   "cell_type": "code",
   "execution_count": 25,
   "metadata": {},
   "outputs": [
    {
     "name": "stdout",
     "output_type": "stream",
     "text": [
      "Requirement already satisfied: pandas in c:\\programdata\\anaconda3\\lib\\site-packages (1.1.3)\n",
      "Requirement already satisfied: numpy>=1.15.4 in c:\\programdata\\anaconda3\\lib\\site-packages (from pandas) (1.19.2)\n",
      "Requirement already satisfied: python-dateutil>=2.7.3 in c:\\programdata\\anaconda3\\lib\\site-packages (from pandas) (2.8.1)\n",
      "Requirement already satisfied: pytz>=2017.2 in c:\\programdata\\anaconda3\\lib\\site-packages (from pandas) (2020.1)\n",
      "Requirement already satisfied: six>=1.5 in c:\\programdata\\anaconda3\\lib\\site-packages (from python-dateutil>=2.7.3->pandas) (1.15.0)\n"
     ]
    }
   ],
   "source": [
    "!pip install pandas"
   ]
  },
  {
   "cell_type": "code",
   "execution_count": 26,
   "metadata": {},
   "outputs": [],
   "source": [
    "import pandas.io.sql\n",
    "import pandas as pd\n",
    "import pyodbc\n",
    "import numpy as np\n",
    "import psycopg2"
   ]
  },
  {
   "cell_type": "code",
   "execution_count": 27,
   "metadata": {},
   "outputs": [],
   "source": [
    "conexion = pyodbc.connect('DRIVER={SQL Server};SERVER=69.164.192.245;DATABASE=NEPTUNO;UID=SA;PWD=SdC2019PERU!')\n",
    "# Parámetros\n",
    "#SERVER = '69.164.192.245'\n",
    "#DATABASE = 'NEPTUNO'\n",
    "#UID = 'SA'\n",
    "#PWD = 'SdC2019PERU!'\n",
    "\n",
    "#con = psycopg2.connect(\"dbname=profesor user=postgres password=sdc2019PERU host=69.164.192.245\")"
   ]
  },
  {
   "cell_type": "markdown",
   "metadata": {},
   "source": [
    "Tanto para ejecutar una sentencia **SQL** para actualizar, insertar o borrar datos, como para consultar datos, necesitamos un objeto específico llamado **cursor**. Así pues, antes de realizar cualquiera de estas operaciones, procedemos a la obtención del mismo:"
   ]
  },
  {
   "cell_type": "code",
   "execution_count": 28,
   "metadata": {},
   "outputs": [],
   "source": [
    "cursor = conexion.cursor()\n",
    "#SELECT * from tabla_resultados"
   ]
  },
  {
   "cell_type": "markdown",
   "metadata": {},
   "source": [
    "### Método fetchall()\n",
    "extrae todos los registros que cumplen con la condición especificada, si asignamos su resultado a la variable rows, podemos iterar y obtener la información de todos los registros. En realidad, obtendremos una tupla donde cada uno de los valores se corresponder con el de los campos de la tabla. Así pues, si quisiéramos obtener solamente el valor correspondiente a los millones de habitantes de cada país, bastaría sustituir la sentencia print(row) de nuestro bucle, por print(row[3])."
   ]
  },
  {
   "cell_type": "code",
   "execution_count": 29,
   "metadata": {},
   "outputs": [
    {
     "name": "stdout",
     "output_type": "stream",
     "text": [
      "(1, 'Té Dharamsala', 1, 1, '10 cajas x 20 bolsas', Decimal('18'), 39, 0, 10, 0, 'Categoria D')\n",
      "(2, 'Cerveza tibetana Barley', 1, 1, '24 - bot. 12 l', Decimal('19'), 17, 40, 25, 0, 'Categoria D')\n",
      "(3, 'Sirope de regaliz', 1, 2, '12 - bot. 550 ml', Decimal('10'), 13, 70, 25, 0, 'Categoria D')\n",
      "(4, 'Especias Cajun del chef Anton', 2, 2, '48 - frascos 6 l', Decimal('22'), 53, 0, 0, 0, 'Categoria D')\n",
      "(5, 'Mezcla Gumbo del chef Anton', 2, 2, '36 cajas', Decimal('21'), 0, 0, 0, 1, 'Categoria D')\n",
      "(6, 'Mermelada de grosellas de la abuela', 3, 2, '12 - frascos 8 l', Decimal('25'), 120, 0, 25, 0, 'Categoria D')\n",
      "(7, 'Peras secas orgánicas del tío Bob', 3, 7, '12 - paq. 1 kg', Decimal('30'), 15, 0, 10, 0, 'Categoria D')\n",
      "(8, 'Salsa de arándanos Northwoods', 3, 2, '12 - frascos 12 l', Decimal('40'), 6, 0, 0, 0, 'Categoria D')\n",
      "(9, 'Buey Mishi Kobe', 4, 6, '18 - paq. 500 g', Decimal('97'), 29, 0, 0, 1, 'Categoria D')\n",
      "(10, 'Pez espada', 4, 8, '12 - frascos 200 ml', Decimal('31'), 31, 0, 0, 0, 'Categoria D')\n",
      "(11, 'Queso Cabrales', 5, 4, 'paq. 1 kg', Decimal('21'), 22, 30, 30, 0, 'Categoria D')\n",
      "(12, 'Queso Manchego La Pastora', 5, 4, '10 - paq. 500 g', Decimal('38'), 86, 0, 0, 0, 'Categoria D')\n",
      "(13, 'Algas Konbu', 6, 8, 'caja 2 kg', Decimal('6'), 24, 0, 5, 0, 'Categoria D')\n",
      "(14, 'Cuajada de judías', 6, 7, '40 - paq. 100 g', Decimal('23'), 35, 0, 0, 0, 'Categoria D')\n",
      "(15, 'Salsa de soja baja en sodio', 6, 2, '24 - bot. 250 ml', Decimal('16'), 39, 0, 5, 0, None)\n",
      "(16, 'Postre de merengue Pavlova', 7, 3, '32 - cajas 500 g', Decimal('17'), 29, 0, 10, 0, 'Categoria D')\n",
      "(17, 'Cordero Alice Springs', 7, 6, '20 - latas 1 kg', Decimal('39'), 0, 0, 0, 1, 'Categoria D')\n",
      "(18, 'Langostinos tigre Carnarvon', 7, 8, 'paq. 16 kg', Decimal('63'), 42, 0, 0, 0, 'Categoria D')\n",
      "(19, 'Pastas de té de chocolate', 8, 3, '10 cajas x 12 piezas', Decimal('9'), 25, 0, 5, 0, 'Categoria D')\n",
      "(20, \"Mermelada de Sir Rodney's\", 8, 3, '30 cajas regalo', Decimal('81'), 40, 0, 0, 0, 'Categoria D')\n",
      "(21, \"Bollos de Sir Rodney's\", 8, 3, '24 paq. x 4 piezas', Decimal('10'), 3, 40, 5, 0, 'Categoria D')\n",
      "(22, \"Pan de centeno crujiente estilo Gustaf's\", 9, 5, '24 - paq. 500 g', Decimal('21'), 104, 0, 25, 0, 'Categoria D')\n",
      "(23, 'Pan fino', 9, 5, '12 - paq. 250 g', Decimal('9'), 61, 0, 25, 0, 'Categoria D')\n",
      "(24, 'Refresco Guaraná Fantástica', 10, 1, '12 - latas 355 ml', Decimal('5'), 20, 0, 0, 1, 'Categoria D')\n",
      "(25, 'Crema de chocolate y nueces NuNuCa', 11, 3, '20 - vasos  450 g', Decimal('14'), 76, 0, 30, 0, 'Categoria D')\n",
      "(26, 'Ositos de goma Gumbär', 11, 3, '100 - bolsas 250 g', Decimal('31'), 15, 0, 0, 0, 'Categoria D')\n",
      "(27, 'Chocolate Schoggi', 11, 3, '100 - piezas 100 g', Decimal('44'), 49, 0, 30, 0, 'Categoria D')\n",
      "(28, 'Col fermentada Rössle', 12, 7, '25 - latas 825 g', Decimal('46'), 26, 0, 0, 1, 'Categoria D')\n",
      "(29, 'Salchicha Thüringer', 12, 6, '50 bolsas x 30 salch', Decimal('124'), 0, 0, 0, 1, 'Categoria B')\n",
      "(30, 'Arenque blanco del noroeste', 13, 8, '10 - vasos 200 g', Decimal('26'), 10, 0, 15, 0, 'Categoria D')\n",
      "(31, 'Queso gorgonzola Telino', 14, 4, '12 - paq. 100 g', Decimal('13'), 0, 70, 20, 0, 'Categoria D')\n",
      "(32, 'Queso Mascarpone Fabioli', 14, 4, '24 - paq. 200 g', Decimal('32'), 9, 40, 25, 0, 'Categoria D')\n",
      "(33, 'Queso de cabra', 15, 4, '500 g', Decimal('3'), 112, 0, 20, 0, 'Categoria D')\n",
      "(34, 'Cerveza Sasquatch', 16, 1, '24 - bot. 12 l', Decimal('14'), 111, 0, 15, 0, 'Categoria D')\n",
      "(35, 'Cerveza negra Steeleye', 16, 1, '24 - bot. 12 l', Decimal('18'), 20, 0, 15, 0, 'Categoria D')\n",
      "(36, 'Escabeche de arenque', 17, 8, '24 - frascos 250 g', Decimal('19'), 112, 0, 20, 0, 'Categoria D')\n",
      "(37, 'Salmón ahumado Gravad', 17, 8, '12 - paq. 500 g', Decimal('26'), 11, 50, 25, 0, 'Categoria D')\n",
      "(38, 'Vino Côte de Blaye', 18, 1, '12 - bot. 75 cl', Decimal('264'), 17, 0, 15, 0, 'Categoria A')\n",
      "(39, 'Licor verde Chartreuse', 18, 1, '750 cc por bot.', Decimal('18'), 69, 0, 5, 0, 'Categoria D')\n",
      "(40, 'Carne de cangrejo de Boston', 19, 8, '24 - latas 4 l', Decimal('18'), 123, 0, 30, 0, 'Categoria D')\n",
      "(41, 'Crema de almejas estilo Nueva Inglaterra', 19, 8, '12 - latas 12 l', Decimal('10'), 85, 0, 10, 0, 'Categoria D')\n",
      "(42, 'Tallarines de Singapur', 20, 5, '32 - 1 kg paq.', Decimal('14'), 26, 0, 0, 1, 'Categoria D')\n",
      "(43, 'Café de Malasia', 20, 1, '16 - latas 500 g', Decimal('46'), 17, 10, 25, 0, 'Categoria D')\n",
      "(44, 'Azúcar negra Malacca', 20, 2, '20 - bolsas 2 kg', Decimal('19'), 27, 0, 15, 0, 'Categoria D')\n",
      "(45, 'Arenque ahumado', 21, 8, 'paq. 1k', Decimal('10'), 5, 70, 15, 0, 'Categoria D')\n",
      "(46, 'Arenque salado', 21, 8, '4 - vasos 450 g', Decimal('12'), 95, 0, 0, 0, 'Categoria D')\n",
      "(47, 'Galletas Zaanse', 22, 3, '10 - cajas 4 l', Decimal('10'), 36, 0, 0, 0, 'Categoria D')\n",
      "(48, 'Chocolate holandés', 22, 3, '10 paq.', Decimal('13'), 15, 70, 25, 0, 'Categoria D')\n",
      "(49, 'Regaliz', 23, 3, '24 - paq. 50 g', Decimal('20'), 10, 60, 15, 0, 'Categoria D')\n",
      "(50, 'Chocolate blanco', 23, 3, '12 - barras 100 g', Decimal('16'), 65, 0, 30, 0, 'Categoria D')\n",
      "(51, 'Manzanas secas Manjimup', 24, 7, '50 - paq. 300 g', Decimal('53'), 20, 0, 10, 0, 'Categoria C')\n",
      "(52, 'Cereales para Filo', 24, 5, '16 - cajas 2 kg', Decimal('7'), 38, 0, 25, 0, 'Categoria D')\n",
      "(53, 'Empanada de carne', 24, 6, '48 porc.', Decimal('33'), 0, 0, 0, 1, 'Categoria D')\n",
      "(54, 'Empanada de cerdo', 25, 6, '16 tartas', Decimal('7'), 21, 0, 10, 0, 'Categoria D')\n",
      "(55, 'Paté chino', 25, 6, '24 cajas x 2 tartas', Decimal('24'), 115, 0, 20, 0, 'Categoria D')\n",
      "(56, 'Gnocchi de la abuela Alicia', 26, 5, '24 - paq. 250 g', Decimal('38'), 21, 10, 30, 0, 'Categoria D')\n",
      "(57, 'Raviolis Angelo', 26, 5, '24 - paq. 250 g', Decimal('20'), 36, 0, 20, 0, 'Categoria D')\n",
      "(58, 'Caracoles de Borgoña', 27, 8, '24 porc.', Decimal('13'), 62, 0, 20, 0, 'Categoria D')\n",
      "(59, 'Raclet de queso Courdavault', 28, 4, 'paq. 5 kg', Decimal('55'), 79, 0, 0, 0, 'Categoria C')\n",
      "(60, 'Camembert Pierrot', 28, 4, '15 - paq. 300 g', Decimal('34'), 19, 0, 0, 0, 'Categoria C')\n",
      "(61, 'Sirope de arce', 29, 2, '24 - bot. 500 ml', Decimal('29'), 113, 0, 25, 0, 'Categoria D')\n",
      "(62, 'Tarta de azúcar', 29, 3, '48 tartas', Decimal('49'), 17, 0, 0, 0, 'Categoria C')\n",
      "(63, 'Sandwich de vegetales', 7, 2, '15 - frascos 625 g', Decimal('44'), 24, 0, 5, 0, 'Categoria D')\n",
      "(64, 'Bollos de pan de Wimmer', 12, 5, '20 bolsas x 4 porc.', Decimal('33'), 22, 80, 30, 0, 'Categoria D')\n",
      "(65, 'Salsa de pimiento picante de Luisiana', 2, 2, '32 - bot. 8 l', Decimal('21'), 76, 0, 0, 0, 'Categoria D')\n",
      "(66, 'Especias picantes de Luisiana', 2, 2, '24 - frascos 8 l', Decimal('17'), 4, 100, 20, 0, 'Categoria D')\n",
      "(67, 'Cerveza Laughing Lumberjack', 16, 1, '24 - bot. 12 l', Decimal('14'), 52, 0, 10, 0, 'Categoria D')\n",
      "(68, 'Barras de pan de Escocia', 8, 3, '10 cajas x 8 porc.', Decimal('13'), 6, 10, 15, 0, 'Categoria D')\n",
      "(69, 'Queso Gudbrandsdals', 15, 4, 'paq. 10 kg', Decimal('36'), 26, 0, 15, 0, 'Categoria D')\n",
      "(70, 'Cerveza Outback', 7, 1, '24 - bot. 355 ml', Decimal('15'), 15, 10, 30, 0, 'Categoria D')\n",
      "(71, 'Crema de queso Fløtemys', 15, 4, '10 - paq. 500 g', Decimal('22'), 26, 0, 0, 0, 'Categoria D')\n",
      "(72, 'Queso Mozzarella Giovanni', 14, 4, '24 - paq. 200 g', Decimal('35'), 14, 0, 0, 0, 'Categoria D')\n",
      "(73, 'Caviar rojo', 17, 8, '24 - frascos150 g', Decimal('15'), 101, 0, 5, 0, 'Categoria D')\n",
      "(74, 'Queso de soja Longlife', 4, 7, 'paq. 5 kg', Decimal('10'), 4, 20, 5, 0, 'Categoria D')\n",
      "(75, 'Cerveza Klosterbier Rhönbräu', 12, 1, '24 - bot. 0,5 l', Decimal('8'), 125, 0, 25, 0, 'Categoria D')\n",
      "(76, 'Licor Cloudberry', 23, 1, '500 ml', Decimal('18'), 57, 0, 20, 0, 'Categoria D')\n",
      "(77, 'Salsa verde original Frankfurter', 12, 2, '12 cajas', Decimal('13'), 32, 0, 15, 0, 'Categoria D')\n"
     ]
    }
   ],
   "source": [
    "sql = 'SELECT  * from productos' # sentencia SQL\n",
    "cursor.execute(sql) #ejecutar sentencia SQL mediante cursor\n",
    "rows = cursor.fetchall() #método fetchall\n",
    "for row in rows:\n",
    "    print(row)"
   ]
  },
  {
   "cell_type": "code",
   "execution_count": 30,
   "metadata": {},
   "outputs": [],
   "source": [
    "conexion.close() # cerrar la conexión"
   ]
  },
  {
   "cell_type": "markdown",
   "metadata": {},
   "source": [
    "### Manera incorrecta de generar un data frame"
   ]
  },
  {
   "cell_type": "code",
   "execution_count": 31,
   "metadata": {},
   "outputs": [
    {
     "data": {
      "text/html": [
       "<div>\n",
       "<style scoped>\n",
       "    .dataframe tbody tr th:only-of-type {\n",
       "        vertical-align: middle;\n",
       "    }\n",
       "\n",
       "    .dataframe tbody tr th {\n",
       "        vertical-align: top;\n",
       "    }\n",
       "\n",
       "    .dataframe thead th {\n",
       "        text-align: right;\n",
       "    }\n",
       "</style>\n",
       "<table border=\"1\" class=\"dataframe\">\n",
       "  <thead>\n",
       "    <tr style=\"text-align: right;\">\n",
       "      <th></th>\n",
       "      <th>nombreProducto</th>\n",
       "    </tr>\n",
       "  </thead>\n",
       "  <tbody>\n",
       "    <tr>\n",
       "      <th>0</th>\n",
       "      <td>[1, Té Dharamsala, 1, 1, 10 cajas x 20 bolsas,...</td>\n",
       "    </tr>\n",
       "    <tr>\n",
       "      <th>1</th>\n",
       "      <td>[2, Cerveza tibetana Barley, 1, 1, 24 - bot. 1...</td>\n",
       "    </tr>\n",
       "    <tr>\n",
       "      <th>2</th>\n",
       "      <td>[3, Sirope de regaliz, 1, 2, 12 - bot. 550 ml,...</td>\n",
       "    </tr>\n",
       "    <tr>\n",
       "      <th>3</th>\n",
       "      <td>[4, Especias Cajun del chef Anton, 2, 2, 48 - ...</td>\n",
       "    </tr>\n",
       "    <tr>\n",
       "      <th>4</th>\n",
       "      <td>[5, Mezcla Gumbo del chef Anton, 2, 2, 36 caja...</td>\n",
       "    </tr>\n",
       "  </tbody>\n",
       "</table>\n",
       "</div>"
      ],
      "text/plain": [
       "                                      nombreProducto\n",
       "0  [1, Té Dharamsala, 1, 1, 10 cajas x 20 bolsas,...\n",
       "1  [2, Cerveza tibetana Barley, 1, 1, 24 - bot. 1...\n",
       "2  [3, Sirope de regaliz, 1, 2, 12 - bot. 550 ml,...\n",
       "3  [4, Especias Cajun del chef Anton, 2, 2, 48 - ...\n",
       "4  [5, Mezcla Gumbo del chef Anton, 2, 2, 36 caja..."
      ]
     },
     "execution_count": 31,
     "metadata": {},
     "output_type": "execute_result"
    }
   ],
   "source": [
    "#MANERA INCORRECTA DE CONVERSIÓN A FORMATO DATAFRAME\n",
    "#creandolo:\n",
    "DF_lists=pd.DataFrame(rows,columns=['nombreProducto'])\n",
    "DF_lists.head()"
   ]
  },
  {
   "cell_type": "markdown",
   "metadata": {},
   "source": [
    "### Manera correcta de generar un data frame"
   ]
  },
  {
   "cell_type": "code",
   "execution_count": 32,
   "metadata": {},
   "outputs": [
    {
     "data": {
      "text/html": [
       "<div>\n",
       "<style scoped>\n",
       "    .dataframe tbody tr th:only-of-type {\n",
       "        vertical-align: middle;\n",
       "    }\n",
       "\n",
       "    .dataframe tbody tr th {\n",
       "        vertical-align: top;\n",
       "    }\n",
       "\n",
       "    .dataframe thead th {\n",
       "        text-align: right;\n",
       "    }\n",
       "</style>\n",
       "<table border=\"1\" class=\"dataframe\">\n",
       "  <thead>\n",
       "    <tr style=\"text-align: right;\">\n",
       "      <th></th>\n",
       "      <th>ID</th>\n",
       "      <th>nombreProducto</th>\n",
       "      <th>idProveedor</th>\n",
       "      <th>idCategoria</th>\n",
       "      <th>cantidadPorUnidad</th>\n",
       "      <th>precioUnidad</th>\n",
       "      <th>unidadesEnExistencia</th>\n",
       "      <th>unidadesEnPedido</th>\n",
       "      <th>nivelNuevoPedido</th>\n",
       "      <th>suspendido</th>\n",
       "      <th>categoriaProducto</th>\n",
       "    </tr>\n",
       "  </thead>\n",
       "  <tbody>\n",
       "    <tr>\n",
       "      <th>0</th>\n",
       "      <td>1</td>\n",
       "      <td>Té Dharamsala</td>\n",
       "      <td>1</td>\n",
       "      <td>1</td>\n",
       "      <td>10 cajas x 20 bolsas</td>\n",
       "      <td>18</td>\n",
       "      <td>39</td>\n",
       "      <td>0</td>\n",
       "      <td>10</td>\n",
       "      <td>0</td>\n",
       "      <td>Categoria D</td>\n",
       "    </tr>\n",
       "    <tr>\n",
       "      <th>1</th>\n",
       "      <td>2</td>\n",
       "      <td>Cerveza tibetana Barley</td>\n",
       "      <td>1</td>\n",
       "      <td>1</td>\n",
       "      <td>24 - bot. 12 l</td>\n",
       "      <td>19</td>\n",
       "      <td>17</td>\n",
       "      <td>40</td>\n",
       "      <td>25</td>\n",
       "      <td>0</td>\n",
       "      <td>Categoria D</td>\n",
       "    </tr>\n",
       "    <tr>\n",
       "      <th>2</th>\n",
       "      <td>3</td>\n",
       "      <td>Sirope de regaliz</td>\n",
       "      <td>1</td>\n",
       "      <td>2</td>\n",
       "      <td>12 - bot. 550 ml</td>\n",
       "      <td>10</td>\n",
       "      <td>13</td>\n",
       "      <td>70</td>\n",
       "      <td>25</td>\n",
       "      <td>0</td>\n",
       "      <td>Categoria D</td>\n",
       "    </tr>\n",
       "    <tr>\n",
       "      <th>3</th>\n",
       "      <td>4</td>\n",
       "      <td>Especias Cajun del chef Anton</td>\n",
       "      <td>2</td>\n",
       "      <td>2</td>\n",
       "      <td>48 - frascos 6 l</td>\n",
       "      <td>22</td>\n",
       "      <td>53</td>\n",
       "      <td>0</td>\n",
       "      <td>0</td>\n",
       "      <td>0</td>\n",
       "      <td>Categoria D</td>\n",
       "    </tr>\n",
       "    <tr>\n",
       "      <th>4</th>\n",
       "      <td>5</td>\n",
       "      <td>Mezcla Gumbo del chef Anton</td>\n",
       "      <td>2</td>\n",
       "      <td>2</td>\n",
       "      <td>36 cajas</td>\n",
       "      <td>21</td>\n",
       "      <td>0</td>\n",
       "      <td>0</td>\n",
       "      <td>0</td>\n",
       "      <td>1</td>\n",
       "      <td>Categoria D</td>\n",
       "    </tr>\n",
       "  </tbody>\n",
       "</table>\n",
       "</div>"
      ],
      "text/plain": [
       "  ID                 nombreProducto idProveedor idCategoria  \\\n",
       "0  1                  Té Dharamsala           1           1   \n",
       "1  2        Cerveza tibetana Barley           1           1   \n",
       "2  3              Sirope de regaliz           1           2   \n",
       "3  4  Especias Cajun del chef Anton           2           2   \n",
       "4  5    Mezcla Gumbo del chef Anton           2           2   \n",
       "\n",
       "      cantidadPorUnidad precioUnidad unidadesEnExistencia unidadesEnPedido  \\\n",
       "0  10 cajas x 20 bolsas           18                   39                0   \n",
       "1        24 - bot. 12 l           19                   17               40   \n",
       "2      12 - bot. 550 ml           10                   13               70   \n",
       "3      48 - frascos 6 l           22                   53                0   \n",
       "4              36 cajas           21                    0                0   \n",
       "\n",
       "  nivelNuevoPedido suspendido categoriaProducto  \n",
       "0               10          0       Categoria D  \n",
       "1               25          0       Categoria D  \n",
       "2               25          0       Categoria D  \n",
       "3                0          0       Categoria D  \n",
       "4                0          1       Categoria D  "
      ]
     },
     "execution_count": 32,
     "metadata": {},
     "output_type": "execute_result"
    }
   ],
   "source": [
    "df2 = pd.DataFrame(np.array(rows),\n",
    "                   columns=[\"ID\",'nombreProducto',\"idProveedor\",\"idCategoria\",\"cantidadPorUnidad\",\n",
    "                            'precioUnidad',\"unidadesEnExistencia\",\"unidadesEnPedido\",\n",
    "                            \"nivelNuevoPedido\",'suspendido','categoriaProducto'])\n",
    "df2.head()"
   ]
  },
  {
   "cell_type": "markdown",
   "metadata": {},
   "source": [
    "## Tema 4. Capturando Datos desde APls"
   ]
  },
  {
   "cell_type": "code",
   "execution_count": 33,
   "metadata": {},
   "outputs": [
    {
     "name": "stdout",
     "output_type": "stream",
     "text": [
      "Requirement already satisfied: requests in c:\\programdata\\anaconda3\\lib\\site-packages (2.24.0)\n",
      "Requirement already satisfied: urllib3!=1.25.0,!=1.25.1,<1.26,>=1.21.1 in c:\\programdata\\anaconda3\\lib\\site-packages (from requests) (1.25.11)\n",
      "Requirement already satisfied: chardet<4,>=3.0.2 in c:\\programdata\\anaconda3\\lib\\site-packages (from requests) (3.0.4)\n",
      "Requirement already satisfied: certifi>=2017.4.17 in c:\\programdata\\anaconda3\\lib\\site-packages (from requests) (2020.6.20)\n",
      "Requirement already satisfied: idna<3,>=2.5 in c:\\programdata\\anaconda3\\lib\\site-packages (from requests) (2.10)\n",
      "Note: you may need to restart the kernel to use updated packages.\n"
     ]
    }
   ],
   "source": [
    "pip install requests"
   ]
  },
  {
   "cell_type": "code",
   "execution_count": 34,
   "metadata": {},
   "outputs": [
    {
     "name": "stdout",
     "output_type": "stream",
     "text": [
      "Requirement already satisfied: facebook-sdk in c:\\programdata\\anaconda3\\lib\\site-packages (3.1.0)\n",
      "Requirement already satisfied: requests in c:\\programdata\\anaconda3\\lib\\site-packages (from facebook-sdk) (2.24.0)\n",
      "Requirement already satisfied: urllib3!=1.25.0,!=1.25.1,<1.26,>=1.21.1 in c:\\programdata\\anaconda3\\lib\\site-packages (from requests->facebook-sdk) (1.25.11)\n",
      "Requirement already satisfied: chardet<4,>=3.0.2 in c:\\programdata\\anaconda3\\lib\\site-packages (from requests->facebook-sdk) (3.0.4)\n",
      "Requirement already satisfied: idna<3,>=2.5 in c:\\programdata\\anaconda3\\lib\\site-packages (from requests->facebook-sdk) (2.10)\n",
      "Requirement already satisfied: certifi>=2017.4.17 in c:\\programdata\\anaconda3\\lib\\site-packages (from requests->facebook-sdk) (2020.6.20)\n",
      "Note: you may need to restart the kernel to use updated packages.\n"
     ]
    }
   ],
   "source": [
    "pip install facebook-sdk"
   ]
  },
  {
   "cell_type": "code",
   "execution_count": 35,
   "metadata": {},
   "outputs": [
    {
     "name": "stdout",
     "output_type": "stream",
     "text": [
      "Requirement already satisfied: tweepy in c:\\programdata\\anaconda3\\lib\\site-packages (3.10.0)\n",
      "Requirement already satisfied: requests[socks]>=2.11.1 in c:\\programdata\\anaconda3\\lib\\site-packages (from tweepy) (2.24.0)\n",
      "Requirement already satisfied: six>=1.10.0 in c:\\programdata\\anaconda3\\lib\\site-packages (from tweepy) (1.15.0)\n",
      "Requirement already satisfied: requests-oauthlib>=0.7.0 in c:\\programdata\\anaconda3\\lib\\site-packages (from tweepy) (1.3.0)\n",
      "Requirement already satisfied: idna<3,>=2.5 in c:\\programdata\\anaconda3\\lib\\site-packages (from requests[socks]>=2.11.1->tweepy) (2.10)\n",
      "Requirement already satisfied: certifi>=2017.4.17 in c:\\programdata\\anaconda3\\lib\\site-packages (from requests[socks]>=2.11.1->tweepy) (2020.6.20)\n",
      "Requirement already satisfied: chardet<4,>=3.0.2 in c:\\programdata\\anaconda3\\lib\\site-packages (from requests[socks]>=2.11.1->tweepy) (3.0.4)\n",
      "Requirement already satisfied: urllib3!=1.25.0,!=1.25.1,<1.26,>=1.21.1 in c:\\programdata\\anaconda3\\lib\\site-packages (from requests[socks]>=2.11.1->tweepy) (1.25.11)\n",
      "Requirement already satisfied: PySocks!=1.5.7,>=1.5.6; extra == \"socks\" in c:\\programdata\\anaconda3\\lib\\site-packages (from requests[socks]>=2.11.1->tweepy) (1.7.1)\n",
      "Requirement already satisfied: oauthlib>=3.0.0 in c:\\programdata\\anaconda3\\lib\\site-packages (from requests-oauthlib>=0.7.0->tweepy) (3.1.0)\n",
      "Note: you may need to restart the kernel to use updated packages.\n"
     ]
    }
   ],
   "source": [
    "pip install tweepy"
   ]
  },
  {
   "cell_type": "code",
   "execution_count": 36,
   "metadata": {},
   "outputs": [],
   "source": [
    "import pandas as pd\n",
    "import numpy as np\n",
    "import requests\n",
    "import facebook"
   ]
  },
  {
   "cell_type": "code",
   "execution_count": 37,
   "metadata": {},
   "outputs": [],
   "source": [
    "miurl=\"https://data.seattle.gov/resource/kzjm-xkqj.json\"\n",
    "mifichero=requests.get(miurl)"
   ]
  },
  {
   "cell_type": "code",
   "execution_count": 38,
   "metadata": {},
   "outputs": [
    {
     "data": {
      "text/plain": [
       "requests.models.Response"
      ]
     },
     "execution_count": 38,
     "metadata": {},
     "output_type": "execute_result"
    }
   ],
   "source": [
    "type(mifichero)"
   ]
  },
  {
   "cell_type": "code",
   "execution_count": 39,
   "metadata": {},
   "outputs": [
    {
     "name": "stdout",
     "output_type": "stream",
     "text": [
      "200\n"
     ]
    }
   ],
   "source": [
    "print(mifichero.status_code)"
   ]
  },
  {
   "cell_type": "code",
   "execution_count": 40,
   "metadata": {},
   "outputs": [],
   "source": [
    "if mifichero.status_code==200:\n",
    "    data911=mifichero.json()"
   ]
  },
  {
   "cell_type": "code",
   "execution_count": 41,
   "metadata": {},
   "outputs": [
    {
     "data": {
      "text/plain": [
       "[{'address': '9610 53rd Av S',\n",
       "  'type': 'Aid Response',\n",
       "  'datetime': '2019-05-22T12:55:00.000',\n",
       "  'latitude': '47.515984',\n",
       "  'longitude': '-122.266529',\n",
       "  'report_location': {'type': 'Point',\n",
       "   'coordinates': [-122.266529, 47.515984]},\n",
       "  'incident_number': 'F190051946',\n",
       "  ':@computed_region_ru88_fbhk': '52',\n",
       "  ':@computed_region_kuhn_3gp2': '46',\n",
       "  ':@computed_region_q256_3sug': '18800'},\n",
       " {'address': '106 Pike St',\n",
       "  'type': 'Aid Response',\n",
       "  'datetime': '2019-05-22T12:57:00.000',\n",
       "  'latitude': '47.608849',\n",
       "  'longitude': '-122.339945',\n",
       "  'report_location': {'type': 'Point',\n",
       "   'coordinates': [-122.339945, 47.608849]},\n",
       "  'incident_number': 'F190051950',\n",
       "  ':@computed_region_ru88_fbhk': '14',\n",
       "  ':@computed_region_kuhn_3gp2': '30',\n",
       "  ':@computed_region_q256_3sug': '18081'}]"
      ]
     },
     "execution_count": 41,
     "metadata": {},
     "output_type": "execute_result"
    }
   ],
   "source": [
    "data911[1:3]"
   ]
  },
  {
   "cell_type": "code",
   "execution_count": 42,
   "metadata": {},
   "outputs": [
    {
     "data": {
      "text/html": [
       "<div>\n",
       "<style scoped>\n",
       "    .dataframe tbody tr th:only-of-type {\n",
       "        vertical-align: middle;\n",
       "    }\n",
       "\n",
       "    .dataframe tbody tr th {\n",
       "        vertical-align: top;\n",
       "    }\n",
       "\n",
       "    .dataframe thead th {\n",
       "        text-align: right;\n",
       "    }\n",
       "</style>\n",
       "<table border=\"1\" class=\"dataframe\">\n",
       "  <thead>\n",
       "    <tr style=\"text-align: right;\">\n",
       "      <th></th>\n",
       "      <th>address</th>\n",
       "      <th>type</th>\n",
       "      <th>datetime</th>\n",
       "      <th>latitude</th>\n",
       "      <th>longitude</th>\n",
       "      <th>report_location</th>\n",
       "      <th>incident_number</th>\n",
       "      <th>:@computed_region_ru88_fbhk</th>\n",
       "      <th>:@computed_region_kuhn_3gp2</th>\n",
       "      <th>:@computed_region_q256_3sug</th>\n",
       "      <th>:@computed_region_2day_rhn5</th>\n",
       "      <th>:@computed_region_cyqu_gs94</th>\n",
       "    </tr>\n",
       "  </thead>\n",
       "  <tbody>\n",
       "    <tr>\n",
       "      <th>0</th>\n",
       "      <td>904 7th Av</td>\n",
       "      <td>Car Fire</td>\n",
       "      <td>2019-05-22T12:55:00.000</td>\n",
       "      <td>47.6069</td>\n",
       "      <td>-122.329051</td>\n",
       "      <td>{'type': 'Point', 'coordinates': [-122.329051,...</td>\n",
       "      <td>F190051945</td>\n",
       "      <td>19</td>\n",
       "      <td>12</td>\n",
       "      <td>18379</td>\n",
       "      <td>NaN</td>\n",
       "      <td>NaN</td>\n",
       "    </tr>\n",
       "    <tr>\n",
       "      <th>1</th>\n",
       "      <td>9610 53rd Av S</td>\n",
       "      <td>Aid Response</td>\n",
       "      <td>2019-05-22T12:55:00.000</td>\n",
       "      <td>47.515984</td>\n",
       "      <td>-122.266529</td>\n",
       "      <td>{'type': 'Point', 'coordinates': [-122.266529,...</td>\n",
       "      <td>F190051946</td>\n",
       "      <td>52</td>\n",
       "      <td>46</td>\n",
       "      <td>18800</td>\n",
       "      <td>NaN</td>\n",
       "      <td>NaN</td>\n",
       "    </tr>\n",
       "    <tr>\n",
       "      <th>2</th>\n",
       "      <td>106 Pike St</td>\n",
       "      <td>Aid Response</td>\n",
       "      <td>2019-05-22T12:57:00.000</td>\n",
       "      <td>47.608849</td>\n",
       "      <td>-122.339945</td>\n",
       "      <td>{'type': 'Point', 'coordinates': [-122.339945,...</td>\n",
       "      <td>F190051950</td>\n",
       "      <td>14</td>\n",
       "      <td>30</td>\n",
       "      <td>18081</td>\n",
       "      <td>NaN</td>\n",
       "      <td>NaN</td>\n",
       "    </tr>\n",
       "    <tr>\n",
       "      <th>3</th>\n",
       "      <td>1902 2nd Av</td>\n",
       "      <td>Aid Response</td>\n",
       "      <td>2019-07-01T07:45:00.000</td>\n",
       "      <td>47.610972</td>\n",
       "      <td>-122.340465</td>\n",
       "      <td>{'type': 'Point', 'coordinates': [-122.340465,...</td>\n",
       "      <td>F190068848</td>\n",
       "      <td>5</td>\n",
       "      <td>30</td>\n",
       "      <td>18081</td>\n",
       "      <td>NaN</td>\n",
       "      <td>NaN</td>\n",
       "    </tr>\n",
       "    <tr>\n",
       "      <th>4</th>\n",
       "      <td>4737 Roosevelt Way Ne</td>\n",
       "      <td>Unk Odor</td>\n",
       "      <td>2019-07-01T07:45:00.000</td>\n",
       "      <td>47.663338</td>\n",
       "      <td>-122.317421</td>\n",
       "      <td>{'type': 'Point', 'coordinates': [-122.317421,...</td>\n",
       "      <td>F190068849</td>\n",
       "      <td>60</td>\n",
       "      <td>38</td>\n",
       "      <td>18383</td>\n",
       "      <td>NaN</td>\n",
       "      <td>NaN</td>\n",
       "    </tr>\n",
       "  </tbody>\n",
       "</table>\n",
       "</div>"
      ],
      "text/plain": [
       "                 address          type                 datetime   latitude  \\\n",
       "0             904 7th Av      Car Fire  2019-05-22T12:55:00.000    47.6069   \n",
       "1         9610 53rd Av S  Aid Response  2019-05-22T12:55:00.000  47.515984   \n",
       "2            106 Pike St  Aid Response  2019-05-22T12:57:00.000  47.608849   \n",
       "3            1902 2nd Av  Aid Response  2019-07-01T07:45:00.000  47.610972   \n",
       "4  4737 Roosevelt Way Ne      Unk Odor  2019-07-01T07:45:00.000  47.663338   \n",
       "\n",
       "     longitude                                    report_location  \\\n",
       "0  -122.329051  {'type': 'Point', 'coordinates': [-122.329051,...   \n",
       "1  -122.266529  {'type': 'Point', 'coordinates': [-122.266529,...   \n",
       "2  -122.339945  {'type': 'Point', 'coordinates': [-122.339945,...   \n",
       "3  -122.340465  {'type': 'Point', 'coordinates': [-122.340465,...   \n",
       "4  -122.317421  {'type': 'Point', 'coordinates': [-122.317421,...   \n",
       "\n",
       "  incident_number :@computed_region_ru88_fbhk :@computed_region_kuhn_3gp2  \\\n",
       "0      F190051945                          19                          12   \n",
       "1      F190051946                          52                          46   \n",
       "2      F190051950                          14                          30   \n",
       "3      F190068848                           5                          30   \n",
       "4      F190068849                          60                          38   \n",
       "\n",
       "  :@computed_region_q256_3sug :@computed_region_2day_rhn5  \\\n",
       "0                       18379                         NaN   \n",
       "1                       18800                         NaN   \n",
       "2                       18081                         NaN   \n",
       "3                       18081                         NaN   \n",
       "4                       18383                         NaN   \n",
       "\n",
       "  :@computed_region_cyqu_gs94  \n",
       "0                         NaN  \n",
       "1                         NaN  \n",
       "2                         NaN  \n",
       "3                         NaN  \n",
       "4                         NaN  "
      ]
     },
     "execution_count": 42,
     "metadata": {},
     "output_type": "execute_result"
    }
   ],
   "source": [
    "data911DF=pd.DataFrame(data911)\n",
    "data911DF.head()"
   ]
  },
  {
   "cell_type": "code",
   "execution_count": 43,
   "metadata": {},
   "outputs": [
    {
     "data": {
      "text/plain": [
       "(1000, 12)"
      ]
     },
     "execution_count": 43,
     "metadata": {},
     "output_type": "execute_result"
    }
   ],
   "source": [
    "#Sólo se ha estraido 1000 observaciones dado que es la capacidad maxima para usuario sin cuenta\n",
    "data911DF.shape"
   ]
  },
  {
   "cell_type": "markdown",
   "metadata": {},
   "source": [
    "### Facebook API"
   ]
  },
  {
   "cell_type": "code",
   "execution_count": 44,
   "metadata": {},
   "outputs": [],
   "source": [
    "import facebook\n",
    "import pandas as pd"
   ]
  },
  {
   "cell_type": "code",
   "execution_count": 45,
   "metadata": {},
   "outputs": [
    {
     "ename": "GraphAPIError",
     "evalue": "Error validating access token: The session is invalid because the user logged out.",
     "output_type": "error",
     "traceback": [
      "\u001b[1;31m---------------------------------------------------------------------------\u001b[0m",
      "\u001b[1;31mGraphAPIError\u001b[0m                             Traceback (most recent call last)",
      "\u001b[1;32m<ipython-input-45-ab4276cde182>\u001b[0m in \u001b[0;36m<module>\u001b[1;34m\u001b[0m\n\u001b[0;32m      7\u001b[0m \u001b[1;33m\u001b[0m\u001b[0m\n\u001b[0;32m      8\u001b[0m \u001b[1;33m\u001b[0m\u001b[0m\n\u001b[1;32m----> 9\u001b[1;33m posts = graph.get_connections(page_id,\n\u001b[0m\u001b[0;32m     10\u001b[0m                               \u001b[1;34m'posts'\u001b[0m\u001b[1;33m,\u001b[0m\u001b[1;33m\u001b[0m\u001b[1;33m\u001b[0m\u001b[0m\n\u001b[0;32m     11\u001b[0m                               \u001b[0mlimit\u001b[0m\u001b[1;33m=\u001b[0m\u001b[1;34m'99'\u001b[0m\u001b[1;33m,\u001b[0m\u001b[1;33m\u001b[0m\u001b[1;33m\u001b[0m\u001b[0m\n",
      "\u001b[1;32mC:\\ProgramData\\Anaconda3\\lib\\site-packages\\facebook\\__init__.py\u001b[0m in \u001b[0;36mget_connections\u001b[1;34m(self, id, connection_name, **args)\u001b[0m\n\u001b[0;32m    147\u001b[0m     \u001b[1;32mdef\u001b[0m \u001b[0mget_connections\u001b[0m\u001b[1;33m(\u001b[0m\u001b[0mself\u001b[0m\u001b[1;33m,\u001b[0m \u001b[0mid\u001b[0m\u001b[1;33m,\u001b[0m \u001b[0mconnection_name\u001b[0m\u001b[1;33m,\u001b[0m \u001b[1;33m**\u001b[0m\u001b[0margs\u001b[0m\u001b[1;33m)\u001b[0m\u001b[1;33m:\u001b[0m\u001b[1;33m\u001b[0m\u001b[1;33m\u001b[0m\u001b[0m\n\u001b[0;32m    148\u001b[0m         \u001b[1;34m\"\"\"Fetches the connections for given object.\"\"\"\u001b[0m\u001b[1;33m\u001b[0m\u001b[1;33m\u001b[0m\u001b[0m\n\u001b[1;32m--> 149\u001b[1;33m         return self.request(\n\u001b[0m\u001b[0;32m    150\u001b[0m             \u001b[1;34m\"{0}/{1}/{2}\"\u001b[0m\u001b[1;33m.\u001b[0m\u001b[0mformat\u001b[0m\u001b[1;33m(\u001b[0m\u001b[0mself\u001b[0m\u001b[1;33m.\u001b[0m\u001b[0mversion\u001b[0m\u001b[1;33m,\u001b[0m \u001b[0mid\u001b[0m\u001b[1;33m,\u001b[0m \u001b[0mconnection_name\u001b[0m\u001b[1;33m)\u001b[0m\u001b[1;33m,\u001b[0m \u001b[0margs\u001b[0m\u001b[1;33m\u001b[0m\u001b[1;33m\u001b[0m\u001b[0m\n\u001b[0;32m    151\u001b[0m         )\n",
      "\u001b[1;32mC:\\ProgramData\\Anaconda3\\lib\\site-packages\\facebook\\__init__.py\u001b[0m in \u001b[0;36mrequest\u001b[1;34m(self, path, args, post_args, files, method)\u001b[0m\n\u001b[0;32m    311\u001b[0m \u001b[1;33m\u001b[0m\u001b[0m\n\u001b[0;32m    312\u001b[0m         \u001b[1;32mif\u001b[0m \u001b[0mresult\u001b[0m \u001b[1;32mand\u001b[0m \u001b[0misinstance\u001b[0m\u001b[1;33m(\u001b[0m\u001b[0mresult\u001b[0m\u001b[1;33m,\u001b[0m \u001b[0mdict\u001b[0m\u001b[1;33m)\u001b[0m \u001b[1;32mand\u001b[0m \u001b[0mresult\u001b[0m\u001b[1;33m.\u001b[0m\u001b[0mget\u001b[0m\u001b[1;33m(\u001b[0m\u001b[1;34m\"error\"\u001b[0m\u001b[1;33m)\u001b[0m\u001b[1;33m:\u001b[0m\u001b[1;33m\u001b[0m\u001b[1;33m\u001b[0m\u001b[0m\n\u001b[1;32m--> 313\u001b[1;33m             \u001b[1;32mraise\u001b[0m \u001b[0mGraphAPIError\u001b[0m\u001b[1;33m(\u001b[0m\u001b[0mresult\u001b[0m\u001b[1;33m)\u001b[0m\u001b[1;33m\u001b[0m\u001b[1;33m\u001b[0m\u001b[0m\n\u001b[0m\u001b[0;32m    314\u001b[0m         \u001b[1;32mreturn\u001b[0m \u001b[0mresult\u001b[0m\u001b[1;33m\u001b[0m\u001b[1;33m\u001b[0m\u001b[0m\n\u001b[0;32m    315\u001b[0m \u001b[1;33m\u001b[0m\u001b[0m\n",
      "\u001b[1;31mGraphAPIError\u001b[0m: Error validating access token: The session is invalid because the user logged out."
     ]
    }
   ],
   "source": [
    "token_dec = 'EAAHr6rMZAZC3gBAIovQw7ZBErT1UF5Tx5Nu2hkwMEOHf5TvnsZA54fk5ZAmV2IrMJaqrOnNuoz58KNIP8NEfbO7ClI5ZCgPmZBKkl0or2d5BZClwmq65wgEiRYmqApz1PzotKwvwjg18cxdg01s3lamxYK5QVa6frubkI2IjZAmIf03AxTmuRO1R46KEDKjMIsRzMZBKERDT0A3rgsI24YtFdF'\n",
    "version_api = '3.1' \n",
    "page_id = '522721131191656'\n",
    "page_name = 'Social Data Consulting'\n",
    "graph=facebook.GraphAPI(access_token=token_dec, \n",
    "                        version=version_api)\n",
    "\n",
    "\n",
    "posts = graph.get_connections(page_id,\n",
    "                              'posts',\n",
    "                              limit='99',\n",
    "                              since='2019-07-01',\n",
    "                              until='2019-08-15',\n",
    "                              fields='message,caption,story,created_time,id.as(post_id),description,type,icon,link,permalink_url,picture,full_picture,shares,source,reactions.type(LIKE).limit(0).summary(total_count).as(like),reactions.type(WOW).limit(0).summary(total_count).as(wow),reactions.type(SAD).limit(0).summary(total_count).as(sad),reactions.type(ANGRY).limit(0).summary(total_count).as(angry),reactions.type(LOVE).limit(0).summary(total_count).as(love),reactions.type(HAHA).limit(0).summary(total_count).as(haha),comments.limit(0).summary(total_count)')\n",
    "posts = posts['data']\n",
    "post_bench=pd.DataFrame(posts, \n",
    "                        columns=['message','created_time','post_id','type','icon','link','permalink_url','picture','full_picture','shares','like','wow','sad','angry','love','haha','comments'])"
   ]
  },
  {
   "cell_type": "code",
   "execution_count": null,
   "metadata": {},
   "outputs": [],
   "source": []
  },
  {
   "cell_type": "code",
   "execution_count": null,
   "metadata": {},
   "outputs": [],
   "source": []
  },
  {
   "cell_type": "code",
   "execution_count": null,
   "metadata": {},
   "outputs": [],
   "source": []
  },
  {
   "cell_type": "code",
   "execution_count": null,
   "metadata": {},
   "outputs": [],
   "source": []
  }
 ],
 "metadata": {
  "kernelspec": {
   "display_name": "Python 3",
   "language": "python",
   "name": "python3"
  },
  "language_info": {
   "codemirror_mode": {
    "name": "ipython",
    "version": 3
   },
   "file_extension": ".py",
   "mimetype": "text/x-python",
   "name": "python",
   "nbconvert_exporter": "python",
   "pygments_lexer": "ipython3",
   "version": "3.8.5"
  }
 },
 "nbformat": 4,
 "nbformat_minor": 4
}
