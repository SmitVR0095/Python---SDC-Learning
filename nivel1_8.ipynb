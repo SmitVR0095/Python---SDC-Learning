{
 "cells": [
  {
   "cell_type": "markdown",
   "metadata": {},
   "source": [
    "<center><img src=\"https://media-exp1.licdn.com/dms/image/C4E22AQEbIXZiRVkJPQ/feedshare-shrink_2048_1536/0?e=1602115200&v=beta&t=XHE3KbzKbKy54WYDTfq7VFNUPfNjoIOrjBw6dzFPTfA\" width=\"1000\"></center>"
   ]
  },
  {
   "cell_type": "markdown",
   "metadata": {},
   "source": [
    "# SDC Certified Program in Python for Data Science\n",
    "\n",
    "## Tema 8. Discretización de datos\n",
    "\n",
    "\n",
    "### Prof. Manuel Sigüeñas, M.Sc.(c) \n",
    "\n",
    "[Perfil](https://socialdata-peru.com/learning/teacher2.php)\n",
    "\n",
    "### Prof. Lenguajes de Programación para Ciencia de Datos / Agile Data Scientists / SCRUMStudy Certified Trainer\n",
    "\n",
    "\n",
    "[msiguenas@socialdata-peru.com](msiguenas@socialdata-peru.com)}"
   ]
  },
  {
   "cell_type": "markdown",
   "metadata": {},
   "source": [
    "1. [Discretización](#part1)\n",
    "2. [Discretización por intervalos de igual amplitud](#part2)\n",
    "3. [Discretización Cuantil](#part3)\n",
    "4. [Discretización por kmeans](#part4)\n",
    "5. [Discretización por Entropia](#part5)\n",
    "6. [Laboratorio 7](#part7)"
   ]
  },
  {
   "cell_type": "code",
   "execution_count": 1,
   "metadata": {},
   "outputs": [],
   "source": [
    "# Load the packages\n",
    "import pandas as pd \n",
    "import matplotlib.pyplot as plt\n",
    "import seaborn as sns\n",
    "import numpy as np"
   ]
  },
  {
   "cell_type": "markdown",
   "metadata": {},
   "source": [
    "Warehousing (proyecto de almacenamiento de datos) puede resultar en terabytes de datos: Tareas complejas de data mining o machine learning pueden demorar mucho tiempo en ejecutarse sobre el conjunto completo de datos. Ante este problema surge la idea de reducción de datos, cuyo objetivo es buscar una representación reducida del conjunto de datos que es mucho más pequeña en volumen, pero produce los mismos (o casi iguales) resultados. Las estrategias de reducción de datos son: agregación del cubo de datos. discretización y reducción de la dimensionalidad. En esta sección nos ocuparemos de la discretización de datos:"
   ]
  },
  {
   "cell_type": "markdown",
   "metadata": {},
   "source": [
    "# Cooperativas"
   ]
  },
  {
   "cell_type": "markdown",
   "metadata": {},
   "source": [
    "### Información del conjunto de datos"
   ]
  },
  {
   "cell_type": "markdown",
   "metadata": {},
   "source": [
    "Los datos es la información que instituciones financieras remiten al organismo encargado de la regulación y supervisión del Sistema Financiero cada mes y se encuentra toda la informacion de su cartera de creditos a una fecha determinada."
   ]
  },
  {
   "cell_type": "code",
   "execution_count": 1,
   "metadata": {},
   "outputs": [],
   "source": [
    "# Load the packages\n",
    "import pandas as pd \n",
    "import matplotlib.pyplot as plt\n",
    "import seaborn as sns\n",
    "import numpy as np"
   ]
  },
  {
   "cell_type": "code",
   "execution_count": 2,
   "metadata": {},
   "outputs": [
    {
     "name": "stdout",
     "output_type": "stream",
     "text": [
      "<class 'pandas.core.frame.DataFrame'>\n",
      "RangeIndex: 19375 entries, 0 to 19374\n",
      "Data columns (total 6 columns):\n",
      " #   Column     Non-Null Count  Dtype\n",
      "---  ------     --------------  -----\n",
      " 0   genero     19375 non-null  int64\n",
      " 1   est_civil  19375 non-null  int64\n",
      " 2   tpers      19375 non-null  int64\n",
      " 3   cal        19375 non-null  int64\n",
      " 4   edad       19375 non-null  int64\n",
      " 5   clase      19375 non-null  int64\n",
      "dtypes: int64(6)\n",
      "memory usage: 908.3 KB\n"
     ]
    }
   ],
   "source": [
    "\n",
    "data = pd.read_csv(\"D:/Python/1. Nivel I/8/datos/data.csv\",\n",
    "                  sep=\",\",\n",
    "                 encoding=\"ISO-8859-1\")\n",
    "data.info()"
   ]
  },
  {
   "cell_type": "markdown",
   "metadata": {},
   "source": [
    "<a id='part1'></a>\n",
    "## Discretización"
   ]
  },
  {
   "cell_type": "markdown",
   "metadata": {},
   "source": [
    "Es un método que transforma datos cuantitativos en cualitativos. El proceso de aprendizaje es frecuentemente menos eficiente cuando los datos son solo cuantitativos."
   ]
  },
  {
   "cell_type": "markdown",
   "metadata": {},
   "source": [
    "**Métodos Top-Down:** \n",
    "\n",
    "se inicia con una lista vac´ıa de puntos de corte y se continúan agregando nuevos puntos a la lista ‘’separando” los intervalos mientras la Discretización progresa.\n",
    "\n",
    "**Métodos Bottom-Up:**\n",
    "\n",
    "se inicia con la lista completa de todos los valores continuos de la variable como puntos de corte y se eliminan algunos de ellos ‘’juntando” los intervalos mientras la Discretización\n",
    "progresa."
   ]
  },
  {
   "cell_type": "markdown",
   "metadata": {},
   "source": [
    "También se pueden dividir en:"
   ]
  },
  {
   "cell_type": "markdown",
   "metadata": {},
   "source": [
    "**Discretización Dinámica:** algunos algoritmos de clasificación tienen incorporados mecanismos para discretizar atributos continuos (por ejemplo, árboles de decisión). Los atributos continuos son discretizados durante el proceso de clasificación.\n",
    "\n",
    "**Discretización Estática:** Es un paso más en el preprocesamiento de datos. Los atributos continuos son previamente discretizados antes de la tarea de clasificación.\n",
    "\n",
    "A considerar:\n",
    "\n",
    "- No existe una ventaja clara de algunos de los métodos (Dougherty, Kohavi, and Sahami, 1995).\n",
    "- También es conocido como ‘’Binning”."
   ]
  },
  {
   "cell_type": "markdown",
   "metadata": {},
   "source": [
    "____\n",
    "[Ir a inicio](#beginning)"
   ]
  },
  {
   "cell_type": "markdown",
   "metadata": {},
   "source": [
    "<a id='part2'></a>\n",
    "## Discretización por intervalos de igual amplitud"
   ]
  },
  {
   "cell_type": "code",
   "execution_count": 3,
   "metadata": {},
   "outputs": [],
   "source": [
    "from sklearn.preprocessing import KBinsDiscretizer\n",
    "import math"
   ]
  },
  {
   "cell_type": "code",
   "execution_count": 4,
   "metadata": {},
   "outputs": [
    {
     "data": {
      "text/plain": [
       "15.0"
      ]
     },
     "execution_count": 4,
     "metadata": {},
     "output_type": "execute_result"
    }
   ],
   "source": [
    "n = len(data)\n",
    "k = 1 + math.log2(n)\n",
    "k=round(k,0)\n",
    "k"
   ]
  },
  {
   "cell_type": "markdown",
   "metadata": {},
   "source": [
    "##### Proceso:"
   ]
  },
  {
   "cell_type": "markdown",
   "metadata": {},
   "source": [
    "- Es similar a la elaboración de tablas de frecuencia y de contingencia.\n",
    "- Se divide el rango de la variable en k intervalos de igual tamaño.\n",
    "- k es determinado por alguna regla, para la aplicación consideramos sturges."
   ]
  },
  {
   "cell_type": "markdown",
   "metadata": {},
   "source": [
    "**Desventajas:** No supervisado. Sensible a outliers.\n",
    "\n",
    "**Ventajas:** Fácil de implementar. Produce una abstracción de los datos razonable."
   ]
  },
  {
   "cell_type": "code",
   "execution_count": 5,
   "metadata": {},
   "outputs": [],
   "source": [
    "est = KBinsDiscretizer(n_bins=9, encode='ordinal', strategy=\"uniform\")"
   ]
  },
  {
   "cell_type": "code",
   "execution_count": 6,
   "metadata": {},
   "outputs": [],
   "source": [
    "nuevo = est.fit_transform(data[['edad']])"
   ]
  },
  {
   "cell_type": "code",
   "execution_count": 7,
   "metadata": {},
   "outputs": [
    {
     "data": {
      "text/plain": [
       "<matplotlib.axes._subplots.AxesSubplot at 0x1888e16c788>"
      ]
     },
     "execution_count": 7,
     "metadata": {},
     "output_type": "execute_result"
    },
    {
     "data": {
      "image/png": "[encoded data removed]",
      "text/plain": [
       "<Figure size 432x288 with 1 Axes>"
      ]
     },
     "metadata": {
      "needs_background": "light"
     },
     "output_type": "display_data"
    }
   ],
   "source": [
    "xs = pd.DataFrame(nuevo)\n",
    "xs.columns = ['edad_disc_amplitud']\n",
    "xs.groupby('edad_disc_amplitud').size().plot(kind='bar')"
   ]
  },
  {
   "cell_type": "markdown",
   "metadata": {},
   "source": [
    "____\n",
    "[Ir a inicio](#beginning)"
   ]
  },
  {
   "cell_type": "markdown",
   "metadata": {},
   "source": [
    "<a id='part3'></a>\n",
    "## Discretización Cuantil"
   ]
  },
  {
   "cell_type": "markdown",
   "metadata": {},
   "source": [
    "##### Proceso:"
   ]
  },
  {
   "cell_type": "markdown",
   "metadata": {},
   "source": [
    "- Se debe dividir el rango en k intervalos.\n",
    "- Para la construcción de los intervalos se debe tener en cuenta la discretización por cuantil.\n",
    "- No se utiliza la información de la clase."
   ]
  },
  {
   "cell_type": "code",
   "execution_count": 8,
   "metadata": {},
   "outputs": [],
   "source": [
    "from sklearn.preprocessing import KBinsDiscretizer"
   ]
  },
  {
   "cell_type": "code",
   "execution_count": 8,
   "metadata": {},
   "outputs": [],
   "source": [
    "estq = KBinsDiscretizer(n_bins=4, encode='ordinal', strategy='quantile')"
   ]
  },
  {
   "cell_type": "code",
   "execution_count": 9,
   "metadata": {},
   "outputs": [],
   "source": [
    "nuevoq = estq.fit_transform(data[['edad']])"
   ]
  },
  {
   "cell_type": "code",
   "execution_count": 10,
   "metadata": {},
   "outputs": [
    {
     "data": {
      "text/plain": [
       "<matplotlib.axes._subplots.AxesSubplot at 0x1888e9136c8>"
      ]
     },
     "execution_count": 10,
     "metadata": {},
     "output_type": "execute_result"
    },
    {
     "data": {
      "image/png": "[encoded data removed]",
      "text/plain": [
       "<Figure size 432x288 with 1 Axes>"
      ]
     },
     "metadata": {
      "needs_background": "light"
     },
     "output_type": "display_data"
    }
   ],
   "source": [
    "xq = pd.DataFrame(nuevoq)\n",
    "xq.columns = ['corpusculas']\n",
    "xq.groupby('corpusculas').size().plot(kind='bar')"
   ]
  },
  {
   "cell_type": "markdown",
   "metadata": {},
   "source": [
    "____\n",
    "[Ir a inicio](#beginning)"
   ]
  },
  {
   "cell_type": "markdown",
   "metadata": {},
   "source": [
    "<a id='part4'></a>\n",
    "## Discretización por kmeans"
   ]
  },
  {
   "cell_type": "code",
   "execution_count": 11,
   "metadata": {},
   "outputs": [],
   "source": [
    "from sklearn.preprocessing import KBinsDiscretizer"
   ]
  },
  {
   "cell_type": "code",
   "execution_count": 12,
   "metadata": {},
   "outputs": [],
   "source": [
    "estkmeas = KBinsDiscretizer(n_bins=3, encode='ordinal', strategy='kmeans')"
   ]
  },
  {
   "cell_type": "code",
   "execution_count": 13,
   "metadata": {},
   "outputs": [],
   "source": [
    "nuevokmeas = estkmeas.fit_transform(data[['edad']])"
   ]
  },
  {
   "cell_type": "code",
   "execution_count": 14,
   "metadata": {},
   "outputs": [
    {
     "data": {
      "text/plain": [
       "<matplotlib.axes._subplots.AxesSubplot at 0x1888ed9ecc8>"
      ]
     },
     "execution_count": 14,
     "metadata": {},
     "output_type": "execute_result"
    },
    {
     "data": {
      "image/png": "[encoded data removed]",
      "text/plain": [
       "<Figure size 432x288 with 1 Axes>"
      ]
     },
     "metadata": {
      "needs_background": "light"
     },
     "output_type": "display_data"
    }
   ],
   "source": [
    "xkmeans = pd.DataFrame(nuevokmeas)\n",
    "xkmeans.columns = ['corpusculas']\n",
    "xkmeans.groupby('corpusculas').size().plot(kind='bar')"
   ]
  },
  {
   "cell_type": "markdown",
   "metadata": {},
   "source": [
    "<a id='part5'></a>\n",
    "## Discretización por Entropia"
   ]
  },
  {
   "cell_type": "code",
   "execution_count": 17,
   "metadata": {},
   "outputs": [],
   "source": [
    "X = data.iloc[:, data.columns != 'clase'].values#Selecciona menos la variable Prestamo\n",
    "y = data.iloc[:, -1].values#Selecciona menos la ultima columna"
   ]
  },
  {
   "cell_type": "code",
   "execution_count": 18,
   "metadata": {},
   "outputs": [],
   "source": [
    "big_array=[4]#Especificar las posiciones para aplicar dataframe\n",
    "numeric_features=np.array(big_array)#Convertirlos a un array de numpy"
   ]
  },
  {
   "cell_type": "code",
   "execution_count": 19,
   "metadata": {},
   "outputs": [],
   "source": [
    "from MDLP import MDLP_Discretizer"
   ]
  },
  {
   "cell_type": "code",
   "execution_count": 20,
   "metadata": {},
   "outputs": [
    {
     "name": "stderr",
     "output_type": "stream",
     "text": [
      "C:\\Users\\SOCIAL DATA\\MDLP.py:171: RuntimeWarning: invalid value encountered in greater\n",
      "  mask = np.logical_and((self._boundaries[:, feature_idx] > range_min), (self._boundaries[:, feature_idx] < range_max))\n",
      "C:\\Users\\SOCIAL DATA\\MDLP.py:171: RuntimeWarning: invalid value encountered in less\n",
      "  mask = np.logical_and((self._boundaries[:, feature_idx] > range_min), (self._boundaries[:, feature_idx] < range_max))\n"
     ]
    }
   ],
   "source": [
    "discretizer = MDLP_Discretizer(features=numeric_features)#Defino la funcion de discretizacion con las posiciones que debe convertir\n",
    "discretizer.fit(X, y)#Entrena la discretizacion con la data de entrenamiento\n",
    "X_train_discretized = discretizer.transform(X)#Transforma la discretizacion de la data de entrenamiento"
   ]
  },
  {
   "cell_type": "code",
   "execution_count": 21,
   "metadata": {},
   "outputs": [],
   "source": [
    "A=X_train_discretized[:,4]#Selecciono los valores de la columna \"Age\" de la data de entrenamiento\n",
    "df_age = pd.DataFrame(A,columns=['edad_discretizada'])#Genero un dataframe a partir del los valores de \"Age\""
   ]
  },
  {
   "cell_type": "code",
   "execution_count": 22,
   "metadata": {},
   "outputs": [
    {
     "name": "stdout",
     "output_type": "stream",
     "text": [
      "5     13827\n",
      "8      2521\n",
      "9       721\n",
      "11      412\n",
      "6       391\n",
      "10      350\n",
      "1       339\n",
      "4       237\n",
      "7       202\n",
      "2       136\n",
      "0       122\n",
      "12       63\n",
      "3        54\n",
      "Name: edad_discretizada, dtype: int64\n"
     ]
    },
    {
     "data": {
      "image/png": "[encoded data removed]",
      "text/plain": [
       "<Figure size 576x576 with 1 Axes>"
      ]
     },
     "metadata": {
      "needs_background": "light"
     },
     "output_type": "display_data"
    }
   ],
   "source": [
    "print(df_age.edad_discretizada.value_counts())#Agrupa los diferentes grupos\n",
    "\n",
    "f, ax = plt.subplots(1, 1, figsize=(8, 8))#Defino la dimensionalidad del grafico\n",
    "df_age.edad_discretizada.value_counts().plot(kind='bar', title=\"Transaction type\", ax=ax, figsize=(8,8))#Coloco la data la misma que imprimi arriba\n",
    "plt.show()#Muestra el grafico"
   ]
  },
  {
   "cell_type": "code",
   "execution_count": 23,
   "metadata": {},
   "outputs": [
    {
     "name": "stdout",
     "output_type": "stream",
     "text": [
      "Interval cut-points: [4.5, 7.5, 10.5, 12.5, 17.5, 51.5, 52.5, 53.5, 61.5, 66.5, 68.5, 77.5]\n",
      "Bin descriptions: {0: '-inf_to_4.5', 1: '4.5_to_7.5', 2: '7.5_to_10.5', 3: '10.5_to_12.5', 4: '12.5_to_17.5', 5: '17.5_to_51.5', 6: '51.5_to_52.5', 7: '52.5_to_53.5', 8: '53.5_to_61.5', 9: '61.5_to_66.5', 10: '66.5_to_68.5', 11: '68.5_to_77.5', 12: '77.5_to_inf'}\n"
     ]
    }
   ],
   "source": [
    "#ver cómo se discretizó la variable en la posicion 37 \"age\"\n",
    "print ('Interval cut-points: %s' % str(discretizer._cuts[4]))#Los puntos de corte\n",
    "print ('Bin descriptions: %s' % str(discretizer._bin_descriptions[4]))#Muestra el encode que se asigno a cada uno"
   ]
  },
  {
   "cell_type": "markdown",
   "metadata": {},
   "source": [
    "<a id='part7'></a>\n",
    "## 3.  Laboratorio 7"
   ]
  },
  {
   "cell_type": "markdown",
   "metadata": {},
   "source": [
    "Autor: Semeion, Centro de Investigación de Ciencias de la Comunicación, Roma, Italia.\n",
    "\n",
    "Fuente: [UCI] (http://archive.ics.uci.edu/ml/datasets/steel+plates+faults)\n",
    "\n",
    "Cite: Conjunto de datos proporcionado por Semeion, Centro de Investigación de Ciencias de la Comunicación, Via Sersale 117, 00128, Roma, Italia.\n",
    "\n",
    "Conjunto de datos de fallas de placas de acero\n",
    "Un conjunto de datos de fallas de placas de acero, clasificadas en 7 tipos diferentes. El objetivo era entrenar el aprendizaje automático para el reconocimiento automático de patrones.\n",
    "\n",
    "El conjunto de datos consta de 27 características que describen cada falla (ubicación, tamaño, ...) y 7 características binarias que indican el tipo de falla (en 7: Pastelería, Z_Scratch, K_Scatch, Manchas, Suciedad, Golpes, Otras Fallas). Este último se usa comúnmente como un objetivo de clasificación binaria (falla 'común' u 'otra').\n",
    "\n",
    "### Información de atributos\n",
    "* V1: X_Minimum\n",
    "* V2: X_Maximum\n",
    "* V3: Y_Mínimo\n",
    "* V4: Y_ Máximo\n",
    "* V5: Pixels_Areas\n",
    "* V6: X_Perimeter\n",
    "* V7: Y_Perímetro\n",
    "* V8: Suma_de_Luminosidad\n",
    "* V9: Mínimo_de_Luminosidad\n",
    "* V10: Máxima_de_Luminosidad\n",
    "* V11: Longitud del transportador\n",
    "* V12: TypeOfSteel_A300\n",
    "* V13: TypeOfSteel_A400\n",
    "* V14: Steel_Plate_Thickness\n",
    "* V15: Edges_Index\n",
    "* V16: índice_vacío\n",
    "* V17: Square_Index\n",
    "* V18: Outside_X_Index\n",
    "* V19: Edges_X_Index\n",
    "* V20: Edges_Y_Index\n",
    "* V21: Outside_Global_Index\n",
    "* V22: LogOfAreas\n",
    "* V23: Log_X_Index\n",
    "* V24: Log_Y_Index\n",
    "* V25: Orientation_Index\n",
    "* V26: Índice de Luminosidad\n",
    "* V27: SigmoidOfAreas\n",
    "* V28: pastelería\n",
    "* V29: Z_Scratch\n",
    "* V30: K_Scatch\n",
    "* V31: manchas\n",
    "* V32: suciedad\n",
    "* V33: golpes\n",
    "* Class: Otros_Fallas\n",
    "\n",
    "### Documentos relevantes\n",
    "1.M Buscema, S Terzi, W Tastle, A New Meta-Classifier, en NAFIPS 2010, Toronto (CANADÁ), 26-28 de julio de 2010, 978-1-4244-7858-6 / 10 © 2010 IEEE\n",
    "2.M Buscema, MetaNet: The Theory of Independent Judges, in Substance Use & Maluse, 33 (2), 439-461,1998"
   ]
  },
  {
   "cell_type": "markdown",
   "metadata": {},
   "source": [
    "**Información**:\n",
    "\n",
    "1. Edad de la esposa (numérica)\n",
    "\n",
    "2. Educación de la esposa (categórica) 1 = baja, 2, 3, 4 = alta\n",
    "\n",
    "3. Educación del esposo (categórica) 1 = baja, 2, 3, 4 = alta\n",
    "\n",
    "4. Número de hijos nacidos (numérico)\n",
    "\n",
    "5. Religión de la esposa (binaria) 0 = No Islam, 1 = Islam\n",
    "\n",
    "6. ¿La esposa ahora está trabajando? (binario) 0 = Sí, 1 = No\n",
    "\n",
    "7. Ocupación del esposo (categórica) 1, 2, 3, 4\n",
    "\n",
    "8. Índice de nivel de vida (categórico) 1 = bajo, 2, 3, 4 = alto\n",
    "\n",
    "9. Exposición a los medios (binario) 0 = Bueno, 1 = No bueno\n",
    "\n",
    "10. Método anticonceptivo utilizado (atributo de clase) 1 = Sin uso, 2 = A largo plazo, 3 = A corto plazo"
   ]
  },
  {
   "cell_type": "code",
   "execution_count": 25,
   "metadata": {},
   "outputs": [
    {
     "name": "stdout",
     "output_type": "stream",
     "text": [
      "<class 'pandas.core.frame.DataFrame'>\n",
      "RangeIndex: 1941 entries, 0 to 1940\n",
      "Data columns (total 34 columns):\n",
      " #   Column  Non-Null Count  Dtype  \n",
      "---  ------  --------------  -----  \n",
      " 0   V1      1941 non-null   int64  \n",
      " 1   V2      1941 non-null   int64  \n",
      " 2   V3      1941 non-null   int64  \n",
      " 3   V4      1941 non-null   int64  \n",
      " 4   V5      1941 non-null   int64  \n",
      " 5   V6      1941 non-null   int64  \n",
      " 6   V7      1941 non-null   int64  \n",
      " 7   V8      1941 non-null   int64  \n",
      " 8   V9      1941 non-null   int64  \n",
      " 9   V10     1941 non-null   int64  \n",
      " 10  V11     1941 non-null   int64  \n",
      " 11  V12     1941 non-null   int64  \n",
      " 12  V13     1941 non-null   int64  \n",
      " 13  V14     1941 non-null   int64  \n",
      " 14  V15     1941 non-null   float64\n",
      " 15  V16     1941 non-null   float64\n",
      " 16  V17     1941 non-null   float64\n",
      " 17  V18     1941 non-null   float64\n",
      " 18  V19     1941 non-null   float64\n",
      " 19  V20     1941 non-null   float64\n",
      " 20  V21     1941 non-null   float64\n",
      " 21  V22     1941 non-null   float64\n",
      " 22  V23     1941 non-null   float64\n",
      " 23  V24     1941 non-null   float64\n",
      " 24  V25     1941 non-null   float64\n",
      " 25  V26     1941 non-null   float64\n",
      " 26  V27     1941 non-null   float64\n",
      " 27  V28     1941 non-null   int64  \n",
      " 28  V29     1941 non-null   int64  \n",
      " 29  V30     1941 non-null   int64  \n",
      " 30  V31     1941 non-null   int64  \n",
      " 31  V32     1941 non-null   int64  \n",
      " 32  V33     1941 non-null   int64  \n",
      " 33  Class   1941 non-null   int64  \n",
      "dtypes: float64(13), int64(21)\n",
      "memory usage: 515.7 KB\n"
     ]
    }
   ],
   "source": [
    "import numpy as np\n",
    "import pandas as pd\n",
    "\n",
    "df_fall_placa_acero = pd.read_csv('D:/Python/1. Nivel I/8/datos/php9xWOpn.csv',  sep=',')\n",
    "df_fall_placa_acero.info()"
   ]
  },
  {
   "cell_type": "markdown",
   "metadata": {},
   "source": [
    "Actividad\n",
    "1. Encontrar el numero de bins con la tecnica de Sturges\n",
    "2. Discretizacion por intervalos de igual amplitud de la variable \"V9\" (Grafico de Barras)\n",
    "3. Discretizacion por cuantil de la variable \"V19\" (Grafico de barras)\n",
    "4. Discretizacion por kmeans de la variable \"V15\" (Grafico de barras)"
   ]
  },
  {
   "cell_type": "code",
   "execution_count": 26,
   "metadata": {},
   "outputs": [],
   "source": [
    "columns_continuas = ['V1','V2','V3','V4','V5','V6','V7',\n",
    "    'V8','V9','V10','V11','V12','V13','V14','V15','V16','V17','V18','V19','V20'\n",
    "     ,'V21','V22','V23','V24','V25','V26','V27']"
   ]
  },
  {
   "cell_type": "markdown",
   "metadata": {},
   "source": [
    "\n",
    "[Ir a Inicio](#beginning)\n",
    "\n",
    "_____"
   ]
  }
 ],
 "metadata": {
  "kernelspec": {
   "display_name": "Python 3",
   "language": "python",
   "name": "python3"
  },
  "language_info": {
   "codemirror_mode": {
    "name": "ipython",
    "version": 3
   },
   "file_extension": ".py",
   "mimetype": "text/x-python",
   "name": "python",
   "nbconvert_exporter": "python",
   "pygments_lexer": "ipython3",
   "version": "3.7.6"
  }
 },
 "nbformat": 4,
 "nbformat_minor": 4
}
