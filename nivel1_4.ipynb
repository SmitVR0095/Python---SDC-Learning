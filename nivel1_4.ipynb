{
 "cells": [
  {
   "cell_type": "markdown",
   "metadata": {},
   "source": [
    "<center><img src=\"https://media-exp1.licdn.com/dms/image/C4E22AQEbIXZiRVkJPQ/feedshare-shrink_2048_1536/0?e=1602115200&v=beta&t=XHE3KbzKbKy54WYDTfq7VFNUPfNjoIOrjBw6dzFPTfA\" width=\"1000\"></center>"
   ]
  },
  {
   "cell_type": "markdown",
   "metadata": {},
   "source": [
    "# SDC Certified Program in Python for Data Analysis\n",
    "\n",
    "## Tema 4. Web Scraping\n",
    "\n",
    "### Prof. Manuel Sigüeñas, M.Sc.(c) \n",
    "\n",
    "[Perfil](https://socialdata-peru.com/learning/teacher2.php)\n",
    "\n",
    "### Prof. Lenguajes de Programación para Ciencia de Datos / Agile Data Scientists / SCRUMStudy Certified Trainer\n",
    "\n",
    "\n",
    "[msiguenas@socialdata-peru.com](msiguenas@socialdata-peru.com)"
   ]
  },
  {
   "cell_type": "markdown",
   "metadata": {},
   "source": [
    "<a id='beginning'></a>\n",
    "\n",
    "En esta sección veremos diversas opciones para recolectar data de web y redes sociales en Python:\n",
    "\n",
    "1. [¿Qué es Web Scraping?](#part1) \n",
    "2. [¿Por qué usar Web Scraping?](#part2) \n",
    "3. [Primeros pasos para Web Scraping](#part3) "
   ]
  },
  {
   "cell_type": "markdown",
   "metadata": {},
   "source": [
    "<a id='part1'></a>\n",
    "### 1.\t¿Qué es Web Scraping?"
   ]
  },
  {
   "cell_type": "markdown",
   "metadata": {},
   "source": [
    "Es una herramienta que permite descargar automáticamente, a través de nodos de los códigos de las páginas, la información deseada de la web."
   ]
  },
  {
   "cell_type": "markdown",
   "metadata": {},
   "source": [
    "[Ir a Inicio](#beginning)\n",
    "\n",
    "_____"
   ]
  },
  {
   "cell_type": "markdown",
   "metadata": {},
   "source": [
    "<a id='part2'></a>\n",
    "### 2.\t¿Por qué usar Web Scraping?"
   ]
  },
  {
   "cell_type": "markdown",
   "metadata": {},
   "source": [
    "- **Comparación de precios:** Servicios como ParseHub lo utilizan para recopilar datos de sitios web de compras en línea y para comparar los precios de los productos.\n",
    "- **Recopilación de direcciones de correo electrónico:** Muchas empresas que utilizan el correo electrónico como medio para la comercialización. Ellos usan Web Scraping para recopilar ID de correo electrónico y luego envían correos electrónicos masivos.\n",
    "- **En redes sociales:** Se utiliza para recopilar datos de sitios web de redes sociales como Twitter para descubrir las tendencias.\n",
    "- **Listados de trabajo:** Se recopilan detalles sobre ofertas de trabajo, entrevistas de diferentes sitios web y luego se enumeran en un solo lugar para que el usuario pueda acceder fácilmente.\n",
    "- **Investigación y desarrollo:** Para recopilar un gran conjunto de datos (estadísticas, información general, temperatura, etc.) de los sitios web, que se analizan y utilizan para realizar encuestas."
   ]
  },
  {
   "cell_type": "markdown",
   "metadata": {},
   "source": [
    "[Ir a Inicio](#beginning)\n",
    "\n",
    "_____"
   ]
  },
  {
   "cell_type": "markdown",
   "metadata": {},
   "source": [
    "<a id='part3'></a>\n",
    "### 3. Primeros pasos para Web Scraping"
   ]
  },
  {
   "cell_type": "markdown",
   "metadata": {},
   "source": [
    "La web es una fuente inagotable de información. "
   ]
  },
  {
   "cell_type": "markdown",
   "metadata": {},
   "source": [
    "Aunque..."
   ]
  },
  {
   "cell_type": "markdown",
   "metadata": {},
   "source": [
    "Depende de la legislación vigente. Debemos tener en cuenta que estos datos pueden estar protegidos por alguna legislación vigente."
   ]
  },
  {
   "cell_type": "markdown",
   "metadata": {},
   "source": [
    "#### Fuentes de datos"
   ]
  },
  {
   "cell_type": "markdown",
   "metadata": {},
   "source": [
    "- (a) API-REST\n",
    "- (b) Datos que forman parte de la página web\n",
    "- (c) Ficheros de datos incluidos en la web\n",
    "- (d) Datos que requieren iteracción"
   ]
  },
  {
   "cell_type": "markdown",
   "metadata": {},
   "source": [
    "#### URIs, URLs y URNs"
   ]
  },
  {
   "cell_type": "markdown",
   "metadata": {},
   "source": [
    "Estas tres palabras aparecen a menudo cuando se habla de página web, e interesa que tengamos una idea precisa de su significado"
   ]
  },
  {
   "cell_type": "markdown",
   "metadata": {},
   "source": [
    "**URI** (identificador de recurso uniforme): es un nombre, o formalmente una cadena de caracteres, que identifica un recurso de forma accesible dentro de una red: una página web, un fichero, etc. Su forma genéricas es:"
   ]
  },
  {
   "cell_type": "markdown",
   "metadata": {},
   "source": [
    "schema:[//[user[:passd]@]host[:port]][/path][?query][#tag]"
   ]
  },
  {
   "cell_type": "markdown",
   "metadata": {},
   "source": [
    "donde las partes entre corchetes son opcionales. El esquema inicial indica la \"codificación\" de la URI por ejemplo \"http:\". Después vienen opcionalmente, un nombre de usuario y su palabra clave, seguidos de un nombre del host, el ordenar al que nos conectamos, o su correspondiente IP y un puerto de acceso. A toda esta parte de la URI con forma schema:[//[user[:passd]@]host[:port] se le conoce como autoridad.  Después viene la ruta (path), que es una secuencia de nombres separadas por ya sea por los símbolos \"/\" o \":\". Finalmente puede incluirse una posible consulta (query). y una etiqueta (tag) para acceder a un lugar concreto del documento. Un ejemplo de URI sería:"
   ]
  },
  {
   "cell_type": "markdown",
   "metadata": {},
   "source": [
    "https://en.wikipedia.org/wiki/Python_(programming_language)"
   ]
  },
  {
   "cell_type": "markdown",
   "metadata": {},
   "source": [
    "Las URIs se suelen dividir en dos tipos: URLs y URNs. Las **URLs** (localizador del recurso uniforme), a menudo conocidas simplemente como dirección web, sirven para especificar un recurso en la red mediante su localización y una forma o protocolo que permite recuperarlo. Un ejemplo de URL sería:"
   ]
  },
  {
   "cell_type": "markdown",
   "metadata": {},
   "source": [
    "https://socialdata-peru.com/"
   ]
  },
  {
   "cell_type": "markdown",
   "metadata": {},
   "source": [
    "Las **URN** (nombre de recurso uniforme), identifica un recurso, identifica un recurso pero no tiene que incluir ninguna forma de localizarlos. Un ejemplo puede ser:"
   ]
  },
  {
   "cell_type": "markdown",
   "metadata": {},
   "source": [
    "isbn:0-391-31341-0"
   ]
  },
  {
   "cell_type": "markdown",
   "metadata": {},
   "source": [
    "Dado que en este taller estamos interesados en acceder a recursos, y por tanto necesitaremos su localización, usaremos a partir de ahora únicamente URLs."
   ]
  },
  {
   "cell_type": "markdown",
   "metadata": {},
   "source": [
    "[Ir a Inicio](#beginning)\n",
    "\n",
    "_____"
   ]
  }
 ],
 "metadata": {
  "kernelspec": {
   "display_name": "Python 3",
   "language": "python",
   "name": "python3"
  },
  "language_info": {
   "codemirror_mode": {
    "name": "ipython",
    "version": 3
   },
   "file_extension": ".py",
   "mimetype": "text/x-python",
   "name": "python",
   "nbconvert_exporter": "python",
   "pygments_lexer": "ipython3",
   "version": "3.7.6"
  }
 },
 "nbformat": 4,
 "nbformat_minor": 2
}
